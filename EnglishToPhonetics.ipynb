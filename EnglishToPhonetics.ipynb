{
  "cells": [
    {
      "cell_type": "markdown",
      "metadata": {
        "id": "view-in-github",
        "colab_type": "text"
      },
      "source": [
        "<a href=\"https://colab.research.google.com/github/BucketofJava/EnglishToPhonetics/blob/main/EnglishToPhonetics.ipynb\" target=\"_parent\"><img src=\"https://colab.research.google.com/assets/colab-badge.svg\" alt=\"Open In Colab\"/></a>"
      ]
    },
    {
      "cell_type": "markdown",
      "metadata": {
        "id": "dLsr6acxcRT4"
      },
      "source": [
        "#English to Phonetics"
      ]
    },
    {
      "cell_type": "markdown",
      "metadata": {
        "id": "Vyb2aC40cKBQ"
      },
      "source": [
        "####Imports"
      ]
    },
    {
      "cell_type": "code",
      "execution_count": null,
      "metadata": {
        "colab": {
          "base_uri": "https://localhost:8080/"
        },
        "id": "HVliALweASuJ",
        "outputId": "a3ea6c0b-7d63-458c-aa80-853332db012e"
      },
      "outputs": [
        {
          "output_type": "stream",
          "name": "stdout",
          "text": [
            "Looking in indexes: https://pypi.org/simple, https://us-python.pkg.dev/colab-wheels/public/simple/\n",
            "Collecting torchinfo\n",
            "  Downloading torchinfo-1.7.1-py3-none-any.whl (22 kB)\n",
            "Installing collected packages: torchinfo\n",
            "Successfully installed torchinfo-1.7.1\n"
          ]
        }
      ],
      "source": [
        "!pip install torchinfo"
      ]
    },
    {
      "cell_type": "code",
      "execution_count": null,
      "metadata": {
        "id": "87tmCEn6cAu8"
      },
      "outputs": [],
      "source": [
        "import urllib.request as URL\n",
        "import pandas as pd\n",
        "import matplotlib.pyplot as plt\n",
        "import numpy as np\n",
        "import tensorflow as tf\n",
        "from tensorflow.keras.layers import *\n",
        "from tensorflow.keras.models import Sequential\n",
        "from keras.preprocessing.text import Tokenizer\n",
        "import keras.preprocessing.sequence as kps\n",
        "from torch import nn;\n",
        "from torch import Tensor;\n",
        "from torch import optim;\n",
        "from torch import reshape, argmax;\n",
        "from torch.autograd import Variable\n",
        "from torch.utils.data import TensorDataset, DataLoader;\n",
        "from torchinfo import summary;\n",
        "import torch.cuda\n"
      ]
    },
    {
      "cell_type": "code",
      "execution_count": null,
      "metadata": {
        "id": "QuagXgQCXCOc"
      },
      "outputs": [],
      "source": [
        "device = \"cuda\" if torch.cuda.is_available() else \"cpu\""
      ]
    },
    {
      "cell_type": "markdown",
      "metadata": {
        "id": "yhGDQKh0Nhym"
      },
      "source": [
        "##Data Processing"
      ]
    },
    {
      "cell_type": "markdown",
      "metadata": {
        "id": "3xozjZL8cmfC"
      },
      "source": [
        "####Fetching Data"
      ]
    },
    {
      "cell_type": "code",
      "execution_count": null,
      "metadata": {
        "id": "_Z9TjthmcsjB"
      },
      "outputs": [],
      "source": [
        "dictionary_url=\"https://github.com/cmusphinx/cmudict/raw/master/\"\n",
        "dictionary_fileName=\"cmudict.dict\"\n",
        "URL.urlretrieve(dictionary_url+dictionary_fileName, dictionary_fileName)\n",
        "dict_file=\"/content/\"+dictionary_fileName"
      ]
    },
    {
      "cell_type": "code",
      "execution_count": null,
      "metadata": {
        "id": "oVosSqlrNi4F"
      },
      "outputs": [],
      "source": []
    },
    {
      "cell_type": "code",
      "execution_count": null,
      "metadata": {
        "colab": {
          "base_uri": "https://localhost:8080/"
        },
        "id": "RyOfRoS-fAw-",
        "outputId": "556d4a8f-3354-4429-d9f8-a00d459d53d4"
      },
      "outputs": [
        {
          "output_type": "stream",
          "name": "stdout",
          "text": [
            "[[\"'bout\", 'SOS', 'B', 'AW1', 'T', 'EOS'], [\"'cause\", 'SOS', 'K', 'AH0', 'Z', 'EOS'], [\"'course\", 'SOS', 'K', 'AO1', 'R', 'S', 'EOS'], [\"'cuse\", 'SOS', 'K', 'Y', 'UW1', 'Z', 'EOS'], [\"'em\", 'SOS', 'AH0', 'M', 'EOS'], [\"'frisco\", 'SOS', 'F', 'R', 'IH1', 'S', 'K', 'OW0', 'EOS'], [\"'gain\", 'SOS', 'G', 'EH1', 'N', 'EOS'], [\"'kay\", 'SOS', 'K', 'EY1', 'EOS'], [\"'m\", 'SOS', 'AH0', 'M', 'EOS'], [\"'n\", 'SOS', 'AH0', 'N', 'EOS'], [\"'round\", 'SOS', 'R', 'AW1', 'N', 'D', 'EOS'], [\"'s\", 'SOS', 'EH1', 'S', 'EOS'], [\"'til\", 'SOS', 'T', 'IH1', 'L', 'EOS'], [\"'tis\", 'SOS', 'T', 'IH1', 'Z', 'EOS'], [\"'twas\", 'SOS', 'T', 'W', 'AH1', 'Z', 'EOS'], ['a', 'SOS', 'AH0', 'EOS'], ['a(2)', 'SOS', 'EY1', 'EOS'], [\"a's\", 'SOS', 'EY1', 'Z', 'EOS'], ['a.', 'SOS', 'EY1', 'EOS'], [\"a.'s\", 'SOS', 'EY1', 'Z', 'EOS'], ['a.d.', 'SOS', 'EY2', 'D', 'IY1', 'EOS'], ['a.m.', 'SOS', 'EY2', 'EH1', 'M', 'EOS'], ['a.s', 'SOS', 'EY1', 'Z', 'EOS'], ['aaa', 'SOS', 'T', 'R', 'IH2', 'P', 'AH0', 'L', 'EY1', 'EOS'], ['aaberg', 'SOS', 'AA1', 'B', 'ER0', 'G', 'EOS'], ['aachen', 'SOS', 'AA1', 'K', 'AH0', 'N', 'EOS'], ['aachener', 'SOS', 'AA1', 'K', 'AH0', 'N', 'ER0', 'EOS'], ['aaker', 'SOS', 'AA1', 'K', 'ER0', 'EOS'], ['aalborg', 'SOS', 'AO1', 'L', 'B', 'AO0', 'R', 'G', '#', 'place,', 'danish', 'EOS'], ['aalborg(2)', 'SOS', 'AA1', 'L', 'B', 'AO0', 'R', 'G', 'EOS'], ['aalburg', 'SOS', 'AE1', 'L', 'B', 'ER0', 'G', '#', 'place,', 'dutch', 'EOS'], ['aalen', 'SOS', 'AE1', 'L', 'AH0', 'N', '#', 'place,', 'german', 'EOS'], ['aalen(2)', 'SOS', 'AA1', 'L', 'AH0', 'N', 'EOS'], ['aaliyah', 'SOS', 'AA2', 'L', 'IY1', 'AA2', 'EOS'], ['aalseth', 'SOS', 'AA1', 'L', 'S', 'EH0', 'TH', 'EOS'], ['aalsmeer', 'SOS', 'AA1', 'L', 'S', 'M', 'IH0', 'R', '#', 'place,', 'dutch', 'EOS'], ['aalto', 'SOS', 'AA1', 'L', 'T', 'OW2', '#', 'name,', 'finnish', 'EOS'], ['aamodt', 'SOS', 'AA1', 'M', 'AH0', 'T', 'EOS'], ['aancor', 'SOS', 'AA1', 'N', 'K', 'AO2', 'R', 'EOS'], ['aardema', 'SOS', 'AA0', 'R', 'D', 'EH1', 'M', 'AH0', 'EOS'], ['aardvark', 'SOS', 'AA1', 'R', 'D', 'V', 'AA2', 'R', 'K', 'EOS'], ['aardvarks', 'SOS', 'AA1', 'R', 'D', 'V', 'AA2', 'R', 'K', 'S', 'EOS'], ['aargh', 'SOS', 'AA1', 'R', 'G', 'EOS'], ['aarhus', 'SOS', 'AA2', 'HH', 'UW1', 'S', 'EOS'], ['aaron', 'SOS', 'EH1', 'R', 'AH0', 'N', 'EOS'], [\"aaron's\", 'SOS', 'EH1', 'R', 'AH0', 'N', 'Z', 'EOS'], ['aarons', 'SOS', 'EH1', 'R', 'AH0', 'N', 'Z', 'EOS'], ['aaronson', 'SOS', 'EH1', 'R', 'AH0', 'N', 'S', 'AH0', 'N', 'EOS'], ['aaronson(2)', 'SOS', 'AA1', 'R', 'AH0', 'N', 'S', 'AH0', 'N', 'EOS'], [\"aaronson's\", 'SOS', 'EH1', 'R', 'AH0', 'N', 'S', 'AH0', 'N', 'Z', 'EOS'], [\"aaronson's(2)\", 'SOS', 'AA1', 'R', 'AH0', 'N', 'S', 'AH0', 'N', 'Z', 'EOS'], ['aarti', 'SOS', 'AA1', 'R', 'T', 'IY2', 'EOS'], ['aase', 'SOS', 'AA1', 'S', 'EOS'], ['aasen', 'SOS', 'AA1', 'S', 'AH0', 'N', 'EOS'], ['ab', 'SOS', 'AE1', 'B', 'EOS'], ['ab(2)', 'SOS', 'EY1', 'B', 'IY1', 'EOS'], ['aba', 'SOS', 'EY2', 'B', 'IY2', 'EY1', 'EOS'], ['ababa', 'SOS', 'AH0', 'B', 'AA1', 'B', 'AH0', 'EOS'], ['ababa(2)', 'SOS', 'AA1', 'B', 'AH0', 'B', 'AH0', 'EOS'], ['abacha', 'SOS', 'AE1', 'B', 'AH0', 'K', 'AH0', 'EOS'], ['aback', 'SOS', 'AH0', 'B', 'AE1', 'K', 'EOS'], ['abaco', 'SOS', 'AE1', 'B', 'AH0', 'K', 'OW2', 'EOS'], ['abacus', 'SOS', 'AE1', 'B', 'AH0', 'K', 'AH0', 'S', 'EOS'], ['abad', 'SOS', 'AH0', 'B', 'AA1', 'D', 'EOS'], ['abadaka', 'SOS', 'AH0', 'B', 'AE1', 'D', 'AH0', 'K', 'AH0', 'EOS'], ['abadi', 'SOS', 'AH0', 'B', 'AE1', 'D', 'IY0', 'EOS'], ['abadie', 'SOS', 'AH0', 'B', 'AE1', 'D', 'IY0', 'EOS'], ['abair', 'SOS', 'AH0', 'B', 'EH1', 'R', 'EOS'], ['abalkin', 'SOS', 'AH0', 'B', 'AA1', 'L', 'K', 'IH0', 'N', 'EOS'], ['abalone', 'SOS', 'AE2', 'B', 'AH0', 'L', 'OW1', 'N', 'IY0', 'EOS'], ['abalones', 'SOS', 'AE2', 'B', 'AH0', 'L', 'OW1', 'N', 'IY0', 'Z', 'EOS'], ['abalos', 'SOS', 'AA0', 'B', 'AA1', 'L', 'OW0', 'Z', 'EOS'], ['abandon', 'SOS', 'AH0', 'B', 'AE1', 'N', 'D', 'AH0', 'N', 'EOS'], ['abandoned', 'SOS', 'AH0', 'B', 'AE1', 'N', 'D', 'AH0', 'N', 'D', 'EOS'], ['abandoning', 'SOS', 'AH0', 'B', 'AE1', 'N', 'D', 'AH0', 'N', 'IH0', 'NG', 'EOS'], ['abandonment', 'SOS', 'AH0', 'B', 'AE1', 'N', 'D', 'AH0', 'N', 'M', 'AH0', 'N', 'T', 'EOS'], ['abandonments', 'SOS', 'AH0', 'B', 'AE1', 'N', 'D', 'AH0', 'N', 'M', 'AH0', 'N', 'T', 'S', 'EOS'], ['abandons', 'SOS', 'AH0', 'B', 'AE1', 'N', 'D', 'AH0', 'N', 'Z', 'EOS'], ['abanto', 'SOS', 'AH0', 'B', 'AE1', 'N', 'T', 'OW0', 'EOS'], ['abarca', 'SOS', 'AH0', 'B', 'AA1', 'R', 'K', 'AH0', 'EOS'], ['abare', 'SOS', 'AA0', 'B', 'AA1', 'R', 'IY0', 'EOS'], ['abascal', 'SOS', 'AE1', 'B', 'AH0', 'S', 'K', 'AH0', 'L', 'EOS'], ['abash', 'SOS', 'AH0', 'B', 'AE1', 'SH', 'EOS'], ['abashed', 'SOS', 'AH0', 'B', 'AE1', 'SH', 'T', 'EOS'], ['abasia', 'SOS', 'AH0', 'B', 'EY1', 'ZH', 'Y', 'AH0', 'EOS'], ['abate', 'SOS', 'AH0', 'B', 'EY1', 'T', 'EOS'], ['abated', 'SOS', 'AH0', 'B', 'EY1', 'T', 'IH0', 'D', 'EOS'], ['abatement', 'SOS', 'AH0', 'B', 'EY1', 'T', 'M', 'AH0', 'N', 'T', 'EOS'], ['abatements', 'SOS', 'AH0', 'B', 'EY1', 'T', 'M', 'AH0', 'N', 'T', 'S', 'EOS'], ['abates', 'SOS', 'AH0', 'B', 'EY1', 'T', 'S', 'EOS'], ['abating', 'SOS', 'AH0', 'B', 'EY1', 'T', 'IH0', 'NG', 'EOS'], ['abattoir', 'SOS', 'AE2', 'B', 'AH0', 'T', 'W', 'AA1', 'R', 'EOS'], ['abba', 'SOS', 'AE1', 'B', 'AH0', 'EOS'], ['abbado', 'SOS', 'AH0', 'B', 'AA1', 'D', 'OW0', 'EOS'], ['abbas', 'SOS', 'AH0', 'B', 'AA1', 'S', 'EOS'], ['abbasi', 'SOS', 'AA0', 'B', 'AA1', 'S', 'IY0', 'EOS'], ['abbate', 'SOS', 'AA1', 'B', 'EY0', 'T', 'EOS'], ['abbatiello', 'SOS', 'AA0', 'B', 'AA0', 'T', 'IY0', 'EH1', 'L', 'OW0', 'EOS'], ['abbe', 'SOS', 'AE1', 'B', 'IY0', 'EOS'], ['abbe(2)', 'SOS', 'AE0', 'B', 'EY1', 'EOS'], ['abbenhaus', 'SOS', 'AE1', 'B', 'AH0', 'N', 'HH', 'AW2', 'S', 'EOS'], ['abbett', 'SOS', 'AH0', 'B', 'EH1', 'T', 'EOS'], ['abbeville', 'SOS', 'AE1', 'B', 'V', 'IH0', 'L', 'EOS'], ['abbey', 'SOS', 'AE1', 'B', 'IY0', 'EOS'], [\"abbey's\", 'SOS', 'AE1', 'B', 'IY0', 'Z', 'EOS'], ['abbie', 'SOS', 'AE1', 'B', 'IY0', 'EOS'], ['abbitt', 'SOS', 'AE1', 'B', 'IH0', 'T', 'EOS'], ['abbot', 'SOS', 'AE1', 'B', 'AH0', 'T', 'EOS'], ['abbotstown', 'SOS', 'AE1', 'B', 'AH0', 'T', 'S', 'T', 'AW1', 'N', 'EOS'], ['abbott', 'SOS', 'AE1', 'B', 'AH0', 'T', 'EOS'], [\"abbott's\", 'SOS', 'AE1', 'B', 'AH0', 'T', 'S', 'EOS'], ['abbottstown', 'SOS', 'AE1', 'B', 'AH0', 'T', 'S', 'T', 'AW1', 'N', 'EOS'], ['abboud', 'SOS', 'AH0', 'B', 'UW1', 'D', 'EOS'], ['abboud(2)', 'SOS', 'AH0', 'B', 'AW1', 'D', 'EOS'], ['abbreviate', 'SOS', 'AH0', 'B', 'R', 'IY1', 'V', 'IY0', 'EY2', 'T', 'EOS'], ['abbreviated', 'SOS', 'AH0', 'B', 'R', 'IY1', 'V', 'IY0', 'EY2', 'T', 'IH0', 'D', 'EOS'], ['abbreviates', 'SOS', 'AH0', 'B', 'R', 'IY1', 'V', 'IY0', 'EY2', 'T', 'S', 'EOS'], ['abbreviating', 'SOS', 'AH0', 'B', 'R', 'IY1', 'V', 'IY0', 'EY2', 'T', 'IH0', 'NG', 'EOS'], ['abbreviation', 'SOS', 'AH0', 'B', 'R', 'IY2', 'V', 'IY0', 'EY1', 'SH', 'AH0', 'N', 'EOS'], ['abbreviations', 'SOS', 'AH0', 'B', 'R', 'IY2', 'V', 'IY0', 'EY1', 'SH', 'AH0', 'N', 'Z', 'EOS'], ['abbruzzese', 'SOS', 'AA0', 'B', 'R', 'UW0', 'T', 'S', 'EY1', 'Z', 'IY0', 'EOS'], ['abbs', 'SOS', 'AE1', 'B', 'Z', 'EOS'], ['abby', 'SOS', 'AE1', 'B', 'IY0', 'EOS'], ['abc', 'SOS', 'EY1', 'B', 'IY2', 'S', 'IY2', 'EOS'], [\"abc's\", 'SOS', 'EY1', 'B', 'IY2', 'S', 'IY2', 'Z', 'EOS'], ['abco', 'SOS', 'AE1', 'B', 'K', 'OW0', 'EOS'], ['abcotek', 'SOS', 'AE1', 'B', 'K', 'OW0', 'T', 'EH2', 'K', 'EOS'], ['abcs', 'SOS', 'EY1', 'B', 'IY2', 'S', 'IY2', 'Z', 'EOS'], ['abd', 'SOS', 'EY2', 'B', 'IY2', 'D', 'IY1', 'EOS'], ['abdalla', 'SOS', 'AE2', 'B', 'D', 'AE1', 'L', 'AH0', 'EOS'], ['abdallah', 'SOS', 'AE2', 'B', 'D', 'AE1', 'L', 'AH0', 'EOS'], ['abdel', 'SOS', 'AE1', 'B', 'D', 'EH2', 'L', 'EOS'], ['abdella', 'SOS', 'AE2', 'B', 'D', 'EH1', 'L', 'AH0', 'EOS'], ['abdicate', 'SOS', 'AE1', 'B', 'D', 'AH0', 'K', 'EY2', 'T', 'EOS'], ['abdicated', 'SOS', 'AE1', 'B', 'D', 'AH0', 'K', 'EY2', 'T', 'IH0', 'D', 'EOS'], ['abdicates', 'SOS', 'AE1', 'B', 'D', 'AH0', 'K', 'EY2', 'T', 'S', 'EOS'], ['abdicating', 'SOS', 'AE1', 'B', 'D', 'IH0', 'K', 'EY2', 'T', 'IH0', 'NG', 'EOS'], ['abdication', 'SOS', 'AE2', 'B', 'D', 'IH0', 'K', 'EY1', 'SH', 'AH0', 'N', 'EOS'], ['abdnor', 'SOS', 'AE1', 'B', 'D', 'N', 'ER0', 'EOS'], ['abdo', 'SOS', 'AE1', 'B', 'D', 'OW0', 'EOS'], ['abdollah', 'SOS', 'AE2', 'B', 'D', 'AA1', 'L', 'AH0', 'EOS'], ['abdomen', 'SOS', 'AE0', 'B', 'D', 'OW1', 'M', 'AH0', 'N', 'EOS'], ['abdomen(2)', 'SOS', 'AE1', 'B', 'D', 'AH0', 'M', 'AH0', 'N', 'EOS'], ['abdominal', 'SOS', 'AE0', 'B', 'D', 'AA1', 'M', 'AH0', 'N', 'AH0', 'L', 'EOS'], ['abdominal(2)', 'SOS', 'AH0', 'B', 'D', 'AA1', 'M', 'AH0', 'N', 'AH0', 'L', 'EOS'], ['abduct', 'SOS', 'AE0', 'B', 'D', 'AH1', 'K', 'T', 'EOS'], ['abducted', 'SOS', 'AE0', 'B', 'D', 'AH1', 'K', 'T', 'IH0', 'D', 'EOS'], ['abducted(2)', 'SOS', 'AH0', 'B', 'D', 'AH1', 'K', 'T', 'IH0', 'D', 'EOS'], ['abductee', 'SOS', 'AE0', 'B', 'D', 'AH2', 'K', 'T', 'IY1', 'EOS'], ['abductees', 'SOS', 'AE0', 'B', 'D', 'AH2', 'K', 'T', 'IY1', 'Z', 'EOS'], ['abducting', 'SOS', 'AE0', 'B', 'D', 'AH1', 'K', 'T', 'IH0', 'NG', 'EOS'], ['abducting(2)', 'SOS', 'AH0', 'B', 'D', 'AH1', 'K', 'T', 'IH0', 'NG', 'EOS'], ['abduction', 'SOS', 'AE0', 'B', 'D', 'AH1', 'K', 'SH', 'AH0', 'N', 'EOS'], ['abduction(2)', 'SOS', 'AH0', 'B', 'D', 'AH1', 'K', 'SH', 'AH0', 'N', 'EOS'], ['abductions', 'SOS', 'AE0', 'B', 'D', 'AH1', 'K', 'SH', 'AH0', 'N', 'Z', 'EOS'], ['abductions(2)', 'SOS', 'AH0', 'B', 'D', 'AH1', 'K', 'SH', 'AH0', 'N', 'Z', 'EOS'], ['abductor', 'SOS', 'AE0', 'B', 'D', 'AH1', 'K', 'T', 'ER0', 'EOS'], ['abductor(2)', 'SOS', 'AH0', 'B', 'D', 'AH1', 'K', 'T', 'ER0', 'EOS'], ['abductors', 'SOS', 'AE0', 'B', 'D', 'AH1', 'K', 'T', 'ER0', 'Z', 'EOS'], ['abductors(2)', 'SOS', 'AH0', 'B', 'D', 'AH1', 'K', 'T', 'ER0', 'Z', 'EOS'], ['abducts', 'SOS', 'AE0', 'B', 'D', 'AH1', 'K', 'T', 'S', 'EOS'], ['abdul', 'SOS', 'AE0', 'B', 'D', 'UW1', 'L', 'EOS'], ['abdulaziz', 'SOS', 'AE0', 'B', 'D', 'UW2', 'L', 'AH0', 'Z', 'IY1', 'Z', 'EOS'], ['abdulla', 'SOS', 'AA0', 'B', 'D', 'UW1', 'L', 'AH0', 'EOS'], ['abdullah', 'SOS', 'AE2', 'B', 'D', 'AH1', 'L', 'AH0', 'EOS'], ['abe', 'SOS', 'EY1', 'B', 'EOS'], ['abed', 'SOS', 'AH0', 'B', 'EH1', 'D', 'EOS'], ['abedi', 'SOS', 'AH0', 'B', 'EH1', 'D', 'IY0', 'EOS'], ['abee', 'SOS', 'AH0', 'B', 'IY1', 'EOS'], ['abel', 'SOS', 'EY1', 'B', 'AH0', 'L', 'EOS'], ['abela', 'SOS', 'AA0', 'B', 'EH1', 'L', 'AH0', 'EOS'], ['abelard', 'SOS', 'AE1', 'B', 'IH0', 'L', 'ER0', 'D', 'EOS'], ['abele', 'SOS', 'AH0', 'B', 'EH1', 'L', 'EOS'], ['abeles', 'SOS', 'AH0', 'B', 'EH1', 'L', 'Z', 'EOS'], ['abeles(2)', 'SOS', 'EY1', 'B', 'AH0', 'L', 'IY2', 'Z', 'EOS'], ['abell', 'SOS', 'EY1', 'B', 'AH0', 'L', 'EOS'], ['abella', 'SOS', 'AH0', 'B', 'EH1', 'L', 'AH0', 'EOS'], ['abeln', 'SOS', 'AE1', 'B', 'IH0', 'L', 'N', 'EOS'], ['abelow', 'SOS', 'AE1', 'B', 'AH0', 'L', 'OW0', 'EOS'], ['abels', 'SOS', 'EY1', 'B', 'AH0', 'L', 'Z', 'EOS'], ['abelson', 'SOS', 'AE1', 'B', 'IH0', 'L', 'S', 'AH0', 'N', 'EOS'], ['abend', 'SOS', 'AE1', 'B', 'EH0', 'N', 'D', 'EOS'], ['abend(2)', 'SOS', 'AH0', 'B', 'EH1', 'N', 'D', 'EOS'], ['abendroth', 'SOS', 'AE1', 'B', 'IH0', 'N', 'D', 'R', 'AO0', 'TH', 'EOS'], ['aber', 'SOS', 'EY1', 'B', 'ER0', 'EOS'], ['abercrombie', 'SOS', 'AE2', 'B', 'ER0', 'K', 'R', 'AA1', 'M', 'B', 'IY0', 'EOS'], ['aberdeen', 'SOS', 'AE1', 'B', 'ER0', 'D', 'IY2', 'N', 'EOS'], ['aberford', 'SOS', 'EY1', 'B', 'ER0', 'F', 'ER0', 'D', 'EOS'], ['aberg', 'SOS', 'AE1', 'B', 'ER0', 'G', 'EOS'], ['aberle', 'SOS', 'AE1', 'B', 'ER0', 'AH0', 'L', 'EOS'], ['aberle(2)', 'SOS', 'AE1', 'B', 'ER0', 'L', 'EOS'], ['abermin', 'SOS', 'AE1', 'B', 'ER0', 'M', 'IH0', 'N', 'EOS'], ['abernathy', 'SOS', 'AE1', 'B', 'ER0', 'N', 'AE2', 'TH', 'IY0', 'EOS'], ['abernethy', 'SOS', 'AE1', 'B', 'ER0', 'N', 'EH2', 'TH', 'IY0', 'EOS'], ['aberrant', 'SOS', 'AE0', 'B', 'EH1', 'R', 'AH0', 'N', 'T', 'EOS'], ['aberration', 'SOS', 'AE2', 'B', 'ER0', 'EY1', 'SH', 'AH0', 'N', 'EOS'], ['aberrational', 'SOS', 'AE2', 'B', 'ER0', 'EY1', 'SH', 'AH0', 'N', 'AH0', 'L', 'EOS'], ['aberrations', 'SOS', 'AE2', 'B', 'ER0', 'EY1', 'SH', 'AH0', 'N', 'Z', 'EOS'], ['abert', 'SOS', 'AE1', 'B', 'ER0', 'T', 'EOS'], ['abet', 'SOS', 'AH0', 'B', 'EH1', 'T', 'EOS'], ['abetted', 'SOS', 'AH0', 'B', 'EH1', 'T', 'IH0', 'D', 'EOS'], ['abetting', 'SOS', 'AH0', 'B', 'EH1', 'T', 'IH0', 'NG', 'EOS'], ['abex', 'SOS', 'EY1', 'B', 'EH0', 'K', 'S', 'EOS'], ['abeyance', 'SOS', 'AH0', 'B', 'EY1', 'AH0', 'N', 'S', 'EOS'], ['abeyta', 'SOS', 'AA0', 'B', 'EY1', 'T', 'AH0', 'EOS'], ['abhor', 'SOS', 'AE0', 'B', 'HH', 'AO1', 'R', 'EOS'], ['abhorred', 'SOS', 'AH0', 'B', 'HH', 'AO1', 'R', 'D', 'EOS'], ['abhorrence', 'SOS', 'AH0', 'B', 'HH', 'AO1', 'R', 'AH0', 'N', 'S', 'EOS'], ['abhorrent', 'SOS', 'AE0', 'B', 'HH', 'AO1', 'R', 'AH0', 'N', 'T', 'EOS'], ['abhors', 'SOS', 'AH0', 'B', 'HH', 'AO1', 'R', 'Z', 'EOS'], ['abiam', 'SOS', 'EY1', 'B', 'IY0', 'AH0', 'M', 'EOS'], [\"abiam's\", 'SOS', 'EY1', 'B', 'IY0', 'AH0', 'M', 'Z', 'EOS'], ['abid', 'SOS', 'EY1', 'B', 'IH0', 'D', 'EOS'], ['abide', 'SOS', 'AH0', 'B', 'AY1', 'D', 'EOS'], ['abided', 'SOS', 'AH0', 'B', 'AY1', 'D', 'IH0', 'D', 'EOS'], ['abides', 'SOS', 'AH0', 'B', 'AY1', 'D', 'Z', 'EOS'], ['abiding', 'SOS', 'AH0', 'B', 'AY1', 'D', 'IH0', 'NG', 'EOS'], ['abidjan', 'SOS', 'AE0', 'B', 'IH0', 'JH', 'AA1', 'N', 'EOS'], ['abie', 'SOS', 'AE1', 'B', 'IY0', 'EOS'], ['abigail', 'SOS', 'AE1', 'B', 'AH0', 'G', 'EY2', 'L', 'EOS'], ['abila', 'SOS', 'AA0', 'B', 'IY1', 'L', 'AH0', 'EOS'], ['abilene', 'SOS', 'AE1', 'B', 'IH0', 'L', 'IY2', 'N', 'EOS'], ['abilities', 'SOS', 'AH0', 'B', 'IH1', 'L', 'AH0', 'T', 'IY2', 'Z', 'EOS'], ['ability', 'SOS', 'AH0', 'B', 'IH1', 'L', 'AH0', 'T', 'IY2', 'EOS'], ['abimael', 'SOS', 'AE2', 'B', 'IH0', 'M', 'EY1', 'L', 'EOS'], ['abimaels', 'SOS', 'AE2', 'B', 'IH0', 'M', 'EY1', 'L', 'Z', 'EOS'], ['abingdon', 'SOS', 'AE1', 'B', 'IH0', 'NG', 'D', 'AH0', 'N', 'EOS'], ['abington', 'SOS', 'AE1', 'B', 'IH0', 'NG', 'T', 'AH0', 'N', 'EOS'], ['abio', 'SOS', 'AA1', 'B', 'IY0', 'OW0', 'EOS'], ['abiola', 'SOS', 'AA2', 'B', 'IY0', 'OW1', 'L', 'AH0', 'EOS'], [\"abiola's\", 'SOS', 'AA2', 'B', 'IY0', 'OW1', 'L', 'AH0', 'Z', 'EOS'], ['abiomed', 'SOS', 'EY0', 'B', 'IY1', 'AH0', 'M', 'EH0', 'D', 'EOS'], ['abiquiu', 'SOS', 'AH0', 'B', 'IH1', 'K', 'Y', 'UW0', 'EOS'], ['abitibi', 'SOS', 'AE2', 'B', 'IH0', 'T', 'IY1', 'B', 'IY0', 'EOS'], ['abitz', 'SOS', 'AE1', 'B', 'IH0', 'T', 'S', 'EOS'], ['abject', 'SOS', 'AE1', 'B', 'JH', 'EH0', 'K', 'T', 'EOS'], ['abkhazia', 'SOS', 'AE0', 'B', 'K', 'AA1', 'Z', 'Y', 'AH0', 'EOS'], ['abkhazia(2)', 'SOS', 'AE0', 'B', 'K', 'AE1', 'Z', 'Y', 'AH0', 'EOS'], ['abkhazian', 'SOS', 'AE0', 'B', 'K', 'AA1', 'Z', 'IY0', 'AH0', 'N', 'EOS'], ['abkhazian(2)', 'SOS', 'AE0', 'B', 'K', 'AE1', 'Z', 'IY0', 'AH0', 'N', 'EOS'], ['abkhazian(3)', 'SOS', 'AE0', 'B', 'K', 'AA1', 'Z', 'Y', 'AH0', 'N', 'EOS'], ['abkhazian(4)', 'SOS', 'AE0', 'B', 'K', 'AE1', 'Z', 'Y', 'AH0', 'N', 'EOS'], ['abkhazians', 'SOS', 'AE0', 'B', 'K', 'AA1', 'Z', 'IY0', 'AH0', 'N', 'Z', 'EOS'], ['abkhazians(2)', 'SOS', 'AE0', 'B', 'K', 'AE1', 'Z', 'IY0', 'AH0', 'N', 'Z', 'EOS'], ['ablate', 'SOS', 'AH2', 'B', 'L', 'EY1', 'T', 'EOS'], ['ablation', 'SOS', 'AH2', 'B', 'L', 'EY1', 'SH', 'AH0', 'N', 'EOS'], ['ablaze', 'SOS', 'AH0', 'B', 'L', 'EY1', 'Z', 'EOS'], ['able', 'SOS', 'EY1', 'B', 'AH0', 'L', 'EOS'], ['able-bodied', 'SOS', 'EY1', 'B', 'AH0', 'L', 'B', 'AA1', 'D', 'IY0', 'D', 'EOS'], ['abled', 'SOS', 'EY1', 'B', 'AH0', 'L', 'D', 'EOS'], ['abler', 'SOS', 'EY1', 'B', 'AH0', 'L', 'ER0', 'EOS'], ['abler(2)', 'SOS', 'EY1', 'B', 'L', 'ER0', 'EOS'], ['ables', 'SOS', 'EY1', 'B', 'AH0', 'L', 'Z', 'EOS'], ['ablest', 'SOS', 'EY1', 'B', 'AH0', 'L', 'S', 'T', 'EOS'], ['ablest(2)', 'SOS', 'EY1', 'B', 'L', 'AH0', 'S', 'T', 'EOS'], ['abloom', 'SOS', 'AH0', 'B', 'L', 'UW1', 'M', 'EOS'], ['ablution', 'SOS', 'AH0', 'B', 'L', 'UW1', 'SH', 'AH0', 'N', 'EOS'], ['ablutions', 'SOS', 'AH0', 'B', 'L', 'UW1', 'SH', 'AH0', 'N', 'Z', 'EOS'], ['ably', 'SOS', 'EY1', 'B', 'L', 'IY0', 'EOS'], ['abnegation', 'SOS', 'AE2', 'B', 'N', 'EH0', 'G', 'EY1', 'SH', 'AH0', 'N', 'EOS'], ['abner', 'SOS', 'AE1', 'B', 'N', 'ER0', 'EOS'], ['abney', 'SOS', 'AE1', 'B', 'N', 'IY0', 'EOS'], ['abnormal', 'SOS', 'AE0', 'B', 'N', 'AO1', 'R', 'M', 'AH0', 'L', 'EOS'], ['abnormalities', 'SOS', 'AE2', 'B', 'N', 'AO0', 'R', 'M', 'AE1', 'L', 'AH0', 'T', 'IY0', 'Z', 'EOS'], ['abnormality', 'SOS', 'AE2', 'B', 'N', 'AO0', 'R', 'M', 'AE1', 'L', 'AH0', 'T', 'IY0', 'EOS'], ['abnormally', 'SOS', 'AE0', 'B', 'N', 'AO1', 'R', 'M', 'AH0', 'L', 'IY0', 'EOS'], ['abo', 'SOS', 'AA1', 'B', 'OW0', 'EOS'], [\"abo's\", 'SOS', 'AA1', 'B', 'OW0', 'Z', 'EOS'], ['aboard', 'SOS', 'AH0', 'B', 'AO1', 'R', 'D', 'EOS'], ['abode', 'SOS', 'AH0', 'B', 'OW1', 'D', 'EOS'], ['abohalima', 'SOS', 'AE0', 'B', 'AH0', 'HH', 'AH0', 'L', 'IY1', 'M', 'AH0', 'EOS'], ['abolish', 'SOS', 'AH0', 'B', 'AA1', 'L', 'IH0', 'SH', 'EOS'], ['abolished', 'SOS', 'AH0', 'B', 'AA1', 'L', 'IH0', 'SH', 'T', 'EOS'], ['abolishes', 'SOS', 'AH0', 'B', 'AA1', 'L', 'IH0', 'SH', 'IH0', 'Z', 'EOS'], ['abolishing', 'SOS', 'AH0', 'B', 'AA1', 'L', 'IH0', 'SH', 'IH0', 'NG', 'EOS'], ['abolition', 'SOS', 'AE2', 'B', 'AH0', 'L', 'IH1', 'SH', 'AH0', 'N', 'EOS'], ['abolitionism', 'SOS', 'AE2', 'B', 'AH0', 'L', 'IH1', 'SH', 'AH0', 'N', 'IH2', 'Z', 'AH0', 'M', 'EOS'], ['abolitionist', 'SOS', 'AE2', 'B', 'AH0', 'L', 'IH1', 'SH', 'AH0', 'N', 'AH0', 'S', 'T', 'EOS'], ['abolitionists', 'SOS', 'AE2', 'B', 'AH0', 'L', 'IH1', 'SH', 'AH0', 'N', 'AH0', 'S', 'T', 'S', 'EOS'], ['abominable', 'SOS', 'AH0', 'B', 'AA1', 'M', 'AH0', 'N', 'AH0', 'B', 'AH0', 'L', 'EOS'], ['abomination', 'SOS', 'AH0', 'B', 'AA2', 'M', 'AH0', 'N', 'EY1', 'SH', 'AH0', 'N', 'EOS'], ['abominations', 'SOS', 'AH0', 'B', 'AA2', 'M', 'AH0', 'N', 'EY1', 'SH', 'AH0', 'N', 'Z', 'EOS'], ['abood', 'SOS', 'AH0', 'B', 'UW1', 'D', 'EOS'], ['aboodi', 'SOS', 'AH0', 'B', 'UW1', 'D', 'IY0', 'EOS'], ['abor', 'SOS', 'AH0', 'B', 'AO1', 'R', 'EOS'], ['aboriginal', 'SOS', 'AE2', 'B', 'ER0', 'IH1', 'JH', 'AH0', 'N', 'AH0', 'L', 'EOS'], ['aborigine', 'SOS', 'AE2', 'B', 'ER0', 'IH1', 'JH', 'AH0', 'N', 'IY0', 'EOS'], ['aborigines', 'SOS', 'AE2', 'B', 'ER0', 'IH1', 'JH', 'AH0', 'N', 'IY0', 'Z', 'EOS'], ['aborn', 'SOS', 'AH0', 'B', 'AO1', 'R', 'N', 'EOS'], ['abort', 'SOS', 'AH0', 'B', 'AO1', 'R', 'T', 'EOS'], ['aborted', 'SOS', 'AH0', 'B', 'AO1', 'R', 'T', 'IH0', 'D', 'EOS'], ['abortifacient', 'SOS', 'AH0', 'B', 'AO2', 'R', 'T', 'AH0', 'F', 'EY1', 'SH', 'AH0', 'N', 'T', 'EOS'], ['abortifacients', 'SOS', 'AH0', 'B', 'AO2', 'R', 'T', 'AH0', 'F', 'EY1', 'SH', 'AH0', 'N', 'T', 'S', 'EOS'], ['aborting', 'SOS', 'AH0', 'B', 'AO1', 'R', 'T', 'IH0', 'NG', 'EOS'], ['abortion', 'SOS', 'AH0', 'B', 'AO1', 'R', 'SH', 'AH0', 'N', 'EOS'], ['abortionist', 'SOS', 'AH0', 'B', 'AO1', 'R', 'SH', 'AH0', 'N', 'IH0', 'S', 'T', 'EOS'], ['abortionists', 'SOS', 'AH0', 'B', 'AO1', 'R', 'SH', 'AH0', 'N', 'IH0', 'S', 'T', 'S', 'EOS'], ['abortions', 'SOS', 'AH0', 'B', 'AO1', 'R', 'SH', 'AH0', 'N', 'Z', 'EOS'], ['abortive', 'SOS', 'AH0', 'B', 'AO1', 'R', 'T', 'IH0', 'V', 'EOS'], ['aborts', 'SOS', 'AH0', 'B', 'AO1', 'R', 'T', 'S', 'EOS'], ['abott', 'SOS', 'AH0', 'B', 'AA1', 'T', 'EOS'], ['abou', 'SOS', 'AH0', 'B', 'UW1', 'EOS'], ['aboud', 'SOS', 'AA0', 'B', 'UW1', 'D', 'EOS'], ['abouhalima', 'SOS', 'AA2', 'B', 'UW0', 'HH', 'AA0', 'L', 'IY1', 'M', 'AH0', 'EOS'], [\"abouhalima's\", 'SOS', 'AA2', 'B', 'UW0', 'HH', 'AA0', 'L', 'IY1', 'M', 'AH0', 'Z', 'EOS'], ['abound', 'SOS', 'AH0', 'B', 'AW1', 'N', 'D', 'EOS'], ['abounded', 'SOS', 'AH0', 'B', 'AW1', 'N', 'D', 'IH0', 'D', 'EOS'], ['abounding', 'SOS', 'AH0', 'B', 'AW1', 'N', 'D', 'IH0', 'NG', 'EOS'], ['abounds', 'SOS', 'AH0', 'B', 'AW1', 'N', 'D', 'Z', 'EOS'], ['about', 'SOS', 'AH0', 'B', 'AW1', 'T', 'EOS'], [\"about's\", 'SOS', 'AH0', 'B', 'AW1', 'T', 'S', 'EOS'], ['above', 'SOS', 'AH0', 'B', 'AH1', 'V', 'EOS'], [\"above's\", 'SOS', 'AH0', 'B', 'AH1', 'V', 'Z', 'EOS'], ['aboveboard', 'SOS', 'AH0', 'B', 'AH1', 'V', 'B', 'AO2', 'R', 'D', 'EOS'], ['abplanalp', 'SOS', 'AE1', 'B', 'P', 'L', 'AH0', 'N', 'AE0', 'L', 'P', 'EOS'], ['abra', 'SOS', 'AA1', 'B', 'R', 'AH0', 'EOS'], ['abracadabra', 'SOS', 'AE2', 'B', 'R', 'AH0', 'K', 'AH0', 'D', 'AE1', 'B', 'R', 'AH0', 'EOS'], ['abrade', 'SOS', 'AE0', 'B', 'R', 'EY1', 'D', 'EOS'], ['abraded', 'SOS', 'AE0', 'B', 'R', 'EY1', 'D', 'IH0', 'D', 'EOS'], ['abrades', 'SOS', 'AE0', 'B', 'R', 'EY1', 'D', 'Z', 'EOS'], ['abraham', 'SOS', 'EY1', 'B', 'R', 'AH0', 'HH', 'AE2', 'M', 'EOS'], ['abrahamian', 'SOS', 'AE2', 'B', 'R', 'AH0', 'HH', 'EY1', 'M', 'IY0', 'AH0', 'N', 'EOS'], ['abrahams', 'SOS', 'EY1', 'B', 'R', 'AH0', 'HH', 'AE2', 'M', 'Z', 'EOS'], ['abrahamsen', 'SOS', 'AE0', 'B', 'R', 'AH0', 'HH', 'AE1', 'M', 'S', 'AH0', 'N', 'EOS'], ['abrahamson', 'SOS', 'AH0', 'B', 'R', 'AE1', 'HH', 'AH0', 'M', 'S', 'AH0', 'N', 'EOS'], ['abram', 'SOS', 'AH0', 'B', 'R', 'AE1', 'M', 'EOS'], [\"abram's\", 'SOS', 'EY1', 'B', 'R', 'AH0', 'M', 'Z', 'EOS'], ['abramczyk', 'SOS', 'AA1', 'B', 'R', 'AH0', 'M', 'CH', 'IH0', 'K', 'EOS'], ['abramo', 'SOS', 'AA0', 'B', 'R', 'AA1', 'M', 'OW0', 'EOS'], ['abramovitz', 'SOS', 'AH0', 'B', 'R', 'AA1', 'M', 'AH0', 'V', 'IH0', 'T', 'S', 'EOS'], ['abramowicz', 'SOS', 'AH0', 'B', 'R', 'AA1', 'M', 'AH0', 'V', 'IH0', 'CH', 'EOS'], ['abramowitz', 'SOS', 'AH0', 'B', 'R', 'AA1', 'M', 'AH0', 'W', 'IH0', 'T', 'S', 'EOS'], ['abrams', 'SOS', 'EY1', 'B', 'R', 'AH0', 'M', 'Z', 'EOS'], [\"abrams's\", 'SOS', 'EY1', 'B', 'R', 'AH0', 'M', 'Z', 'IH0', 'Z', 'EOS'], ['abramson', 'SOS', 'EY1', 'B', 'R', 'AH0', 'M', 'S', 'AH0', 'N', 'EOS'], ['abrasion', 'SOS', 'AH0', 'B', 'R', 'EY1', 'ZH', 'AH0', 'N', 'EOS'], ['abrasions', 'SOS', 'AH0', 'B', 'R', 'EY1', 'ZH', 'AH0', 'N', 'Z', 'EOS'], ['abrasive', 'SOS', 'AH0', 'B', 'R', 'EY1', 'S', 'IH0', 'V', 'EOS'], ['abrasives', 'SOS', 'AH0', 'B', 'R', 'EY1', 'S', 'IH0', 'V', 'Z', 'EOS'], ['abraxa', 'SOS', 'AH0', 'B', 'R', 'AE1', 'K', 'S', 'AH0', 'EOS'], [\"abraxa's\", 'SOS', 'AH0', 'B', 'R', 'AE1', 'K', 'S', 'AH0', 'Z', 'EOS'], ['abraxas', 'SOS', 'AH0', 'B', 'R', 'AE1', 'K', 'S', 'AH0', 'Z', 'EOS'], ['abreast', 'SOS', 'AH0', 'B', 'R', 'EH1', 'S', 'T', 'EOS'], ['abrego', 'SOS', 'AA0', 'B', 'R', 'EH1', 'G', 'OW0', 'EOS'], ['abreu', 'SOS', 'AH0', 'B', 'R', 'UW1', 'EOS'], ['abridge', 'SOS', 'AH0', 'B', 'R', 'IH1', 'JH', 'EOS'], ['abridged', 'SOS', 'AH0', 'B', 'R', 'IH1', 'JH', 'D', 'EOS'], ['abridgement', 'SOS', 'AH0', 'B', 'R', 'IH1', 'JH', 'M', 'AH0', 'N', 'T', 'EOS'], ['abridges', 'SOS', 'AH0', 'B', 'R', 'IH1', 'JH', 'AH0', 'Z', 'EOS'], ['abridging', 'SOS', 'AH0', 'B', 'R', 'IH1', 'JH', 'IH0', 'NG', 'EOS'], ['abril', 'SOS', 'AH0', 'B', 'R', 'IH1', 'L', 'EOS'], ['abroad', 'SOS', 'AH0', 'B', 'R', 'AO1', 'D', 'EOS'], ['abrogate', 'SOS', 'AE1', 'B', 'R', 'AH0', 'G', 'EY2', 'T', 'EOS'], ['abrogated', 'SOS', 'AE1', 'B', 'R', 'AH0', 'G', 'EY2', 'T', 'IH0', 'D', 'EOS'], ['abrogating', 'SOS', 'AE1', 'B', 'R', 'AH0', 'G', 'EY2', 'T', 'IH0', 'NG', 'EOS'], ['abrogation', 'SOS', 'AE2', 'B', 'R', 'AH0', 'G', 'EY1', 'SH', 'AH0', 'N', 'EOS'], ['abrol', 'SOS', 'AH0', 'B', 'R', 'OW1', 'L', 'EOS'], ['abron', 'SOS', 'AH0', 'B', 'R', 'AA1', 'N', 'EOS'], ['abrupt', 'SOS', 'AH0', 'B', 'R', 'AH1', 'P', 'T', 'EOS'], ['abruptly', 'SOS', 'AH0', 'B', 'R', 'AH1', 'P', 'T', 'L', 'IY0', 'EOS'], ['abruptness', 'SOS', 'AH0', 'B', 'R', 'AH1', 'P', 'T', 'N', 'AH0', 'S', 'EOS'], ['abrutyn', 'SOS', 'EY1', 'B', 'R', 'UW0', 'T', 'IH0', 'N', 'EOS'], ['abruzzese', 'SOS', 'AA0', 'B', 'R', 'UW0', 'T', 'S', 'EY1', 'Z', 'IY0', 'EOS'], ['abruzzo', 'SOS', 'AA0', 'B', 'R', 'UW1', 'Z', 'OW0', 'EOS'], ['abs', 'SOS', 'EY1', 'B', 'IY1', 'EH1', 'S', 'EOS'], ['abs(2)', 'SOS', 'AE1', 'B', 'Z', 'EOS'], ['absalom', 'SOS', 'AE1', 'B', 'S', 'AH0', 'L', 'AH0', 'M', 'EOS'], ['absaraka', 'SOS', 'AE0', 'B', 'S', 'AA1', 'R', 'AH0', 'K', 'AH0', 'EOS'], ['abscam', 'SOS', 'AE1', 'B', 'S', 'K', 'AE0', 'M', 'EOS'], ['abscess', 'SOS', 'AE1', 'B', 'S', 'EH2', 'S', 'EOS'], ['abscond', 'SOS', 'AE0', 'B', 'S', 'K', 'AA1', 'N', 'D', 'EOS'], ['absconded', 'SOS', 'AE0', 'B', 'S', 'K', 'AA1', 'N', 'D', 'IH0', 'D', 'EOS'], ['absconding', 'SOS', 'AE0', 'B', 'S', 'K', 'AA1', 'N', 'D', 'IH0', 'NG', 'EOS'], ['absconds', 'SOS', 'AE0', 'B', 'S', 'K', 'AA1', 'N', 'D', 'Z', 'EOS'], ['absecon', 'SOS', 'AE1', 'B', 'S', 'AH0', 'K', 'AO0', 'N', 'EOS'], ['absence', 'SOS', 'AE1', 'B', 'S', 'AH0', 'N', 'S', 'EOS'], ['absences', 'SOS', 'AE1', 'B', 'S', 'AH0', 'N', 'S', 'IH0', 'Z', 'EOS'], ['absent', 'SOS', 'AE1', 'B', 'S', 'AH0', 'N', 'T', 'EOS'], ['absentee', 'SOS', 'AE2', 'B', 'S', 'AH0', 'N', 'T', 'IY1', 'EOS'], ['absenteeism', 'SOS', 'AE2', 'B', 'S', 'AH0', 'N', 'T', 'IY1', 'IH0', 'Z', 'AH0', 'M', 'EOS'], ['absentees', 'SOS', 'AE2', 'B', 'S', 'AH0', 'N', 'T', 'IY1', 'Z', 'EOS'], ['absentia', 'SOS', 'AE0', 'B', 'S', 'EH1', 'N', 'SH', 'AH0', 'EOS'], ['absher', 'SOS', 'AE1', 'B', 'SH', 'ER0', 'EOS'], ['abshier', 'SOS', 'AE1', 'B', 'SH', 'IY0', 'ER0', 'EOS'], ['abshire', 'SOS', 'AE1', 'B', 'SH', 'AY2', 'R', 'EOS'], ['absinthe', 'SOS', 'AE1', 'B', 'S', 'IH0', 'N', 'TH', 'EOS'], ['abso', 'SOS', 'AE1', 'B', 'S', 'OW0', 'EOS'], ['absolom', 'SOS', 'AE1', 'B', 'S', 'AH0', 'L', 'AH0', 'M', 'EOS'], ['absolut', 'SOS', 'AE2', 'B', 'S', 'AH0', 'L', 'UW1', 'T', 'EOS'], [\"absolut's\", 'SOS', 'AE2', 'B', 'S', 'AH0', 'L', 'UW1', 'T', 'S', 'EOS'], ['absolute', 'SOS', 'AE1', 'B', 'S', 'AH0', 'L', 'UW2', 'T', 'EOS'], ['absolutely', 'SOS', 'AE2', 'B', 'S', 'AH0', 'L', 'UW1', 'T', 'L', 'IY0', 'EOS'], ['absoluteness', 'SOS', 'AE1', 'B', 'S', 'AH0', 'L', 'UW2', 'T', 'N', 'AH0', 'S', 'EOS'], ['absolutes', 'SOS', 'AE1', 'B', 'S', 'AH0', 'L', 'UW2', 'T', 'S', 'EOS'], ['absolution', 'SOS', 'AE2', 'B', 'S', 'AH0', 'L', 'UW1', 'SH', 'AH0', 'N', 'EOS'], ['absolutism', 'SOS', 'AE1', 'B', 'S', 'AH0', 'L', 'UW2', 'T', 'IH2', 'Z', 'AH0', 'M', 'EOS'], ['absolutist', 'SOS', 'AE0', 'B', 'S', 'AH0', 'L', 'UW1', 'T', 'IH0', 'S', 'T', 'EOS'], ['absolve', 'SOS', 'AH0', 'B', 'Z', 'AA1', 'L', 'V', 'EOS'], ['absolve(2)', 'SOS', 'AE0', 'B', 'Z', 'AA1', 'L', 'V', 'EOS'], ['absolved', 'SOS', 'AH0', 'B', 'Z', 'AA1', 'L', 'V', 'D', 'EOS'], ['absolved(2)', 'SOS', 'AE0', 'B', 'Z', 'AA1', 'L', 'V', 'D', 'EOS'], ['absolves', 'SOS', 'AH0', 'B', 'Z', 'AA1', 'L', 'V', 'Z', 'EOS'], ['absolves(2)', 'SOS', 'AE0', 'B', 'Z', 'AA1', 'L', 'V', 'Z', 'EOS'], ['absolving', 'SOS', 'AH0', 'B', 'Z', 'AA1', 'L', 'V', 'IH0', 'NG', 'EOS'], ['absolving(2)', 'SOS', 'AE0', 'B', 'Z', 'AA1', 'L', 'V', 'IH0', 'NG', 'EOS'], ['absorb', 'SOS', 'AH0', 'B', 'Z', 'AO1', 'R', 'B', 'EOS'], ['absorbed', 'SOS', 'AH0', 'B', 'Z', 'AO1', 'R', 'B', 'D', 'EOS'], ['absorbency', 'SOS', 'AH0', 'B', 'Z', 'AO1', 'R', 'B', 'AH0', 'N', 'S', 'IY0', 'EOS'], ['absorbent', 'SOS', 'AH0', 'B', 'Z', 'AO1', 'R', 'B', 'AH0', 'N', 'T', 'EOS'], ['absorber', 'SOS', 'AH0', 'B', 'Z', 'AO1', 'R', 'B', 'ER0', 'EOS'], ['absorbers', 'SOS', 'AH0', 'B', 'Z', 'AO1', 'R', 'B', 'ER0', 'Z', 'EOS'], ['absorbing', 'SOS', 'AH0', 'B', 'Z', 'AO1', 'R', 'B', 'IH0', 'NG', 'EOS'], ['absorbs', 'SOS', 'AH0', 'B', 'Z', 'AO1', 'R', 'B', 'Z', 'EOS'], ['absorption', 'SOS', 'AH0', 'B', 'Z', 'AO1', 'R', 'P', 'SH', 'AH0', 'N', 'EOS'], ['absorption(2)', 'SOS', 'AH0', 'B', 'S', 'AO1', 'R', 'P', 'SH', 'AH0', 'N', 'EOS'], ['abstain', 'SOS', 'AH0', 'B', 'S', 'T', 'EY1', 'N', 'EOS'], ['abstain(2)', 'SOS', 'AE0', 'B', 'S', 'T', 'EY1', 'N', 'EOS'], ['abstained', 'SOS', 'AH0', 'B', 'S', 'T', 'EY1', 'N', 'D', 'EOS'], ['abstained(2)', 'SOS', 'AE0', 'B', 'S', 'T', 'EY1', 'N', 'D', 'EOS'], ['abstaining', 'SOS', 'AH0', 'B', 'S', 'T', 'EY1', 'N', 'IH0', 'NG', 'EOS'], ['abstaining(2)', 'SOS', 'AE0', 'B', 'S', 'T', 'EY1', 'N', 'IH0', 'NG', 'EOS'], ['abstention', 'SOS', 'AH0', 'B', 'S', 'T', 'EH1', 'N', 'CH', 'AH0', 'N', 'EOS'], ['abstention(2)', 'SOS', 'AE0', 'B', 'S', 'T', 'EH1', 'N', 'CH', 'AH0', 'N', 'EOS'], ['abstentions', 'SOS', 'AH0', 'B', 'S', 'T', 'EH1', 'N', 'CH', 'AH0', 'N', 'Z', 'EOS'], ['abstentions(2)', 'SOS', 'AE0', 'B', 'S', 'T', 'EH1', 'N', 'CH', 'AH0', 'N', 'Z', 'EOS'], ['abstinence', 'SOS', 'AE1', 'B', 'S', 'T', 'AH0', 'N', 'AH0', 'N', 'S', 'EOS'], ['abstinent', 'SOS', 'AE1', 'B', 'S', 'T', 'AH0', 'N', 'AH0', 'N', 'T', 'EOS'], ['abston', 'SOS', 'AE1', 'B', 'S', 'T', 'AH0', 'N', 'EOS'], ['abstract', 'SOS', 'AE0', 'B', 'S', 'T', 'R', 'AE1', 'K', 'T', 'EOS'], ['abstract(2)', 'SOS', 'AE1', 'B', 'S', 'T', 'R', 'AE2', 'K', 'T', 'EOS'], ['abstracted', 'SOS', 'AE1', 'B', 'S', 'T', 'R', 'AE2', 'K', 'T', 'IH0', 'D', 'EOS'], ['abstraction', 'SOS', 'AE0', 'B', 'S', 'T', 'R', 'AE1', 'K', 'SH', 'AH0', 'N', 'EOS'], ['abstractions', 'SOS', 'AE0', 'B', 'S', 'T', 'R', 'AE1', 'K', 'SH', 'AH0', 'N', 'Z', 'EOS'], ['abstracts', 'SOS', 'AE1', 'B', 'S', 'T', 'R', 'AE0', 'K', 'T', 'S', 'EOS'], ['abstruse', 'SOS', 'AH0', 'B', 'S', 'T', 'R', 'UW1', 'S', 'EOS'], ['absurd', 'SOS', 'AH0', 'B', 'S', 'ER1', 'D', 'EOS'], ['absurdist', 'SOS', 'AH0', 'B', 'S', 'ER1', 'D', 'IH0', 'S', 'T', 'EOS'], ['absurdities', 'SOS', 'AH0', 'B', 'S', 'ER1', 'D', 'AH0', 'T', 'IY0', 'Z', 'EOS'], ['absurdity', 'SOS', 'AH0', 'B', 'S', 'ER1', 'D', 'AH0', 'T', 'IY0', 'EOS'], ['absurdly', 'SOS', 'AH0', 'B', 'S', 'ER1', 'D', 'L', 'IY0', 'EOS'], ['abt', 'SOS', 'AE1', 'B', 'T', 'EOS'], ['abt(2)', 'SOS', 'EY1', 'B', 'IY1', 'T', 'IY1', 'EOS'], ['abts', 'SOS', 'AE1', 'B', 'T', 'S', 'EOS'], ['abts(2)', 'SOS', 'EY1', 'B', 'IY1', 'T', 'IY1', 'Z', 'EOS'], ['abts(3)', 'SOS', 'EY1', 'B', 'IY1', 'T', 'IY1', 'EH1', 'S', 'EOS'], ['abu', 'SOS', 'AE1', 'B', 'UW0', 'EOS'], ['abudrahm', 'SOS', 'AH0', 'B', 'AH1', 'D', 'R', 'AH0', 'M', 'EOS'], ['abuellah', 'SOS', 'AH0', 'B', 'W', 'EH1', 'L', 'AH0', 'EOS'], [\"abuellah's\", 'SOS', 'AH0', 'B', 'W', 'EH1', 'L', 'AH0', 'Z', 'EOS'], ['abuladze', 'SOS', 'AE2', 'B', 'Y', 'UW0', 'L', 'AE1', 'D', 'Z', 'IY0', 'EOS'], ['abundance', 'SOS', 'AH0', 'B', 'AH1', 'N', 'D', 'AH0', 'N', 'S', 'EOS'], ['abundant', 'SOS', 'AH0', 'B', 'AH1', 'N', 'D', 'AH0', 'N', 'T', 'EOS'], ['abundantly', 'SOS', 'AH0', 'B', 'AH1', 'N', 'D', 'AH0', 'N', 'T', 'L', 'IY0', 'EOS'], ['aburto', 'SOS', 'AH0', 'B', 'UH1', 'R', 'T', 'OW2', 'EOS'], [\"aburto's\", 'SOS', 'AH0', 'B', 'UH1', 'R', 'T', 'OW2', 'Z', 'EOS'], ['abuse', 'SOS', 'AH0', 'B', 'Y', 'UW1', 'S', 'EOS'], ['abuse(2)', 'SOS', 'AH0', 'B', 'Y', 'UW1', 'Z', 'EOS'], ['abused', 'SOS', 'AH0', 'B', 'Y', 'UW1', 'Z', 'D', 'EOS'], ['abuser', 'SOS', 'AH0', 'B', 'Y', 'UW1', 'Z', 'ER0', 'EOS'], ['abusers', 'SOS', 'AH0', 'B', 'Y', 'UW1', 'Z', 'ER0', 'Z', 'EOS'], ['abuses', 'SOS', 'AH0', 'B', 'Y', 'UW1', 'S', 'IH0', 'Z', 'EOS'], ['abuses(2)', 'SOS', 'AH0', 'B', 'Y', 'UW1', 'Z', 'IH0', 'Z', 'EOS'], ['abusing', 'SOS', 'AH0', 'B', 'Y', 'UW1', 'Z', 'IH0', 'NG', 'EOS'], ['abusive', 'SOS', 'AH0', 'B', 'Y', 'UW1', 'S', 'IH0', 'V', 'EOS'], ['abut', 'SOS', 'AH0', 'B', 'AH1', 'T', 'EOS'], ['abuts', 'SOS', 'AH0', 'B', 'AH1', 'T', 'S', 'EOS'], ['abutted', 'SOS', 'AH0', 'B', 'AH1', 'T', 'IH0', 'D', 'EOS'], ['abutting', 'SOS', 'AH0', 'B', 'AH1', 'T', 'IH0', 'NG', 'EOS'], ['abuzz', 'SOS', 'AH0', 'B', 'AH1', 'Z', 'EOS'], ['abysmal', 'SOS', 'AH0', 'B', 'IH1', 'Z', 'M', 'AH0', 'L', 'EOS'], ['abysmally', 'SOS', 'AH0', 'B', 'IH1', 'Z', 'M', 'AH0', 'L', 'IY0', 'EOS'], ['abyss', 'SOS', 'AH0', 'B', 'IH1', 'S', 'EOS'], ['abyssinia', 'SOS', 'AE0', 'B', 'S', 'IH1', 'N', 'IY2', 'AH0', 'EOS'], ['abyssinian', 'SOS', 'AE0', 'B', 'S', 'IH1', 'N', 'IY2', 'AH0', 'N', 'EOS'], ['abzug', 'SOS', 'AE1', 'B', 'Z', 'AH2', 'G', 'EOS'], ['abzug(2)', 'SOS', 'AE1', 'B', 'Z', 'UH2', 'G', 'EOS'], ['ac', 'SOS', 'EY1', 'S', 'IY1', 'EOS'], ['aca', 'SOS', 'AE1', 'K', 'AH0', 'EOS'], ['acacia', 'SOS', 'AH0', 'K', 'EY1', 'SH', 'AH0', 'EOS'], ['academe', 'SOS', 'AE1', 'K', 'AH0', 'D', 'IY2', 'M', 'EOS'], ['academia', 'SOS', 'AE2', 'K', 'AH0', 'D', 'IY1', 'M', 'IY0', 'AH0', 'EOS'], ['academic', 'SOS', 'AE2', 'K', 'AH0', 'D', 'EH1', 'M', 'IH0', 'K', 'EOS'], ['academically', 'SOS', 'AE2', 'K', 'AH0', 'D', 'EH1', 'M', 'IH0', 'K', 'L', 'IY0', 'EOS'], ['academician', 'SOS', 'AE2', 'K', 'AH0', 'D', 'AH0', 'M', 'IH1', 'SH', 'AH0', 'N', 'EOS'], ['academicians', 'SOS', 'AE2', 'K', 'AH0', 'D', 'AH0', 'M', 'IH1', 'SH', 'AH0', 'N', 'Z', 'EOS'], ['academicians(2)', 'SOS', 'AH0', 'K', 'AE2', 'D', 'AH0', 'M', 'IH1', 'SH', 'AH0', 'N', 'Z', 'EOS'], ['academics', 'SOS', 'AE2', 'K', 'AH0', 'D', 'EH1', 'M', 'IH0', 'K', 'S', 'EOS'], ['academies', 'SOS', 'AH0', 'K', 'AE1', 'D', 'AH0', 'M', 'IY0', 'Z', 'EOS'], ['academy', 'SOS', 'AH0', 'K', 'AE1', 'D', 'AH0', 'M', 'IY0', 'EOS'], [\"academy's\", 'SOS', 'AH0', 'K', 'AE1', 'D', 'AH0', 'M', 'IY0', 'Z', 'EOS'], ['acadia', 'SOS', 'AH0', 'K', 'EY1', 'D', 'IY0', 'AH0', 'EOS'], ['acaena', 'SOS', 'AH0', 'S', 'IY1', 'N', 'AH0', 'EOS'], ['acampo', 'SOS', 'AH0', 'K', 'AA1', 'M', 'P', 'OW0', 'EOS'], ['acampora', 'SOS', 'AH0', 'K', 'AE1', 'M', 'P', 'ER0', 'AH0', 'EOS'], ['acampsia', 'SOS', 'AH0', 'K', 'AE1', 'M', 'P', 'S', 'Y', 'AH0', 'EOS'], ['acantha', 'SOS', 'AA0', 'K', 'AA1', 'N', 'DH', 'AH0', 'EOS'], ['acapulco', 'SOS', 'AE2', 'K', 'AH0', 'P', 'UH1', 'L', 'K', 'OW0', 'EOS'], ['acary', 'SOS', 'AE1', 'K', 'ER0', 'IY0', 'EOS'], ['acc', 'SOS', 'AY2', 'S', 'IY2', 'S', 'IY1', 'EOS'], ['accardi', 'SOS', 'AA0', 'K', 'AA1', 'R', 'D', 'IY0', 'EOS'], ['accardo', 'SOS', 'AA0', 'K', 'AA1', 'R', 'D', 'OW0', 'EOS'], ['accede', 'SOS', 'AE0', 'K', 'S', 'IY1', 'D', 'EOS'], ['acceded', 'SOS', 'AE0', 'K', 'S', 'IY1', 'D', 'IH0', 'D', 'EOS'], ['accedes', 'SOS', 'AE0', 'K', 'S', 'IY1', 'D', 'Z', 'EOS'], ['acceding', 'SOS', 'AE0', 'K', 'S', 'IY1', 'D', 'IH0', 'NG', 'EOS'], ['accel', 'SOS', 'AH0', 'K', 'S', 'EH1', 'L', 'EOS'], ['accelerant', 'SOS', 'AE0', 'K', 'S', 'EH1', 'L', 'ER0', 'AH0', 'N', 'T', 'EOS'], ['accelerants', 'SOS', 'AE0', 'K', 'S', 'EH1', 'L', 'ER0', 'AH0', 'N', 'T', 'S', 'EOS'], ['accelerate', 'SOS', 'AE0', 'K', 'S', 'EH1', 'L', 'ER0', 'EY2', 'T', 'EOS'], ['accelerated', 'SOS', 'AE0', 'K', 'S', 'EH1', 'L', 'ER0', 'EY2', 'T', 'IH0', 'D', 'EOS'], ['accelerates', 'SOS', 'AE0', 'K', 'S', 'EH1', 'L', 'ER0', 'EY2', 'T', 'S', 'EOS'], ['accelerating', 'SOS', 'AE0', 'K', 'S', 'EH1', 'L', 'ER0', 'EY2', 'T', 'IH0', 'NG', 'EOS'], ['acceleration', 'SOS', 'AE2', 'K', 'S', 'EH2', 'L', 'ER0', 'EY1', 'SH', 'AH0', 'N', 'EOS'], ['accelerator', 'SOS', 'AE0', 'K', 'S', 'EH1', 'L', 'ER0', 'EY2', 'T', 'ER0', 'EOS'], ['accelerators', 'SOS', 'AE0', 'K', 'S', 'EH1', 'L', 'ER0', 'EY2', 'T', 'ER0', 'Z', 'EOS'], ['accelerometer', 'SOS', 'AE0', 'K', 'S', 'EH2', 'L', 'ER0', 'AA1', 'M', 'AH0', 'T', 'ER0', 'EOS'], ['accelerometers', 'SOS', 'AE0', 'K', 'S', 'EH2', 'L', 'ER0', 'AA1', 'M', 'AH0', 'T', 'ER0', 'Z', 'EOS'], ['accent', 'SOS', 'AH0', 'K', 'S', 'EH1', 'N', 'T', 'EOS'], ['accent(2)', 'SOS', 'AE1', 'K', 'S', 'EH2', 'N', 'T', 'EOS'], ['accented', 'SOS', 'AE1', 'K', 'S', 'EH0', 'N', 'T', 'IH0', 'D', 'EOS'], ['accenting', 'SOS', 'AE1', 'K', 'S', 'EH0', 'N', 'T', 'IH0', 'NG', 'EOS'], ['accents', 'SOS', 'AE1', 'K', 'S', 'EH0', 'N', 'T', 'S', 'EOS'], ['accentuate', 'SOS', 'AE0', 'K', 'S', 'EH1', 'N', 'CH', 'UW0', 'EY0', 'T', 'EOS'], ['accentuated', 'SOS', 'AE0', 'K', 'S', 'EH1', 'N', 'CH', 'UW0', 'EY2', 'T', 'IH0', 'D', 'EOS'], ['accentuates', 'SOS', 'AE0', 'K', 'S', 'EH1', 'N', 'CH', 'UW0', 'EY2', 'T', 'S', 'EOS'], ['accentuating', 'SOS', 'AE0', 'K', 'S', 'EH1', 'N', 'CH', 'UW0', 'EY2', 'T', 'IH0', 'NG', 'EOS'], ['accenture', 'SOS', 'AE0', 'K', 'S', 'EH1', 'N', 'CH', 'ER0', 'EOS'], ['accept', 'SOS', 'AE0', 'K', 'S', 'EH1', 'P', 'T', 'EOS'], ['accept(2)', 'SOS', 'AH0', 'K', 'S', 'EH1', 'P', 'T', 'EOS'], ['acceptability', 'SOS', 'AH0', 'K', 'S', 'EH2', 'P', 'T', 'AH0', 'B', 'IH1', 'L', 'AH0', 'T', 'IY0', 'EOS'], ['acceptable', 'SOS', 'AE0', 'K', 'S', 'EH1', 'P', 'T', 'AH0', 'B', 'AH0', 'L', 'EOS'], ['acceptable(2)', 'SOS', 'AH0', 'K', 'S', 'EH1', 'P', 'T', 'AH0', 'B', 'AH0', 'L', 'EOS'], ['acceptably', 'SOS', 'AE0', 'K', 'S', 'EH1', 'P', 'T', 'AH0', 'B', 'L', 'IY0', 'EOS'], ['acceptably(2)', 'SOS', 'AH0', 'K', 'S', 'EH1', 'P', 'T', 'AH0', 'B', 'L', 'IY0', 'EOS'], ['acceptance', 'SOS', 'AE0', 'K', 'S', 'EH1', 'P', 'T', 'AH0', 'N', 'S', 'EOS'], ['acceptance(2)', 'SOS', 'AH0', 'K', 'S', 'EH1', 'P', 'T', 'AH0', 'N', 'S', 'EOS'], ['acceptances', 'SOS', 'AE0', 'K', 'S', 'EH1', 'P', 'T', 'AH0', 'N', 'S', 'IH0', 'Z', 'EOS'], ['accepted', 'SOS', 'AE0', 'K', 'S', 'EH1', 'P', 'T', 'IH0', 'D', 'EOS'], ['accepted(2)', 'SOS', 'AH0', 'K', 'S', 'EH1', 'P', 'T', 'IH0', 'D', 'EOS'], ['accepting', 'SOS', 'AE0', 'K', 'S', 'EH1', 'P', 'T', 'IH0', 'NG', 'EOS'], ['accepting(2)', 'SOS', 'AH0', 'K', 'S', 'EH1', 'P', 'T', 'IH0', 'NG', 'EOS'], ['accepts', 'SOS', 'AE0', 'K', 'S', 'EH1', 'P', 'T', 'S', 'EOS'], ['access', 'SOS', 'AE1', 'K', 'S', 'EH2', 'S', 'EOS'], ['accessed', 'SOS', 'AE1', 'K', 'S', 'EH2', 'S', 'T', 'EOS'], ['accessibility', 'SOS', 'AE2', 'K', 'S', 'EH0', 'S', 'AH0', 'B', 'IH1', 'L', 'IH0', 'T', 'IY0', 'EOS'], ['accessible', 'SOS', 'AE0', 'K', 'S', 'EH1', 'S', 'AH0', 'B', 'AH0', 'L', 'EOS'], ['accessing', 'SOS', 'AE1', 'K', 'S', 'EH2', 'S', 'IH0', 'NG', 'EOS'], ['accession', 'SOS', 'AH0', 'K', 'S', 'EH1', 'SH', 'AH0', 'N', 'EOS'], ['accessories', 'SOS', 'AE0', 'K', 'S', 'EH1', 'S', 'ER0', 'IY0', 'Z', 'EOS'], ['accessorize', 'SOS', 'AE0', 'K', 'S', 'EH1', 'S', 'ER0', 'AY2', 'Z', 'EOS'], ['accessorized', 'SOS', 'AE0', 'K', 'S', 'EH1', 'S', 'ER0', 'AY2', 'Z', 'D', 'EOS'], ['accessory', 'SOS', 'AE0', 'K', 'S', 'EH1', 'S', 'ER0', 'IY0', 'EOS'], ['accetta', 'SOS', 'AA0', 'CH', 'EH1', 'T', 'AH0', 'EOS'], ['accident', 'SOS', 'AE1', 'K', 'S', 'AH0', 'D', 'AH0', 'N', 'T', 'EOS'], [\"accident's\", 'SOS', 'AE1', 'K', 'S', 'AH0', 'D', 'AH0', 'N', 'T', 'S', 'EOS'], ['accidental', 'SOS', 'AE2', 'K', 'S', 'AH0', 'D', 'EH1', 'N', 'T', 'AH0', 'L', 'EOS'], ['accidental(2)', 'SOS', 'AE2', 'K', 'S', 'AH0', 'D', 'EH1', 'N', 'AH0', 'L', 'EOS'], ['accidentally', 'SOS', 'AE2', 'K', 'S', 'AH0', 'D', 'EH1', 'N', 'T', 'AH0', 'L', 'IY0', 'EOS'], ['accidentally(2)', 'SOS', 'AE2', 'K', 'S', 'AH0', 'D', 'EH1', 'N', 'AH0', 'L', 'IY0', 'EOS'], ['accidently', 'SOS', 'AE1', 'K', 'S', 'AH0', 'D', 'AH0', 'N', 'T', 'L', 'IY0', 'EOS'], ['accidents', 'SOS', 'AE1', 'K', 'S', 'AH0', 'D', 'AH0', 'N', 'T', 'S', 'EOS'], ['accion', 'SOS', 'AE1', 'CH', 'IY0', 'AH0', 'N', 'EOS'], ['accival', 'SOS', 'AE1', 'S', 'IH0', 'V', 'AA2', 'L', 'EOS'], ['acclaim', 'SOS', 'AH0', 'K', 'L', 'EY1', 'M', 'EOS'], [\"acclaim's\", 'SOS', 'AH0', 'K', 'L', 'EY1', 'M', 'Z', 'EOS'], ['acclaimed', 'SOS', 'AH0', 'K', 'L', 'EY1', 'M', 'D', 'EOS'], ['acclaiming', 'SOS', 'AH0', 'K', 'L', 'EY1', 'M', 'IH0', 'NG', 'EOS'], ['acclaims', 'SOS', 'AH0', 'K', 'L', 'EY1', 'M', 'Z', 'EOS'], ['acclamation', 'SOS', 'AE2', 'K', 'L', 'AH0', 'M', 'EY1', 'SH', 'AH0', 'N', 'EOS'], ['acclimate', 'SOS', 'AE1', 'K', 'L', 'AH0', 'M', 'EY2', 'T', 'EOS'], ['acclimated', 'SOS', 'AE1', 'K', 'L', 'AH0', 'M', 'EY2', 'T', 'IH0', 'D', 'EOS'], ['acclimation', 'SOS', 'AE2', 'K', 'L', 'AH0', 'M', 'EY1', 'SH', 'AH0', 'N', 'EOS'], ['acco', 'SOS', 'AE1', 'K', 'OW0', 'EOS'], ['accokeek', 'SOS', 'AE1', 'K', 'OW0', 'K', 'IY0', 'K', 'EOS'], ['accola', 'SOS', 'AA0', 'K', 'OW1', 'L', 'AH0', 'EOS'], ['accolade', 'SOS', 'AE1', 'K', 'AH0', 'L', 'EY2', 'D', 'EOS'], ['accolades', 'SOS', 'AE1', 'K', 'AH0', 'L', 'EY2', 'D', 'Z', 'EOS'], ['accomando', 'SOS', 'AA0', 'K', 'OW0', 'M', 'AA1', 'N', 'D', 'OW0', 'EOS'], ['accommodate', 'SOS', 'AH0', 'K', 'AA1', 'M', 'AH0', 'D', 'EY2', 'T', 'EOS'], ['accommodated', 'SOS', 'AH0', 'K', 'AA1', 'M', 'AH0', 'D', 'EY2', 'T', 'IH0', 'D', 'EOS'], ['accommodates', 'SOS', 'AH0', 'K', 'AA1', 'M', 'AH0', 'D', 'EY2', 'T', 'S', 'EOS'], ['accommodating', 'SOS', 'AH0', 'K', 'AA1', 'M', 'AH0', 'D', 'EY2', 'T', 'IH0', 'NG', 'EOS'], ['accommodation', 'SOS', 'AH0', 'K', 'AA2', 'M', 'AH0', 'D', 'EY1', 'SH', 'AH0', 'N', 'EOS'], ['accommodations', 'SOS', 'AH0', 'K', 'AA2', 'M', 'AH0', 'D', 'EY1', 'SH', 'AH0', 'N', 'Z', 'EOS'], ['accommodative', 'SOS', 'AH0', 'K', 'AA1', 'M', 'AH0', 'D', 'EY2', 'T', 'IH0', 'V', 'EOS'], ['accompanied', 'SOS', 'AH0', 'K', 'AH1', 'M', 'P', 'AH0', 'N', 'IY0', 'D', 'EOS'], ['accompanies', 'SOS', 'AH0', 'K', 'AH1', 'M', 'P', 'AH0', 'N', 'IY0', 'Z', 'EOS'], ['accompaniment', 'SOS', 'AH0', 'K', 'AH1', 'M', 'P', 'N', 'IH0', 'M', 'AH0', 'N', 'T', 'EOS'], ['accompaniment(2)', 'SOS', 'AH0', 'K', 'AH1', 'M', 'P', 'N', 'IY0', 'M', 'AH0', 'N', 'T', 'EOS'], ['accompaniments', 'SOS', 'AH0', 'K', 'AH1', 'M', 'P', 'N', 'IH0', 'M', 'AH0', 'N', 'T', 'S', 'EOS'], ['accompaniments(2)', 'SOS', 'AH0', 'K', 'AH1', 'M', 'P', 'N', 'IY0', 'M', 'AH0', 'N', 'T', 'S', 'EOS'], ['accompanist', 'SOS', 'AH0', 'K', 'AH1', 'M', 'P', 'AH0', 'N', 'AH0', 'S', 'T', 'EOS'], ['accompany', 'SOS', 'AH0', 'K', 'AH1', 'M', 'P', 'AH0', 'N', 'IY0', 'EOS'], ['accompanying', 'SOS', 'AH0', 'K', 'AH1', 'M', 'P', 'AH0', 'N', 'IY0', 'IH0', 'NG', 'EOS'], ['accompli', 'SOS', 'AA2', 'K', 'AA1', 'M', 'P', 'L', 'IY0', 'EOS'], ['accompli(2)', 'SOS', 'AH0', 'K', 'AA1', 'M', 'P', 'L', 'IY0', 'EOS'], ['accomplice', 'SOS', 'AH0', 'K', 'AA1', 'M', 'P', 'L', 'AH0', 'S', 'EOS'], ['accomplices', 'SOS', 'AH0', 'K', 'AA1', 'M', 'P', 'L', 'AH0', 'S', 'AH0', 'Z', 'EOS'], ['accomplish', 'SOS', 'AH0', 'K', 'AA1', 'M', 'P', 'L', 'IH0', 'SH', 'EOS'], ['accomplished', 'SOS', 'AH0', 'K', 'AA1', 'M', 'P', 'L', 'IH0', 'SH', 'T', 'EOS'], ['accomplishes', 'SOS', 'AH0', 'K', 'AA1', 'M', 'P', 'L', 'IH0', 'SH', 'IH0', 'Z', 'EOS'], ['accomplishing', 'SOS', 'AH0', 'K', 'AA1', 'M', 'P', 'L', 'IH0', 'SH', 'IH0', 'NG', 'EOS'], ['accomplishment', 'SOS', 'AH0', 'K', 'AA1', 'M', 'P', 'L', 'IH0', 'SH', 'M', 'AH0', 'N', 'T', 'EOS'], ['accomplishments', 'SOS', 'AH0', 'K', 'AA1', 'M', 'P', 'L', 'IH0', 'SH', 'M', 'AH0', 'N', 'T', 'S', 'EOS'], ['accor', 'SOS', 'AE1', 'K', 'AO2', 'R', 'EOS'], [\"accor's\", 'SOS', 'AE1', 'K', 'ER0', 'Z', 'EOS'], ['accord', 'SOS', 'AH0', 'K', 'AO1', 'R', 'D', 'EOS'], [\"accord's\", 'SOS', 'AH0', 'K', 'AO1', 'R', 'D', 'Z', 'EOS'], ['accordance', 'SOS', 'AH0', 'K', 'AO1', 'R', 'D', 'AH0', 'N', 'S', 'EOS'], ['accorded', 'SOS', 'AH0', 'K', 'AO1', 'R', 'D', 'IH0', 'D', 'EOS'], ['according', 'SOS', 'AH0', 'K', 'AO1', 'R', 'D', 'IH0', 'NG', 'EOS'], ['accordingly', 'SOS', 'AH0', 'K', 'AO1', 'R', 'D', 'IH0', 'NG', 'L', 'IY0', 'EOS'], ['accordion', 'SOS', 'AH0', 'K', 'AO1', 'R', 'D', 'IY0', 'AH0', 'N', 'EOS'], ['accordions', 'SOS', 'AH0', 'K', 'AO1', 'R', 'D', 'IY0', 'AH0', 'N', 'Z', 'EOS'], ['accords', 'SOS', 'AH0', 'K', 'AO1', 'R', 'D', 'Z', 'EOS'], ['accost', 'SOS', 'AH0', 'K', 'AO1', 'S', 'T', 'EOS'], ['accosted', 'SOS', 'AH0', 'K', 'AA1', 'S', 'T', 'IH0', 'D', 'EOS'], ['accosting', 'SOS', 'AH0', 'K', 'AA1', 'S', 'T', 'IH0', 'NG', 'EOS'], ['account', 'SOS', 'AH0', 'K', 'AW1', 'N', 'T', 'EOS'], [\"account's\", 'SOS', 'AH0', 'K', 'AW1', 'N', 'T', 'S', 'EOS'], ['accountability', 'SOS', 'AH0', 'K', 'AW1', 'N', 'T', 'AH0', 'B', 'IH2', 'L', 'IH0', 'T', 'IY0', 'EOS'], ['accountability(2)', 'SOS', 'AH0', 'K', 'AW1', 'N', 'AH0', 'B', 'IH0', 'L', 'IH0', 'T', 'IY0', 'EOS'], ['accountable', 'SOS', 'AH0', 'K', 'AW1', 'N', 'T', 'AH0', 'B', 'AH0', 'L', 'EOS'], ['accountable(2)', 'SOS', 'AH0', 'K', 'AW1', 'N', 'AH0', 'B', 'AH0', 'L', 'EOS'], ['accountancy', 'SOS', 'AH0', 'K', 'AW1', 'N', 'T', 'AH0', 'N', 'S', 'IY0', 'EOS'], ['accountant', 'SOS', 'AH0', 'K', 'AW1', 'N', 'T', 'AH0', 'N', 'T', 'EOS'], [\"accountant's\", 'SOS', 'AH0', 'K', 'AW1', 'N', 'T', 'AH0', 'N', 'T', 'S', 'EOS'], ['accountants', 'SOS', 'AH0', 'K', 'AW1', 'N', 'T', 'AH0', 'N', 'T', 'S', 'EOS'], [\"accountants'\", 'SOS', 'AH0', 'K', 'AW1', 'N', 'T', 'AH0', 'N', 'T', 'S', 'EOS'], ['accounted', 'SOS', 'AH0', 'K', 'AW1', 'N', 'T', 'IH0', 'D', 'EOS'], ['accounted(2)', 'SOS', 'AH0', 'K', 'AW1', 'N', 'AH0', 'D', 'EOS'], ['accountemp', 'SOS', 'AH0', 'K', 'AW1', 'N', 'T', 'EH2', 'M', 'P', 'EOS'], ['accountemps', 'SOS', 'AH0', 'K', 'AW1', 'N', 'T', 'EH2', 'M', 'P', 'S', 'EOS'], ['accounting', 'SOS', 'AH0', 'K', 'AW1', 'N', 'T', 'IH0', 'NG', 'EOS'], ['accounting(2)', 'SOS', 'AH0', 'K', 'AW1', 'N', 'IH0', 'NG', 'EOS'], ['accounts', 'SOS', 'AH0', 'K', 'AW1', 'N', 'T', 'S', 'EOS'], ['accouterment', 'SOS', 'AH0', 'K', 'UW1', 'T', 'ER0', 'M', 'AH0', 'N', 'T', 'EOS'], ['accouterments', 'SOS', 'AH0', 'K', 'UW1', 'T', 'ER0', 'M', 'AH0', 'N', 'T', 'S', 'EOS'], ['accoutrement', 'SOS', 'AH0', 'K', 'UW1', 'T', 'ER0', 'M', 'AH0', 'N', 'T', 'EOS'], ['accoutrements', 'SOS', 'AH0', 'K', 'UW1', 'T', 'ER0', 'M', 'AH0', 'N', 'T', 'S', 'EOS'], ['accra', 'SOS', 'AA1', 'K', 'R', 'AA2', 'EOS'], ['accredit', 'SOS', 'AH0', 'K', 'R', 'EH2', 'D', 'AH0', 'T', 'EOS'], ['accreditation', 'SOS', 'AH0', 'K', 'R', 'EH2', 'D', 'AH0', 'T', 'EY1', 'SH', 'AH0', 'N', 'EOS'], ['accreditations', 'SOS', 'AH0', 'K', 'R', 'EH2', 'D', 'AH0', 'T', 'EY1', 'SH', 'AH0', 'N', 'Z', 'EOS'], ['accredited', 'SOS', 'AH0', 'K', 'R', 'EH1', 'D', 'IH0', 'T', 'IH0', 'D', 'EOS'], ['accrediting', 'SOS', 'AH0', 'K', 'R', 'EH1', 'D', 'AH0', 'T', 'IH0', 'NG', 'EOS'], ['accreted', 'SOS', 'AH0', 'K', 'R', 'IY1', 'T', 'IH0', 'D', 'EOS'], ['accretion', 'SOS', 'AH0', 'K', 'R', 'IY1', 'SH', 'AH0', 'N', 'EOS'], ['accrual', 'SOS', 'AH0', 'K', 'R', 'UW1', 'AH0', 'L', 'EOS'], ['accruals', 'SOS', 'AH0', 'K', 'R', 'UW1', 'AH0', 'L', 'Z', 'EOS'], ['accrue', 'SOS', 'AH0', 'K', 'R', 'UW1', 'EOS'], ['accrued', 'SOS', 'AH0', 'K', 'R', 'UW1', 'D', 'EOS'], ['accrues', 'SOS', 'AH0', 'K', 'R', 'UW1', 'Z', 'EOS'], ['accruing', 'SOS', 'AH0', 'K', 'R', 'UW1', 'IH0', 'NG', 'EOS'], ['accu', 'SOS', 'AE1', 'K', 'Y', 'UW0', 'EOS'], ['accuhealth', 'SOS', 'AE1', 'K', 'Y', 'UW0', 'HH', 'EH2', 'L', 'TH', 'EOS'], ['accumulate', 'SOS', 'AH0', 'K', 'Y', 'UW1', 'M', 'Y', 'AH0', 'L', 'EY2', 'T', 'EOS'], ['accumulated', 'SOS', 'AH0', 'K', 'Y', 'UW1', 'M', 'Y', 'AH0', 'L', 'EY2', 'T', 'IH0', 'D', 'EOS'], ['accumulates', 'SOS', 'AH0', 'K', 'Y', 'UW1', 'M', 'Y', 'AH0', 'L', 'EY2', 'T', 'S', 'EOS'], ['accumulating', 'SOS', 'AH0', 'K', 'Y', 'UW1', 'M', 'Y', 'AH0', 'L', 'EY2', 'T', 'IH0', 'NG', 'EOS'], ['accumulation', 'SOS', 'AH0', 'K', 'Y', 'UW2', 'M', 'Y', 'AH0', 'L', 'EY1', 'SH', 'AH0', 'N', 'EOS'], ['accumulations', 'SOS', 'AH0', 'K', 'Y', 'UW2', 'M', 'Y', 'AH0', 'L', 'EY1', 'SH', 'AH0', 'N', 'Z', 'EOS'], ['accumulative', 'SOS', 'AH0', 'K', 'Y', 'UW1', 'M', 'Y', 'AH0', 'L', 'EY2', 'T', 'IH0', 'V', 'EOS'], ['accumulatively', 'SOS', 'AH0', 'K', 'Y', 'UW1', 'M', 'Y', 'AH0', 'L', 'EY2', 'T', 'IH0', 'V', 'L', 'IY0', 'EOS'], ['accumulatively(2)', 'SOS', 'AH0', 'K', 'Y', 'UW1', 'M', 'Y', 'AH0', 'L', 'AH0', 'T', 'IH2', 'V', 'L', 'IY0', 'EOS'], ['accumulator', 'SOS', 'AH0', 'K', 'Y', 'UW1', 'M', 'Y', 'AH0', 'L', 'EY2', 'T', 'ER0', 'EOS'], ['accumulators', 'SOS', 'AH0', 'K', 'Y', 'UW1', 'M', 'Y', 'AH0', 'L', 'EY2', 'T', 'ER0', 'Z', 'EOS'], ['accuracies', 'SOS', 'AE1', 'K', 'Y', 'ER0', 'AH0', 'S', 'IY0', 'Z', 'EOS'], ['accuracy', 'SOS', 'AE1', 'K', 'Y', 'ER0', 'AH0', 'S', 'IY0', 'EOS'], ['accurate', 'SOS', 'AE1', 'K', 'Y', 'ER0', 'AH0', 'T', 'EOS'], ['accurately', 'SOS', 'AE1', 'K', 'Y', 'ER0', 'AH0', 'T', 'L', 'IY0', 'EOS'], ['accuray', 'SOS', 'AE1', 'K', 'Y', 'ER0', 'EY2', 'EOS'], [\"accuray's\", 'SOS', 'AE1', 'K', 'Y', 'ER0', 'EY2', 'Z', 'EOS'], ['accuride', 'SOS', 'AE1', 'K', 'Y', 'ER0', 'AY2', 'D', 'EOS'], ['accursed', 'SOS', 'AE2', 'K', 'ER1', 'S', 'T', 'EOS'], ['accurso', 'SOS', 'AA0', 'K', 'UH1', 'R', 'S', 'OW0', 'EOS'], ['accusation', 'SOS', 'AE2', 'K', 'Y', 'AH0', 'Z', 'EY1', 'SH', 'AH0', 'N', 'EOS'], ['accusation(2)', 'SOS', 'AE2', 'K', 'Y', 'UW0', 'Z', 'EY1', 'SH', 'AH0', 'N', 'EOS'], ['accusations', 'SOS', 'AE2', 'K', 'Y', 'AH0', 'Z', 'EY1', 'SH', 'AH0', 'N', 'Z', 'EOS'], ['accusations(2)', 'SOS', 'AE2', 'K', 'Y', 'UW0', 'Z', 'EY1', 'SH', 'AH0', 'N', 'Z', 'EOS'], ['accusative', 'SOS', 'AH0', 'K', 'Y', 'UW1', 'Z', 'AH0', 'T', 'IH0', 'V', 'EOS'], ['accusatory', 'SOS', 'AH0', 'K', 'Y', 'UW1', 'Z', 'AH0', 'T', 'AO2', 'R', 'IY0', 'EOS'], ['accuse', 'SOS', 'AH0', 'K', 'Y', 'UW1', 'Z', 'EOS'], ['accused', 'SOS', 'AH0', 'K', 'Y', 'UW1', 'Z', 'D', 'EOS'], ['accuser', 'SOS', 'AH0', 'K', 'Y', 'UW1', 'Z', 'ER0', 'EOS'], ['accusers', 'SOS', 'AH0', 'K', 'Y', 'UW1', 'Z', 'ER0', 'Z', 'EOS'], ['accuses', 'SOS', 'AH0', 'K', 'Y', 'UW1', 'Z', 'IH0', 'Z', 'EOS'], ['accusing', 'SOS', 'AH0', 'K', 'Y', 'UW1', 'Z', 'IH0', 'NG', 'EOS'], ['accusingly', 'SOS', 'AH0', 'K', 'Y', 'UW1', 'Z', 'IH0', 'NG', 'L', 'IY0', 'EOS'], ['accustom', 'SOS', 'AH0', 'K', 'AH1', 'S', 'T', 'AH0', 'M', 'EOS'], ['accustomed', 'SOS', 'AH0', 'K', 'AH1', 'S', 'T', 'AH0', 'M', 'D', 'EOS'], ['accutane', 'SOS', 'AE1', 'K', 'Y', 'UW0', 'T', 'EY2', 'N', 'EOS'], ['ace', 'SOS', 'EY1', 'S', 'EOS'], ['acecomm', 'SOS', 'EY1', 'S', 'K', 'AA0', 'M', 'EOS'], ['aced', 'SOS', 'EY1', 'S', 'T', 'EOS'], ['acer', 'SOS', 'EY1', 'S', 'ER0', 'EOS'], ['acerbic', 'SOS', 'AH0', 'S', 'EH1', 'R', 'B', 'IH0', 'K', 'EOS'], ['acero', 'SOS', 'AH0', 'S', 'EH1', 'R', 'OW0', 'EOS'], ['acero(2)', 'SOS', 'AH0', 'S', 'Y', 'EH1', 'R', 'OW0', 'EOS'], ['acero(3)', 'SOS', 'AH0', 'TH', 'EH1', 'R', 'OW0', 'EOS'], ['acerra', 'SOS', 'AH0', 'S', 'EH1', 'R', 'AH0', 'EOS'], ['aces', 'SOS', 'EY1', 'S', 'IH0', 'Z', 'EOS'], ['acetaminophen', 'SOS', 'AH0', 'S', 'IY2', 'T', 'AH0', 'M', 'IH1', 'N', 'AH0', 'F', 'AH0', 'N', 'EOS'], ['acetate', 'SOS', 'AE1', 'S', 'AH0', 'T', 'EY2', 'T', 'EOS'], ['acetic', 'SOS', 'AH0', 'S', 'EH1', 'T', 'IH0', 'K', 'EOS'], ['acetic(2)', 'SOS', 'AH0', 'S', 'IY1', 'T', 'IH0', 'K', 'EOS'], ['aceto', 'SOS', 'AA0', 'S', 'EH1', 'T', 'OW0', 'EOS'], ['acetochlor', 'SOS', 'AA0', 'S', 'EH1', 'T', 'OW0', 'K', 'L', 'AO2', 'R', 'EOS'], ['acetone', 'SOS', 'AE1', 'S', 'AH0', 'T', 'OW2', 'N', 'EOS'], ['acetosyringone', 'SOS', 'AH0', 'S', 'EH2', 'T', 'OW0', 'S', 'IH1', 'R', 'IH0', 'NG', 'G', 'AO0', 'N', 'EOS'], ['acetylcholine', 'SOS', 'AH0', 'S', 'EH2', 'T', 'AH0', 'L', 'K', 'OW1', 'L', 'IY0', 'N', 'EOS'], ['acetylcholine(2)', 'SOS', 'AH0', 'S', 'IY2', 'T', 'AH0', 'L', 'K', 'OW1', 'L', 'IY0', 'N', 'EOS'], ['acetylene', 'SOS', 'AH0', 'S', 'EH1', 'T', 'AH0', 'L', 'IY2', 'N', 'EOS'], ['acevedo', 'SOS', 'AE0', 'S', 'AH0', 'V', 'EY1', 'D', 'OW0', 'EOS'], ['aceves', 'SOS', 'AA0', 'S', 'EY1', 'V', 'EH0', 'S', 'EOS'], ['acey', 'SOS', 'EY1', 'S', 'IY0', 'EOS'], ['ach', 'SOS', 'EY1', 'S', 'IY1', 'EY1', 'CH', 'EOS'], ['achaean', 'SOS', 'AH0', 'CH', 'IY1', 'AH0', 'N', 'EOS'], ['achatz', 'SOS', 'AE1', 'K', 'AH0', 'T', 'S', 'EOS'], ['ache', 'SOS', 'EY1', 'K', 'EOS'], ['achebe', 'SOS', 'AA0', 'CH', 'EY1', 'B', 'IY0', 'EOS'], ['ached', 'SOS', 'EY1', 'K', 'T', 'EOS'], ['achee', 'SOS', 'AH0', 'CH', 'IY1', 'EOS'], ['achenbach', 'SOS', 'AE1', 'K', 'IH0', 'N', 'B', 'AA0', 'K', 'EOS'], ['achenbaum', 'SOS', 'AE1', 'K', 'AH0', 'N', 'B', 'AW2', 'M', 'EOS'], ['achene', 'SOS', 'AH0', 'K', 'IY1', 'N', 'EOS'], ['achenes', 'SOS', 'AH0', 'K', 'IY1', 'N', 'Z', 'EOS'], ['aches', 'SOS', 'EY1', 'K', 'S', 'EOS'], ['acheson', 'SOS', 'AE1', 'CH', 'AH0', 'S', 'AH0', 'N', 'EOS'], [\"acheson's\", 'SOS', 'AE1', 'CH', 'AH0', 'S', 'AH0', 'N', 'Z', 'EOS'], ['achesons', 'SOS', 'AE1', 'CH', 'AH0', 'S', 'AH0', 'N', 'Z', 'EOS'], ['achey', 'SOS', 'AE1', 'CH', 'IY0', 'EOS'], ['achieva', 'SOS', 'AH0', 'CH', 'IY1', 'V', 'AH0', 'EOS'], ['achievable', 'SOS', 'AH0', 'CH', 'IY1', 'V', 'AH0', 'B', 'AH0', 'L', 'EOS'], ['achieve', 'SOS', 'AH0', 'CH', 'IY1', 'V', 'EOS'], ['achieved', 'SOS', 'AH0', 'CH', 'IY1', 'V', 'D', 'EOS'], ['achievement', 'SOS', 'AH0', 'CH', 'IY1', 'V', 'M', 'AH0', 'N', 'T', 'EOS'], ['achievements', 'SOS', 'AH0', 'CH', 'IY1', 'V', 'M', 'AH0', 'N', 'T', 'S', 'EOS'], ['achiever', 'SOS', 'AH0', 'CH', 'IY1', 'V', 'ER0', 'EOS'], ['achievers', 'SOS', 'AH0', 'CH', 'IY1', 'V', 'ER0', 'Z', 'EOS'], ['achieves', 'SOS', 'AH0', 'CH', 'IY1', 'V', 'Z', 'EOS'], ['achieving', 'SOS', 'AH0', 'CH', 'IY1', 'V', 'IH0', 'NG', 'EOS'], ['achill', 'SOS', 'AE1', 'K', 'IH0', 'L', '#', 'place,', 'irish', 'EOS'], [\"achill's\", 'SOS', 'AE1', 'K', 'IH0', 'L', 'Z', 'EOS'], ['achille', 'SOS', 'AH0', 'K', 'IH1', 'L', 'IY0', 'EOS'], ['achilles', 'SOS', 'AH0', 'K', 'IH1', 'L', 'IY0', 'Z', 'EOS'], [\"achilles'\", 'SOS', 'AH0', 'K', 'IH1', 'L', 'IY0', 'Z', 'EOS'], ['aching', 'SOS', 'EY1', 'K', 'IH0', 'NG', 'EOS'], ['achingly', 'SOS', 'EY1', 'K', 'IH0', 'NG', 'L', 'IY0', 'EOS'], ['achmed', 'SOS', 'AA1', 'HH', 'M', 'EH0', 'D', 'EOS'], ['achoa', 'SOS', 'AH0', 'CH', 'OW1', 'AH0', 'EOS'], [\"achoa's\", 'SOS', 'AH0', 'CH', 'OW1', 'AH0', 'Z', 'EOS'], ['achoo', 'SOS', 'AA2', 'CH', 'UW1', 'EOS'], ['achor', 'SOS', 'EY1', 'K', 'ER0', 'EOS'], ['achord', 'SOS', 'AE1', 'K', 'AO0', 'R', 'D', 'EOS'], ['achorn', 'SOS', 'AE1', 'K', 'ER0', 'N', 'EOS'], ['achtenberg', 'SOS', 'AE1', 'K', 'T', 'EH0', 'N', 'B', 'ER0', 'G', 'EOS'], ['achterberg', 'SOS', 'AE1', 'K', 'T', 'ER0', 'B', 'ER0', 'G', 'EOS'], ['achy', 'SOS', 'EY1', 'K', 'IY0', 'EOS'], ['acid', 'SOS', 'AE1', 'S', 'AH0', 'D', 'EOS'], ['acidic', 'SOS', 'AH0', 'S', 'IH1', 'D', 'IH0', 'K', 'EOS'], ['acidification', 'SOS', 'AH0', 'S', 'IH2', 'D', 'AH0', 'F', 'AH0', 'K', 'EY1', 'SH', 'AH0', 'N', 'EOS'], ['acidified', 'SOS', 'AH0', 'S', 'IH1', 'D', 'AH0', 'F', 'AY2', 'D', 'EOS'], ['acidifies', 'SOS', 'AH0', 'S', 'IH1', 'D', 'AH0', 'F', 'AY2', 'Z', 'EOS'], ['acidify', 'SOS', 'AH0', 'S', 'IH1', 'D', 'AH0', 'F', 'AY2', 'EOS'], ['acidity', 'SOS', 'AH0', 'S', 'IH1', 'D', 'AH0', 'T', 'IY0', 'EOS'], ['acidly', 'SOS', 'AE1', 'S', 'AH0', 'D', 'L', 'IY0', 'EOS'], ['acidosis', 'SOS', 'AE2', 'S', 'AH0', 'D', 'OW1', 'S', 'AH0', 'S', 'EOS'], ['acids', 'SOS', 'AE1', 'S', 'AH0', 'D', 'Z', 'EOS'], ['aciduria', 'SOS', 'AE2', 'S', 'AH0', 'D', 'UH1', 'R', 'IY0', 'AH0', 'EOS'], ['acierno', 'SOS', 'AA0', 'S', 'IH1', 'R', 'N', 'OW0', 'EOS'], ['ack', 'SOS', 'AE1', 'K', 'EOS'], ['acker', 'SOS', 'AE1', 'K', 'ER0', 'EOS'], [\"acker's\", 'SOS', 'AE1', 'K', 'ER0', 'Z', 'EOS'], ['ackerley', 'SOS', 'AE1', 'K', 'ER0', 'L', 'IY0', 'EOS'], ['ackerly', 'SOS', 'AE1', 'K', 'ER0', 'L', 'IY0', 'EOS'], ['ackerman', 'SOS', 'AE1', 'K', 'ER0', 'M', 'AH0', 'N', 'EOS'], ['ackermann', 'SOS', 'AE1', 'K', 'ER0', 'M', 'AH0', 'N', 'EOS'], ['ackermanville', 'SOS', 'AE1', 'K', 'ER0', 'M', 'AH0', 'N', 'V', 'IH0', 'L', 'EOS'], ['ackerson', 'SOS', 'AE1', 'K', 'ER0', 'S', 'AH0', 'N', 'EOS'], ['ackert', 'SOS', 'AE1', 'K', 'ER0', 'T', 'EOS'], ['ackhouse', 'SOS', 'AE1', 'K', 'HH', 'AW2', 'S', 'EOS'], ['ackland', 'SOS', 'AE1', 'K', 'L', 'AH0', 'N', 'D', 'EOS'], ['ackles', 'SOS', 'AE1', 'K', 'AH0', 'L', 'Z', 'EOS'], ['ackley', 'SOS', 'AE1', 'K', 'L', 'IY0', 'EOS'], ['acklin', 'SOS', 'AE1', 'K', 'L', 'IH0', 'N', 'EOS'], ['ackman', 'SOS', 'AE1', 'K', 'M', 'AH0', 'N', 'EOS'], ['acknowledge', 'SOS', 'AE0', 'K', 'N', 'AA1', 'L', 'IH0', 'JH', 'EOS'], ['acknowledgeable', 'SOS', 'AE0', 'K', 'N', 'AA1', 'L', 'IH0', 'JH', 'AH0', 'B', 'AH0', 'L', 'EOS'], ['acknowledged', 'SOS', 'AE0', 'K', 'N', 'AA1', 'L', 'IH0', 'JH', 'D', 'EOS'], ['acknowledgement', 'SOS', 'AE0', 'K', 'N', 'AA1', 'L', 'IH0', 'JH', 'M', 'AH0', 'N', 'T', 'EOS'], ['acknowledgements', 'SOS', 'AE0', 'K', 'N', 'AA1', 'L', 'IH0', 'JH', 'M', 'AH0', 'N', 'T', 'S', 'EOS'], ['acknowledges', 'SOS', 'AE0', 'K', 'N', 'AA1', 'L', 'IH0', 'JH', 'IH0', 'Z', 'EOS'], ['acknowledging', 'SOS', 'AE0', 'K', 'N', 'AA1', 'L', 'IH0', 'JH', 'IH0', 'NG', 'EOS'], ['acknowledgment', 'SOS', 'AE0', 'K', 'N', 'AA1', 'L', 'IH0', 'JH', 'M', 'AH0', 'N', 'T', 'EOS'], ['acknowledgments', 'SOS', 'AE0', 'K', 'N', 'AA1', 'L', 'IH0', 'JH', 'M', 'AH0', 'N', 'T', 'S', 'EOS'], ['ackroyd', 'SOS', 'AE1', 'K', 'R', 'OY2', 'D', 'EOS'], [\"ackroyd's\", 'SOS', 'AE1', 'K', 'R', 'OY2', 'D', 'Z', 'EOS'], ['acm', 'SOS', 'EY2', 'S', 'IY2', 'EH1', 'M', 'EOS'], ['acmat', 'SOS', 'AE1', 'K', 'M', 'AE0', 'T', 'EOS'], [\"acmat's\", 'SOS', 'AE1', 'K', 'M', 'AE0', 'T', 'S', 'EOS'], ['acme', 'SOS', 'AE1', 'K', 'M', 'IY0', 'EOS'], [\"acme's\", 'SOS', 'AE1', 'K', 'M', 'IY0', 'Z', 'EOS'], ['acne', 'SOS', 'AE1', 'K', 'N', 'IY0', 'EOS'], ['acocella', 'SOS', 'AA0', 'K', 'OW0', 'CH', 'EH1', 'L', 'AH0', 'EOS'], ['acoff', 'SOS', 'AE1', 'K', 'AO0', 'F', 'EOS'], ['acog', 'SOS', 'AH0', 'K', 'AO1', 'G', 'EOS'], ['acolyte', 'SOS', 'AE1', 'K', 'AH0', 'L', 'AY2', 'T', 'EOS'], ['acolytes', 'SOS', 'AE1', 'K', 'AH0', 'L', 'AY2', 'T', 'S', 'EOS'], ['acomb', 'SOS', 'EY1', 'K', 'AH0', 'M', 'EOS'], ['acomb(2)', 'SOS', 'Y', 'AE1', 'K', 'AH0', 'M', 'EOS'], ['acord', 'SOS', 'AH0', 'K', 'AO1', 'R', 'D', 'EOS'], ['acordia', 'SOS', 'AH0', 'K', 'AO1', 'R', 'D', 'IY0', 'AH0', 'EOS'], ['acorn', 'SOS', 'EY1', 'K', 'AO0', 'R', 'N', 'EOS'], [\"acorn's\", 'SOS', 'EY1', 'K', 'AO0', 'R', 'N', 'Z', 'EOS'], ['acorns', 'SOS', 'EY1', 'K', 'AO0', 'R', 'N', 'Z', 'EOS'], ['acosta', 'SOS', 'AH0', 'K', 'AO1', 'S', 'T', 'AH0', 'EOS'], ['acott', 'SOS', 'EY1', 'K', 'AO0', 'T', 'EOS'], ['acoustic', 'SOS', 'AH0', 'K', 'UW1', 'S', 'T', 'IH0', 'K', 'EOS'], ['acoustical', 'SOS', 'AH0', 'K', 'UW1', 'S', 'T', 'IH0', 'K', 'AH0', 'L', 'EOS'], ['acoustically', 'SOS', 'AH0', 'K', 'UW1', 'S', 'T', 'IH0', 'K', 'L', 'IY0', 'EOS'], ['acoustics', 'SOS', 'AH0', 'K', 'UW1', 'S', 'T', 'IH0', 'K', 'S', 'EOS'], ['acquaint', 'SOS', 'AH0', 'K', 'W', 'EY1', 'N', 'T', 'EOS'], ['acquaintance', 'SOS', 'AH0', 'K', 'W', 'EY1', 'N', 'T', 'AH0', 'N', 'S', 'EOS'], ['acquaintances', 'SOS', 'AH0', 'K', 'W', 'EY1', 'N', 'T', 'AH0', 'N', 'S', 'IH0', 'Z', 'EOS'], ['acquaintanceship', 'SOS', 'AH0', 'K', 'W', 'EY1', 'N', 'T', 'AH0', 'N', 'S', 'SH', 'IH0', 'P', 'EOS'], ['acquainted', 'SOS', 'AH0', 'K', 'W', 'EY1', 'N', 'T', 'IH0', 'D', 'EOS'], ['acquainted(2)', 'SOS', 'AH0', 'K', 'W', 'EY1', 'N', 'IH0', 'D', 'EOS'], ['acquaviva', 'SOS', 'AA0', 'K', 'W', 'AA0', 'V', 'IY1', 'V', 'AH0', 'EOS'], ['acquiesce', 'SOS', 'AE2', 'K', 'W', 'IY0', 'EH1', 'S', 'EOS'], ['acquiesced', 'SOS', 'AE2', 'K', 'W', 'IY0', 'EH1', 'S', 'T', 'EOS'], ['acquiescence', 'SOS', 'AE2', 'K', 'W', 'IY0', 'EH1', 'S', 'AH0', 'N', 'S', 'EOS'], ['acquiescent', 'SOS', 'AE2', 'K', 'W', 'IY0', 'EH1', 'S', 'AH0', 'N', 'T', 'EOS'], ['acquiescing', 'SOS', 'AE2', 'K', 'W', 'IY0', 'EH1', 'S', 'IH0', 'NG', 'EOS'], ['acquire', 'SOS', 'AH0', 'K', 'W', 'AY1', 'ER0', 'EOS'], ['acquired', 'SOS', 'AH0', 'K', 'W', 'AY1', 'ER0', 'D', 'EOS'], ['acquirer', 'SOS', 'AH0', 'K', 'W', 'AY1', 'ER0', 'ER0', 'EOS'], [\"acquirer's\", 'SOS', 'AH0', 'K', 'W', 'AY1', 'ER0', 'ER0', 'Z', 'EOS'], ['acquirers', 'SOS', 'AH0', 'K', 'W', 'AY1', 'ER0', 'ER0', 'Z', 'EOS'], ['acquires', 'SOS', 'AH0', 'K', 'W', 'AY1', 'ER0', 'Z', 'EOS'], ['acquiring', 'SOS', 'AH0', 'K', 'W', 'AY1', 'R', 'IH0', 'NG', 'EOS'], ['acquiring(2)', 'SOS', 'AH0', 'K', 'W', 'AY1', 'ER0', 'IH0', 'NG', 'EOS'], ['acquisition', 'SOS', 'AE2', 'K', 'W', 'AH0', 'Z', 'IH1', 'SH', 'AH0', 'N', 'EOS'], [\"acquisition's\", 'SOS', 'AE2', 'K', 'W', 'AH0', 'Z', 'IH1', 'SH', 'AH0', 'N', 'Z', 'EOS'], ['acquisitions', 'SOS', 'AE2', 'K', 'W', 'AH0', 'Z', 'IH1', 'SH', 'AH0', 'N', 'Z', 'EOS'], ['acquisitive', 'SOS', 'AH0', 'K', 'W', 'IH1', 'Z', 'AH0', 'T', 'IH0', 'V', 'EOS'], ['acquit', 'SOS', 'AH0', 'K', 'W', 'IH1', 'T', 'EOS'], ['acquitaine', 'SOS', 'AE1', 'K', 'W', 'IH0', 'T', 'EY2', 'N', 'EOS'], ['acquits', 'SOS', 'AH0', 'K', 'W', 'IH1', 'T', 'S', 'EOS'], ['acquittal', 'SOS', 'AH0', 'K', 'W', 'IH1', 'T', 'AH0', 'L', 'EOS'], ['acquittals', 'SOS', 'AH0', 'K', 'W', 'IH1', 'T', 'AH0', 'L', 'Z', 'EOS'], ['acquitted', 'SOS', 'AH0', 'K', 'W', 'IH1', 'T', 'IH0', 'D', 'EOS'], ['acquitting', 'SOS', 'AH0', 'K', 'W', 'IH1', 'T', 'IH0', 'NG', 'EOS'], ['acre', 'SOS', 'EY1', 'K', 'ER0', 'EOS'], ['acreage', 'SOS', 'EY1', 'K', 'ER0', 'IH0', 'JH', 'EOS'], ['acreage(2)', 'SOS', 'EY1', 'K', 'R', 'AH0', 'JH', 'EOS'], ['acree', 'SOS', 'AH0', 'K', 'R', 'IY1', 'EOS'], ['acres', 'SOS', 'EY1', 'K', 'ER0', 'Z', 'EOS'], ['acrey', 'SOS', 'AE1', 'K', 'R', 'IY0', 'EOS'], ['acri', 'SOS', 'AA1', 'K', 'R', 'IY0', 'EOS'], ['acrid', 'SOS', 'AE1', 'K', 'R', 'IH0', 'D', 'EOS'], ['acrimonious', 'SOS', 'AE2', 'K', 'R', 'AH0', 'M', 'OW1', 'N', 'IY0', 'AH0', 'S', 'EOS'], ['acrimony', 'SOS', 'AE1', 'K', 'R', 'IH0', 'M', 'OW2', 'N', 'IY0', 'EOS'], ['acro', 'SOS', 'AE1', 'K', 'R', 'OW0', 'EOS'], ['acrobat', 'SOS', 'AE1', 'K', 'R', 'AH0', 'B', 'AE2', 'T', 'EOS'], ['acrobatic', 'SOS', 'AE2', 'K', 'R', 'AH0', 'B', 'AE1', 'T', 'IH0', 'K', 'EOS'], ['acrobatics', 'SOS', 'AE2', 'K', 'R', 'AH0', 'B', 'AE1', 'T', 'IH0', 'K', 'S', 'EOS'], ['acrobats', 'SOS', 'AE1', 'K', 'R', 'AH0', 'B', 'AE2', 'T', 'S', 'EOS'], ['acrolein', 'SOS', 'AE1', 'K', 'R', 'OW0', 'L', 'IY2', 'N', 'EOS'], ['acronym', 'SOS', 'AE1', 'K', 'R', 'AH0', 'N', 'IH0', 'M', 'EOS'], ['acronyms', 'SOS', 'AE1', 'K', 'R', 'AH0', 'N', 'IH0', 'M', 'Z', 'EOS'], ['acropolis', 'SOS', 'AH0', 'K', 'R', 'AA1', 'P', 'AH0', 'L', 'AH0', 'S', 'EOS'], ['across', 'SOS', 'AH0', 'K', 'R', 'AO1', 'S', 'EOS'], ['acrylic', 'SOS', 'AH0', 'K', 'R', 'IH1', 'L', 'IH0', 'K', 'EOS'], ['acrylics', 'SOS', 'AH0', 'K', 'R', 'IH1', 'L', 'IH0', 'K', 'S', 'EOS'], ['act', 'SOS', 'AE1', 'K', 'T', 'EOS'], [\"act's\", 'SOS', 'AE1', 'K', 'T', 'S', 'EOS'], ['acta', 'SOS', 'AE1', 'K', 'T', 'AA0', 'EOS'], ['actava', 'SOS', 'AE2', 'K', 'T', 'AA1', 'V', 'AH0', 'EOS'], [\"actava's\", 'SOS', 'AE2', 'K', 'T', 'AA1', 'V', 'AH0', 'Z', 'EOS'], ['actavas', 'SOS', 'AE2', 'K', 'T', 'AA1', 'V', 'AH0', 'Z', 'EOS'], ['acted', 'SOS', 'AE1', 'K', 'T', 'IH0', 'D', 'EOS'], ['actel', 'SOS', 'AE1', 'K', 'T', 'EH0', 'L', 'EOS'], ['actigall', 'SOS', 'AE1', 'K', 'T', 'IH0', 'G', 'AO0', 'L', 'EOS'], ['actin', 'SOS', 'AE1', 'K', 'T', 'AH0', 'N', 'EOS'], ['acting', 'SOS', 'AE1', 'K', 'T', 'IH0', 'NG', 'EOS'], ['actinide', 'SOS', 'AE1', 'K', 'T', 'IH0', 'N', 'AY2', 'D', 'EOS'], ['actinidia', 'SOS', 'AE2', 'K', 'T', 'IH0', 'N', 'IH1', 'D', 'IY0', 'AH0', 'EOS'], ['actinomycosis', 'SOS', 'AE2', 'K', 'T', 'IH2', 'N', 'OW0', 'M', 'AY2', 'K', 'OW1', 'S', 'IH0', 'S', 'EOS'], ['action', 'SOS', 'AE1', 'K', 'SH', 'AH0', 'N', 'EOS'], [\"action's\", 'SOS', 'AE1', 'K', 'SH', 'AH0', 'N', 'Z', 'EOS'], ['actionable', 'SOS', 'AE1', 'K', 'SH', 'AH0', 'N', 'AH0', 'B', 'AH0', 'L', 'EOS'], ['actions', 'SOS', 'AE1', 'K', 'SH', 'AH0', 'N', 'Z', 'EOS'], ['activase', 'SOS', 'AE1', 'K', 'T', 'IH0', 'V', 'EY2', 'Z', 'EOS'], ['activate', 'SOS', 'AE1', 'K', 'T', 'AH0', 'V', 'EY2', 'T', 'EOS'], ['activated', 'SOS', 'AE1', 'K', 'T', 'AH0', 'V', 'EY2', 'T', 'IH0', 'D', 'EOS'], ['activates', 'SOS', 'AE1', 'K', 'T', 'AH0', 'V', 'EY2', 'T', 'S', 'EOS'], ['activating', 'SOS', 'AE1', 'K', 'T', 'AH0', 'V', 'EY2', 'T', 'IH0', 'NG', 'EOS'], ['activation', 'SOS', 'AE2', 'K', 'T', 'AH0', 'V', 'EY1', 'SH', 'AH0', 'N', 'EOS'], ['activator', 'SOS', 'AE1', 'K', 'T', 'AH0', 'V', 'EY2', 'T', 'ER0', 'EOS'], ['active', 'SOS', 'AE1', 'K', 'T', 'IH0', 'V', 'EOS'], [\"active's\", 'SOS', 'AE1', 'K', 'T', 'IH0', 'V', 'Z', 'EOS'], ['actively', 'SOS', 'AE1', 'K', 'T', 'IH0', 'V', 'L', 'IY0', 'EOS'], ['actives', 'SOS', 'AE1', 'K', 'T', 'IH0', 'V', 'Z', 'EOS'], ['activision', 'SOS', 'AE1', 'K', 'T', 'IH0', 'V', 'IH2', 'ZH', 'AH0', 'N', 'EOS'], ['activism', 'SOS', 'AE1', 'K', 'T', 'IH0', 'V', 'IH2', 'Z', 'AH0', 'M', 'EOS'], ['activist', 'SOS', 'AE1', 'K', 'T', 'AH0', 'V', 'AH0', 'S', 'T', 'EOS'], ['activist(2)', 'SOS', 'AE1', 'K', 'T', 'IH0', 'V', 'IH0', 'S', 'T', 'EOS'], ['activists', 'SOS', 'AE1', 'K', 'T', 'AH0', 'V', 'AH0', 'S', 'T', 'S', 'EOS'], ['activists(2)', 'SOS', 'AE1', 'K', 'T', 'IH0', 'V', 'IH0', 'S', 'T', 'S', 'EOS'], [\"activists'\", 'SOS', 'AE1', 'K', 'T', 'IH0', 'V', 'IH0', 'S', 'T', 'S', 'EOS'], ['activities', 'SOS', 'AE0', 'K', 'T', 'IH1', 'V', 'AH0', 'T', 'IY0', 'Z', 'EOS'], ['activities(2)', 'SOS', 'AE0', 'K', 'T', 'IH1', 'V', 'IH0', 'T', 'IY0', 'Z', 'EOS'], ['activity', 'SOS', 'AE0', 'K', 'T', 'IH1', 'V', 'AH0', 'T', 'IY0', 'EOS'], ['activity(2)', 'SOS', 'AE0', 'K', 'T', 'IH1', 'V', 'IH0', 'T', 'IY0', 'EOS'], ['actmedia', 'SOS', 'AE0', 'K', 'T', 'M', 'IY1', 'D', 'IY0', 'AH0', 'EOS'], ['actodine', 'SOS', 'AE1', 'K', 'T', 'OW0', 'D', 'AY2', 'N', 'EOS'], ['acton', 'SOS', 'AE1', 'K', 'T', 'AH0', 'N', 'EOS'], ['actor', 'SOS', 'AE1', 'K', 'T', 'ER0', 'EOS'], [\"actor's\", 'SOS', 'AE1', 'K', 'T', 'ER0', 'Z', 'EOS'], ['actors', 'SOS', 'AE1', 'K', 'T', 'ER0', 'Z', 'EOS'], [\"actors'\", 'SOS', 'AE1', 'K', 'T', 'ER0', 'Z', 'EOS'], ['actress', 'SOS', 'AE1', 'K', 'T', 'R', 'AH0', 'S', 'EOS'], [\"actress's\", 'SOS', 'AE1', 'K', 'T', 'R', 'AH0', 'S', 'IH0', 'Z', 'EOS'], ['actresses', 'SOS', 'AE1', 'K', 'T', 'R', 'AH0', 'S', 'IH0', 'Z', 'EOS'], ['acts', 'SOS', 'AE1', 'K', 'T', 'S', 'EOS'], ['acts(2)', 'SOS', 'AE1', 'K', 'S', 'EOS'], ['actual', 'SOS', 'AE1', 'K', 'CH', 'AH0', 'W', 'AH0', 'L', 'EOS'], ['actual(2)', 'SOS', 'AE1', 'K', 'SH', 'AH0', 'L', 'EOS'], ['actuality', 'SOS', 'AE2', 'K', 'CH', 'UW0', 'AE1', 'L', 'AH0', 'T', 'IY2', 'EOS'], ['actualize', 'SOS', 'AE1', 'K', 'CH', 'UW2', 'AH0', 'L', 'AY2', 'Z', 'EOS'], ['actually', 'SOS', 'AE1', 'K', 'CH', 'UW2', 'AH0', 'L', 'IY0', 'EOS'], ['actually(2)', 'SOS', 'AE1', 'K', 'CH', 'L', 'IY0', 'EOS'], ['actually(3)', 'SOS', 'AE1', 'K', 'SH', 'AH0', 'L', 'IY0', 'EOS'], ['actuarial', 'SOS', 'AE2', 'K', 'CH', 'UW2', 'EH1', 'R', 'IY0', 'AH0', 'L', 'EOS'], ['actuaries', 'SOS', 'AE1', 'K', 'CH', 'UW2', 'EH1', 'R', 'IY2', 'Z', 'EOS'], ['actuary', 'SOS', 'AE1', 'K', 'CH', 'UW0', 'EH1', 'R', 'IY2', 'EOS'], ['actuate', 'SOS', 'AE1', 'K', 'CH', 'UW2', 'EY1', 'T', 'EOS'], ['actuator', 'SOS', 'AE1', 'K', 'T', 'Y', 'UW0', 'EY2', 'T', 'ER0', 'EOS'], ['actuator(2)', 'SOS', 'AE1', 'K', 'CH', 'UW0', 'EY2', 'T', 'ER0', 'EOS'], ['actuators', 'SOS', 'AE1', 'K', 'T', 'Y', 'UW0', 'EY2', 'T', 'ER0', 'Z', 'EOS'], ['actuators(2)', 'SOS', 'AE1', 'K', 'CH', 'UW0', 'EY2', 'T', 'ER0', 'Z', 'EOS'], ['actus', 'SOS', 'AE1', 'K', 'T', 'AH0', 'S', 'EOS'], ['acuff', 'SOS', 'AH0', 'K', 'AH1', 'F', 'EOS'], ['acuity', 'SOS', 'AH0', 'K', 'Y', 'UW1', 'AH0', 'T', 'IY0', 'EOS'], ['acumen', 'SOS', 'AH0', 'K', 'Y', 'UW1', 'M', 'AH0', 'N', 'EOS'], ['acuna', 'SOS', 'AA0', 'K', 'UW1', 'N', 'AH0', 'EOS'], ['acupuncture', 'SOS', 'AE1', 'K', 'Y', 'UW0', 'P', 'AH2', 'NG', 'K', 'CH', 'ER0', 'EOS'], ['acura', 'SOS', 'AE1', 'K', 'Y', 'ER0', 'AH0', 'EOS'], [\"acura's\", 'SOS', 'AE1', 'K', 'Y', 'ER0', 'AH0', 'Z', 'EOS'], ['acuras', 'SOS', 'AE1', 'K', 'Y', 'ER0', 'AH0', 'Z', 'EOS'], ['acuson', 'SOS', 'AE2', 'K', 'Y', 'UW1', 'S', 'AH0', 'N', 'EOS'], ['acustar', 'SOS', 'AE1', 'K', 'Y', 'UW0', 'S', 'T', 'AA2', 'R', 'EOS'], ['acusyst', 'SOS', 'AE1', 'K', 'Y', 'UW0', 'S', 'IH0', 'S', 'T', 'EOS'], ['acute', 'SOS', 'AH0', 'K', 'Y', 'UW1', 'T', 'EOS'], ['acutely', 'SOS', 'AH0', 'K', 'Y', 'UW1', 'T', 'L', 'IY0', 'EOS'], ['acuteness', 'SOS', 'AH0', 'K', 'Y', 'UW1', 'T', 'N', 'AH0', 'S', 'EOS'], ['acyclovir', 'SOS', 'AH0', 'S', 'IH1', 'K', 'L', 'OW0', 'V', 'IH2', 'R', 'EOS'], ['ad', 'SOS', 'AE1', 'D', 'EOS'], [\"ad's\", 'SOS', 'AE1', 'D', 'Z', 'EOS'], ['ad-hoc', 'SOS', 'AE1', 'D', 'HH', 'AA1', 'K', 'EOS'], ['ad-lib', 'SOS', 'AE1', 'D', 'L', 'IH1', 'B', 'EOS'], ['ad-nauseam', 'SOS', 'AE1', 'D', 'N', 'AO1', 'Z', 'IY0', 'AA0', 'M', 'EOS'], ['ad-nauseum', 'SOS', 'AE1', 'D', 'N', 'AO1', 'Z', 'IY0', 'AH0', 'M', 'EOS'], ['ada', 'SOS', 'EY1', 'D', 'AH0', 'EOS'], [\"ada's\", 'SOS', 'EY1', 'D', 'AH0', 'Z', 'EOS'], ['adabel', 'SOS', 'AE1', 'D', 'AH0', 'B', 'EH0', 'L', 'EOS'], ['adabelle', 'SOS', 'AE1', 'D', 'AH0', 'B', 'AH0', 'L', 'EOS'], ['adachi', 'SOS', 'AA0', 'D', 'AA1', 'K', 'IY0', 'EOS'], ['adage', 'SOS', 'AE1', 'D', 'AH0', 'JH', 'EOS'], ['adage(2)', 'SOS', 'AE1', 'D', 'IH0', 'JH', 'EOS'], ['adagio', 'SOS', 'AH0', 'D', 'AA1', 'ZH', 'IY0', 'OW2', 'EOS'], ['adah', 'SOS', 'AE1', 'D', 'AA0', 'EOS'], ['adair', 'SOS', 'AH0', 'D', 'EH1', 'R', 'EOS'], ['adaire', 'SOS', 'AA0', 'D', 'EH1', 'R', 'EOS'], ['adak', 'SOS', 'AH0', 'D', 'AE1', 'K', 'EOS'], ['adalah', 'SOS', 'AA0', 'D', 'AA1', 'L', 'AH0', 'EOS'], ['adalia', 'SOS', 'AA0', 'D', 'AA1', 'L', 'IY0', 'AH0', 'EOS'], ['adam', 'SOS', 'AE1', 'D', 'AH0', 'M', 'EOS'], [\"adam's\", 'SOS', 'AE1', 'D', 'AH0', 'M', 'Z', 'EOS'], ['adamant', 'SOS', 'AE1', 'D', 'AH0', 'M', 'AH0', 'N', 'T', 'EOS'], ['adamantly', 'SOS', 'AE1', 'D', 'AH0', 'M', 'AH0', 'N', 'T', 'L', 'IY0', 'EOS'], ['adamcik', 'SOS', 'AA1', 'D', 'AH0', 'M', 'CH', 'IH0', 'K', 'EOS'], ['adamczak', 'SOS', 'AA1', 'D', 'AH0', 'M', 'CH', 'AE0', 'K', 'EOS'], ['adamczyk', 'SOS', 'AA1', 'D', 'AH0', 'M', 'CH', 'IH0', 'K', 'EOS'], ['adame', 'SOS', 'AA0', 'D', 'AA1', 'M', 'IY0', 'EOS'], ['adamec', 'SOS', 'AH0', 'D', 'AA1', 'M', 'IH0', 'K', 'EOS'], ['adamek', 'SOS', 'AH0', 'D', 'AA1', 'M', 'EH0', 'K', 'EOS'], ['adames', 'SOS', 'AH0', 'D', 'EY1', 'M', 'Z', 'EOS'], ['adami', 'SOS', 'AA0', 'D', 'AA1', 'M', 'IY0', 'EOS'], ['adamik', 'SOS', 'AH0', 'D', 'AA1', 'M', 'IH0', 'K', 'EOS'], ['adamina', 'SOS', 'AA0', 'D', 'AA0', 'M', 'IY1', 'N', 'AH0', 'EOS'], ['adamkus', 'SOS', 'AE1', 'D', 'AH0', 'M', 'K', 'AH0', 'S', 'EOS'], ['adamo', 'SOS', 'AA0', 'D', 'AA1', 'M', 'OW0', 'EOS'], ['adamowicz', 'SOS', 'AH0', 'D', 'AA1', 'M', 'AH0', 'V', 'IH0', 'CH', 'EOS'], ['adams', 'SOS', 'AE1', 'D', 'AH0', 'M', 'Z', 'EOS'], [\"adams'\", 'SOS', 'AE1', 'D', 'AH0', 'M', 'Z', 'EOS'], [\"adams's\", 'SOS', 'AE1', 'D', 'AH0', 'M', 'Z', 'IH0', 'Z', 'EOS'], ['adamski', 'SOS', 'AH0', 'D', 'AE1', 'M', 'S', 'K', 'IY2', 'EOS'], ['adamson', 'SOS', 'AE1', 'D', 'AH0', 'M', 'S', 'AH0', 'N', 'EOS']]\n",
            "[['SOS', 'B', 'AW1', 'T', 'EOS'], ['SOS', 'K', 'AH0', 'Z', 'EOS'], ['SOS', 'K', 'AO1', 'R', 'S', 'EOS'], ['SOS', 'K', 'Y', 'UW1', 'Z', 'EOS'], ['SOS', 'AH0', 'M', 'EOS'], ['SOS', 'F', 'R', 'IH1', 'S', 'K', 'OW0', 'EOS'], ['SOS', 'G', 'EH1', 'N', 'EOS'], ['SOS', 'K', 'EY1', 'EOS'], ['SOS', 'AH0', 'M', 'EOS'], ['SOS', 'AH0', 'N', 'EOS'], ['SOS', 'R', 'AW1', 'N', 'D', 'EOS'], ['SOS', 'EH1', 'S', 'EOS'], ['SOS', 'T', 'IH1', 'L', 'EOS'], ['SOS', 'T', 'IH1', 'Z', 'EOS'], ['SOS', 'T', 'W', 'AH1', 'Z', 'EOS'], ['SOS', 'AH0', 'EOS'], ['SOS', 'EY1', 'EOS'], ['SOS', 'EY1', 'Z', 'EOS'], ['SOS', 'EY1', 'EOS'], ['SOS', 'EY1', 'Z', 'EOS'], ['SOS', 'EY2', 'D', 'IY1', 'EOS'], ['SOS', 'EY2', 'EH1', 'M', 'EOS'], ['SOS', 'EY1', 'Z', 'EOS'], ['SOS', 'T', 'R', 'IH2', 'P', 'AH0', 'L', 'EY1', 'EOS'], ['SOS', 'AA1', 'B', 'ER0', 'G', 'EOS'], ['SOS', 'AA1', 'K', 'AH0', 'N', 'EOS'], ['SOS', 'AA1', 'K', 'AH0', 'N', 'ER0', 'EOS'], ['SOS', 'AA1', 'K', 'ER0', 'EOS'], ['SOS', 'AO1', 'L', 'B', 'AO0', 'R', 'G', '#', 'place,', 'danish', 'EOS'], ['SOS', 'AA1', 'L', 'B', 'AO0', 'R', 'G', 'EOS'], ['SOS', 'AE1', 'L', 'B', 'ER0', 'G', '#', 'place,', 'dutch', 'EOS'], ['SOS', 'AE1', 'L', 'AH0', 'N', '#', 'place,', 'german', 'EOS'], ['SOS', 'AA1', 'L', 'AH0', 'N', 'EOS'], ['SOS', 'AA2', 'L', 'IY1', 'AA2', 'EOS'], ['SOS', 'AA1', 'L', 'S', 'EH0', 'TH', 'EOS'], ['SOS', 'AA1', 'L', 'S', 'M', 'IH0', 'R', '#', 'place,', 'dutch', 'EOS'], ['SOS', 'AA1', 'L', 'T', 'OW2', '#', 'name,', 'finnish', 'EOS'], ['SOS', 'AA1', 'M', 'AH0', 'T', 'EOS'], ['SOS', 'AA1', 'N', 'K', 'AO2', 'R', 'EOS'], ['SOS', 'AA0', 'R', 'D', 'EH1', 'M', 'AH0', 'EOS'], ['SOS', 'AA1', 'R', 'D', 'V', 'AA2', 'R', 'K', 'EOS'], ['SOS', 'AA1', 'R', 'D', 'V', 'AA2', 'R', 'K', 'S', 'EOS'], ['SOS', 'AA1', 'R', 'G', 'EOS'], ['SOS', 'AA2', 'HH', 'UW1', 'S', 'EOS'], ['SOS', 'EH1', 'R', 'AH0', 'N', 'EOS'], ['SOS', 'EH1', 'R', 'AH0', 'N', 'Z', 'EOS'], ['SOS', 'EH1', 'R', 'AH0', 'N', 'Z', 'EOS'], ['SOS', 'EH1', 'R', 'AH0', 'N', 'S', 'AH0', 'N', 'EOS'], ['SOS', 'AA1', 'R', 'AH0', 'N', 'S', 'AH0', 'N', 'EOS'], ['SOS', 'EH1', 'R', 'AH0', 'N', 'S', 'AH0', 'N', 'Z', 'EOS'], ['SOS', 'AA1', 'R', 'AH0', 'N', 'S', 'AH0', 'N', 'Z', 'EOS'], ['SOS', 'AA1', 'R', 'T', 'IY2', 'EOS'], ['SOS', 'AA1', 'S', 'EOS'], ['SOS', 'AA1', 'S', 'AH0', 'N', 'EOS'], ['SOS', 'AE1', 'B', 'EOS'], ['SOS', 'EY1', 'B', 'IY1', 'EOS'], ['SOS', 'EY2', 'B', 'IY2', 'EY1', 'EOS'], ['SOS', 'AH0', 'B', 'AA1', 'B', 'AH0', 'EOS'], ['SOS', 'AA1', 'B', 'AH0', 'B', 'AH0', 'EOS'], ['SOS', 'AE1', 'B', 'AH0', 'K', 'AH0', 'EOS'], ['SOS', 'AH0', 'B', 'AE1', 'K', 'EOS'], ['SOS', 'AE1', 'B', 'AH0', 'K', 'OW2', 'EOS'], ['SOS', 'AE1', 'B', 'AH0', 'K', 'AH0', 'S', 'EOS'], ['SOS', 'AH0', 'B', 'AA1', 'D', 'EOS'], ['SOS', 'AH0', 'B', 'AE1', 'D', 'AH0', 'K', 'AH0', 'EOS'], ['SOS', 'AH0', 'B', 'AE1', 'D', 'IY0', 'EOS'], ['SOS', 'AH0', 'B', 'AE1', 'D', 'IY0', 'EOS'], ['SOS', 'AH0', 'B', 'EH1', 'R', 'EOS'], ['SOS', 'AH0', 'B', 'AA1', 'L', 'K', 'IH0', 'N', 'EOS'], ['SOS', 'AE2', 'B', 'AH0', 'L', 'OW1', 'N', 'IY0', 'EOS'], ['SOS', 'AE2', 'B', 'AH0', 'L', 'OW1', 'N', 'IY0', 'Z', 'EOS'], ['SOS', 'AA0', 'B', 'AA1', 'L', 'OW0', 'Z', 'EOS'], ['SOS', 'AH0', 'B', 'AE1', 'N', 'D', 'AH0', 'N', 'EOS'], ['SOS', 'AH0', 'B', 'AE1', 'N', 'D', 'AH0', 'N', 'D', 'EOS'], ['SOS', 'AH0', 'B', 'AE1', 'N', 'D', 'AH0', 'N', 'IH0', 'NG', 'EOS'], ['SOS', 'AH0', 'B', 'AE1', 'N', 'D', 'AH0', 'N', 'M', 'AH0', 'N', 'T', 'EOS'], ['SOS', 'AH0', 'B', 'AE1', 'N', 'D', 'AH0', 'N', 'M', 'AH0', 'N', 'T', 'S', 'EOS'], ['SOS', 'AH0', 'B', 'AE1', 'N', 'D', 'AH0', 'N', 'Z', 'EOS'], ['SOS', 'AH0', 'B', 'AE1', 'N', 'T', 'OW0', 'EOS'], ['SOS', 'AH0', 'B', 'AA1', 'R', 'K', 'AH0', 'EOS'], ['SOS', 'AA0', 'B', 'AA1', 'R', 'IY0', 'EOS'], ['SOS', 'AE1', 'B', 'AH0', 'S', 'K', 'AH0', 'L', 'EOS'], ['SOS', 'AH0', 'B', 'AE1', 'SH', 'EOS'], ['SOS', 'AH0', 'B', 'AE1', 'SH', 'T', 'EOS'], ['SOS', 'AH0', 'B', 'EY1', 'ZH', 'Y', 'AH0', 'EOS'], ['SOS', 'AH0', 'B', 'EY1', 'T', 'EOS'], ['SOS', 'AH0', 'B', 'EY1', 'T', 'IH0', 'D', 'EOS'], ['SOS', 'AH0', 'B', 'EY1', 'T', 'M', 'AH0', 'N', 'T', 'EOS'], ['SOS', 'AH0', 'B', 'EY1', 'T', 'M', 'AH0', 'N', 'T', 'S', 'EOS'], ['SOS', 'AH0', 'B', 'EY1', 'T', 'S', 'EOS'], ['SOS', 'AH0', 'B', 'EY1', 'T', 'IH0', 'NG', 'EOS'], ['SOS', 'AE2', 'B', 'AH0', 'T', 'W', 'AA1', 'R', 'EOS'], ['SOS', 'AE1', 'B', 'AH0', 'EOS'], ['SOS', 'AH0', 'B', 'AA1', 'D', 'OW0', 'EOS'], ['SOS', 'AH0', 'B', 'AA1', 'S', 'EOS'], ['SOS', 'AA0', 'B', 'AA1', 'S', 'IY0', 'EOS'], ['SOS', 'AA1', 'B', 'EY0', 'T', 'EOS'], ['SOS', 'AA0', 'B', 'AA0', 'T', 'IY0', 'EH1', 'L', 'OW0', 'EOS'], ['SOS', 'AE1', 'B', 'IY0', 'EOS'], ['SOS', 'AE0', 'B', 'EY1', 'EOS'], ['SOS', 'AE1', 'B', 'AH0', 'N', 'HH', 'AW2', 'S', 'EOS'], ['SOS', 'AH0', 'B', 'EH1', 'T', 'EOS'], ['SOS', 'AE1', 'B', 'V', 'IH0', 'L', 'EOS'], ['SOS', 'AE1', 'B', 'IY0', 'EOS'], ['SOS', 'AE1', 'B', 'IY0', 'Z', 'EOS'], ['SOS', 'AE1', 'B', 'IY0', 'EOS'], ['SOS', 'AE1', 'B', 'IH0', 'T', 'EOS'], ['SOS', 'AE1', 'B', 'AH0', 'T', 'EOS'], ['SOS', 'AE1', 'B', 'AH0', 'T', 'S', 'T', 'AW1', 'N', 'EOS'], ['SOS', 'AE1', 'B', 'AH0', 'T', 'EOS'], ['SOS', 'AE1', 'B', 'AH0', 'T', 'S', 'EOS'], ['SOS', 'AE1', 'B', 'AH0', 'T', 'S', 'T', 'AW1', 'N', 'EOS'], ['SOS', 'AH0', 'B', 'UW1', 'D', 'EOS'], ['SOS', 'AH0', 'B', 'AW1', 'D', 'EOS'], ['SOS', 'AH0', 'B', 'R', 'IY1', 'V', 'IY0', 'EY2', 'T', 'EOS'], ['SOS', 'AH0', 'B', 'R', 'IY1', 'V', 'IY0', 'EY2', 'T', 'IH0', 'D', 'EOS'], ['SOS', 'AH0', 'B', 'R', 'IY1', 'V', 'IY0', 'EY2', 'T', 'S', 'EOS'], ['SOS', 'AH0', 'B', 'R', 'IY1', 'V', 'IY0', 'EY2', 'T', 'IH0', 'NG', 'EOS'], ['SOS', 'AH0', 'B', 'R', 'IY2', 'V', 'IY0', 'EY1', 'SH', 'AH0', 'N', 'EOS'], ['SOS', 'AH0', 'B', 'R', 'IY2', 'V', 'IY0', 'EY1', 'SH', 'AH0', 'N', 'Z', 'EOS'], ['SOS', 'AA0', 'B', 'R', 'UW0', 'T', 'S', 'EY1', 'Z', 'IY0', 'EOS'], ['SOS', 'AE1', 'B', 'Z', 'EOS'], ['SOS', 'AE1', 'B', 'IY0', 'EOS'], ['SOS', 'EY1', 'B', 'IY2', 'S', 'IY2', 'EOS'], ['SOS', 'EY1', 'B', 'IY2', 'S', 'IY2', 'Z', 'EOS'], ['SOS', 'AE1', 'B', 'K', 'OW0', 'EOS'], ['SOS', 'AE1', 'B', 'K', 'OW0', 'T', 'EH2', 'K', 'EOS'], ['SOS', 'EY1', 'B', 'IY2', 'S', 'IY2', 'Z', 'EOS'], ['SOS', 'EY2', 'B', 'IY2', 'D', 'IY1', 'EOS'], ['SOS', 'AE2', 'B', 'D', 'AE1', 'L', 'AH0', 'EOS'], ['SOS', 'AE2', 'B', 'D', 'AE1', 'L', 'AH0', 'EOS'], ['SOS', 'AE1', 'B', 'D', 'EH2', 'L', 'EOS'], ['SOS', 'AE2', 'B', 'D', 'EH1', 'L', 'AH0', 'EOS'], ['SOS', 'AE1', 'B', 'D', 'AH0', 'K', 'EY2', 'T', 'EOS'], ['SOS', 'AE1', 'B', 'D', 'AH0', 'K', 'EY2', 'T', 'IH0', 'D', 'EOS'], ['SOS', 'AE1', 'B', 'D', 'AH0', 'K', 'EY2', 'T', 'S', 'EOS'], ['SOS', 'AE1', 'B', 'D', 'IH0', 'K', 'EY2', 'T', 'IH0', 'NG', 'EOS'], ['SOS', 'AE2', 'B', 'D', 'IH0', 'K', 'EY1', 'SH', 'AH0', 'N', 'EOS'], ['SOS', 'AE1', 'B', 'D', 'N', 'ER0', 'EOS'], ['SOS', 'AE1', 'B', 'D', 'OW0', 'EOS'], ['SOS', 'AE2', 'B', 'D', 'AA1', 'L', 'AH0', 'EOS'], ['SOS', 'AE0', 'B', 'D', 'OW1', 'M', 'AH0', 'N', 'EOS'], ['SOS', 'AE1', 'B', 'D', 'AH0', 'M', 'AH0', 'N', 'EOS'], ['SOS', 'AE0', 'B', 'D', 'AA1', 'M', 'AH0', 'N', 'AH0', 'L', 'EOS'], ['SOS', 'AH0', 'B', 'D', 'AA1', 'M', 'AH0', 'N', 'AH0', 'L', 'EOS'], ['SOS', 'AE0', 'B', 'D', 'AH1', 'K', 'T', 'EOS'], ['SOS', 'AE0', 'B', 'D', 'AH1', 'K', 'T', 'IH0', 'D', 'EOS'], ['SOS', 'AH0', 'B', 'D', 'AH1', 'K', 'T', 'IH0', 'D', 'EOS'], ['SOS', 'AE0', 'B', 'D', 'AH2', 'K', 'T', 'IY1', 'EOS'], ['SOS', 'AE0', 'B', 'D', 'AH2', 'K', 'T', 'IY1', 'Z', 'EOS'], ['SOS', 'AE0', 'B', 'D', 'AH1', 'K', 'T', 'IH0', 'NG', 'EOS'], ['SOS', 'AH0', 'B', 'D', 'AH1', 'K', 'T', 'IH0', 'NG', 'EOS'], ['SOS', 'AE0', 'B', 'D', 'AH1', 'K', 'SH', 'AH0', 'N', 'EOS'], ['SOS', 'AH0', 'B', 'D', 'AH1', 'K', 'SH', 'AH0', 'N', 'EOS'], ['SOS', 'AE0', 'B', 'D', 'AH1', 'K', 'SH', 'AH0', 'N', 'Z', 'EOS'], ['SOS', 'AH0', 'B', 'D', 'AH1', 'K', 'SH', 'AH0', 'N', 'Z', 'EOS'], ['SOS', 'AE0', 'B', 'D', 'AH1', 'K', 'T', 'ER0', 'EOS'], ['SOS', 'AH0', 'B', 'D', 'AH1', 'K', 'T', 'ER0', 'EOS'], ['SOS', 'AE0', 'B', 'D', 'AH1', 'K', 'T', 'ER0', 'Z', 'EOS'], ['SOS', 'AH0', 'B', 'D', 'AH1', 'K', 'T', 'ER0', 'Z', 'EOS'], ['SOS', 'AE0', 'B', 'D', 'AH1', 'K', 'T', 'S', 'EOS'], ['SOS', 'AE0', 'B', 'D', 'UW1', 'L', 'EOS'], ['SOS', 'AE0', 'B', 'D', 'UW2', 'L', 'AH0', 'Z', 'IY1', 'Z', 'EOS'], ['SOS', 'AA0', 'B', 'D', 'UW1', 'L', 'AH0', 'EOS'], ['SOS', 'AE2', 'B', 'D', 'AH1', 'L', 'AH0', 'EOS'], ['SOS', 'EY1', 'B', 'EOS'], ['SOS', 'AH0', 'B', 'EH1', 'D', 'EOS'], ['SOS', 'AH0', 'B', 'EH1', 'D', 'IY0', 'EOS'], ['SOS', 'AH0', 'B', 'IY1', 'EOS'], ['SOS', 'EY1', 'B', 'AH0', 'L', 'EOS'], ['SOS', 'AA0', 'B', 'EH1', 'L', 'AH0', 'EOS'], ['SOS', 'AE1', 'B', 'IH0', 'L', 'ER0', 'D', 'EOS'], ['SOS', 'AH0', 'B', 'EH1', 'L', 'EOS'], ['SOS', 'AH0', 'B', 'EH1', 'L', 'Z', 'EOS'], ['SOS', 'EY1', 'B', 'AH0', 'L', 'IY2', 'Z', 'EOS'], ['SOS', 'EY1', 'B', 'AH0', 'L', 'EOS'], ['SOS', 'AH0', 'B', 'EH1', 'L', 'AH0', 'EOS'], ['SOS', 'AE1', 'B', 'IH0', 'L', 'N', 'EOS'], ['SOS', 'AE1', 'B', 'AH0', 'L', 'OW0', 'EOS'], ['SOS', 'EY1', 'B', 'AH0', 'L', 'Z', 'EOS'], ['SOS', 'AE1', 'B', 'IH0', 'L', 'S', 'AH0', 'N', 'EOS'], ['SOS', 'AE1', 'B', 'EH0', 'N', 'D', 'EOS'], ['SOS', 'AH0', 'B', 'EH1', 'N', 'D', 'EOS'], ['SOS', 'AE1', 'B', 'IH0', 'N', 'D', 'R', 'AO0', 'TH', 'EOS'], ['SOS', 'EY1', 'B', 'ER0', 'EOS'], ['SOS', 'AE2', 'B', 'ER0', 'K', 'R', 'AA1', 'M', 'B', 'IY0', 'EOS'], ['SOS', 'AE1', 'B', 'ER0', 'D', 'IY2', 'N', 'EOS'], ['SOS', 'EY1', 'B', 'ER0', 'F', 'ER0', 'D', 'EOS'], ['SOS', 'AE1', 'B', 'ER0', 'G', 'EOS'], ['SOS', 'AE1', 'B', 'ER0', 'AH0', 'L', 'EOS'], ['SOS', 'AE1', 'B', 'ER0', 'L', 'EOS'], ['SOS', 'AE1', 'B', 'ER0', 'M', 'IH0', 'N', 'EOS'], ['SOS', 'AE1', 'B', 'ER0', 'N', 'AE2', 'TH', 'IY0', 'EOS'], ['SOS', 'AE1', 'B', 'ER0', 'N', 'EH2', 'TH', 'IY0', 'EOS'], ['SOS', 'AE0', 'B', 'EH1', 'R', 'AH0', 'N', 'T', 'EOS'], ['SOS', 'AE2', 'B', 'ER0', 'EY1', 'SH', 'AH0', 'N', 'EOS'], ['SOS', 'AE2', 'B', 'ER0', 'EY1', 'SH', 'AH0', 'N', 'AH0', 'L', 'EOS'], ['SOS', 'AE2', 'B', 'ER0', 'EY1', 'SH', 'AH0', 'N', 'Z', 'EOS'], ['SOS', 'AE1', 'B', 'ER0', 'T', 'EOS'], ['SOS', 'AH0', 'B', 'EH1', 'T', 'EOS'], ['SOS', 'AH0', 'B', 'EH1', 'T', 'IH0', 'D', 'EOS'], ['SOS', 'AH0', 'B', 'EH1', 'T', 'IH0', 'NG', 'EOS'], ['SOS', 'EY1', 'B', 'EH0', 'K', 'S', 'EOS'], ['SOS', 'AH0', 'B', 'EY1', 'AH0', 'N', 'S', 'EOS'], ['SOS', 'AA0', 'B', 'EY1', 'T', 'AH0', 'EOS'], ['SOS', 'AE0', 'B', 'HH', 'AO1', 'R', 'EOS'], ['SOS', 'AH0', 'B', 'HH', 'AO1', 'R', 'D', 'EOS'], ['SOS', 'AH0', 'B', 'HH', 'AO1', 'R', 'AH0', 'N', 'S', 'EOS'], ['SOS', 'AE0', 'B', 'HH', 'AO1', 'R', 'AH0', 'N', 'T', 'EOS'], ['SOS', 'AH0', 'B', 'HH', 'AO1', 'R', 'Z', 'EOS'], ['SOS', 'EY1', 'B', 'IY0', 'AH0', 'M', 'EOS'], ['SOS', 'EY1', 'B', 'IY0', 'AH0', 'M', 'Z', 'EOS'], ['SOS', 'EY1', 'B', 'IH0', 'D', 'EOS'], ['SOS', 'AH0', 'B', 'AY1', 'D', 'EOS'], ['SOS', 'AH0', 'B', 'AY1', 'D', 'IH0', 'D', 'EOS'], ['SOS', 'AH0', 'B', 'AY1', 'D', 'Z', 'EOS'], ['SOS', 'AH0', 'B', 'AY1', 'D', 'IH0', 'NG', 'EOS'], ['SOS', 'AE0', 'B', 'IH0', 'JH', 'AA1', 'N', 'EOS'], ['SOS', 'AE1', 'B', 'IY0', 'EOS'], ['SOS', 'AE1', 'B', 'AH0', 'G', 'EY2', 'L', 'EOS'], ['SOS', 'AA0', 'B', 'IY1', 'L', 'AH0', 'EOS'], ['SOS', 'AE1', 'B', 'IH0', 'L', 'IY2', 'N', 'EOS'], ['SOS', 'AH0', 'B', 'IH1', 'L', 'AH0', 'T', 'IY2', 'Z', 'EOS'], ['SOS', 'AH0', 'B', 'IH1', 'L', 'AH0', 'T', 'IY2', 'EOS'], ['SOS', 'AE2', 'B', 'IH0', 'M', 'EY1', 'L', 'EOS'], ['SOS', 'AE2', 'B', 'IH0', 'M', 'EY1', 'L', 'Z', 'EOS'], ['SOS', 'AE1', 'B', 'IH0', 'NG', 'D', 'AH0', 'N', 'EOS'], ['SOS', 'AE1', 'B', 'IH0', 'NG', 'T', 'AH0', 'N', 'EOS'], ['SOS', 'AA1', 'B', 'IY0', 'OW0', 'EOS'], ['SOS', 'AA2', 'B', 'IY0', 'OW1', 'L', 'AH0', 'EOS'], ['SOS', 'AA2', 'B', 'IY0', 'OW1', 'L', 'AH0', 'Z', 'EOS'], ['SOS', 'EY0', 'B', 'IY1', 'AH0', 'M', 'EH0', 'D', 'EOS'], ['SOS', 'AH0', 'B', 'IH1', 'K', 'Y', 'UW0', 'EOS'], ['SOS', 'AE2', 'B', 'IH0', 'T', 'IY1', 'B', 'IY0', 'EOS'], ['SOS', 'AE1', 'B', 'IH0', 'T', 'S', 'EOS'], ['SOS', 'AE1', 'B', 'JH', 'EH0', 'K', 'T', 'EOS'], ['SOS', 'AE0', 'B', 'K', 'AA1', 'Z', 'Y', 'AH0', 'EOS'], ['SOS', 'AE0', 'B', 'K', 'AE1', 'Z', 'Y', 'AH0', 'EOS'], ['SOS', 'AE0', 'B', 'K', 'AA1', 'Z', 'IY0', 'AH0', 'N', 'EOS'], ['SOS', 'AE0', 'B', 'K', 'AE1', 'Z', 'IY0', 'AH0', 'N', 'EOS'], ['SOS', 'AE0', 'B', 'K', 'AA1', 'Z', 'Y', 'AH0', 'N', 'EOS'], ['SOS', 'AE0', 'B', 'K', 'AE1', 'Z', 'Y', 'AH0', 'N', 'EOS'], ['SOS', 'AE0', 'B', 'K', 'AA1', 'Z', 'IY0', 'AH0', 'N', 'Z', 'EOS'], ['SOS', 'AE0', 'B', 'K', 'AE1', 'Z', 'IY0', 'AH0', 'N', 'Z', 'EOS'], ['SOS', 'AH2', 'B', 'L', 'EY1', 'T', 'EOS'], ['SOS', 'AH2', 'B', 'L', 'EY1', 'SH', 'AH0', 'N', 'EOS'], ['SOS', 'AH0', 'B', 'L', 'EY1', 'Z', 'EOS'], ['SOS', 'EY1', 'B', 'AH0', 'L', 'EOS'], ['SOS', 'EY1', 'B', 'AH0', 'L', 'B', 'AA1', 'D', 'IY0', 'D', 'EOS'], ['SOS', 'EY1', 'B', 'AH0', 'L', 'D', 'EOS'], ['SOS', 'EY1', 'B', 'AH0', 'L', 'ER0', 'EOS'], ['SOS', 'EY1', 'B', 'L', 'ER0', 'EOS'], ['SOS', 'EY1', 'B', 'AH0', 'L', 'Z', 'EOS'], ['SOS', 'EY1', 'B', 'AH0', 'L', 'S', 'T', 'EOS'], ['SOS', 'EY1', 'B', 'L', 'AH0', 'S', 'T', 'EOS'], ['SOS', 'AH0', 'B', 'L', 'UW1', 'M', 'EOS'], ['SOS', 'AH0', 'B', 'L', 'UW1', 'SH', 'AH0', 'N', 'EOS'], ['SOS', 'AH0', 'B', 'L', 'UW1', 'SH', 'AH0', 'N', 'Z', 'EOS'], ['SOS', 'EY1', 'B', 'L', 'IY0', 'EOS'], ['SOS', 'AE2', 'B', 'N', 'EH0', 'G', 'EY1', 'SH', 'AH0', 'N', 'EOS'], ['SOS', 'AE1', 'B', 'N', 'ER0', 'EOS'], ['SOS', 'AE1', 'B', 'N', 'IY0', 'EOS'], ['SOS', 'AE0', 'B', 'N', 'AO1', 'R', 'M', 'AH0', 'L', 'EOS'], ['SOS', 'AE2', 'B', 'N', 'AO0', 'R', 'M', 'AE1', 'L', 'AH0', 'T', 'IY0', 'Z', 'EOS'], ['SOS', 'AE2', 'B', 'N', 'AO0', 'R', 'M', 'AE1', 'L', 'AH0', 'T', 'IY0', 'EOS'], ['SOS', 'AE0', 'B', 'N', 'AO1', 'R', 'M', 'AH0', 'L', 'IY0', 'EOS'], ['SOS', 'AA1', 'B', 'OW0', 'EOS'], ['SOS', 'AA1', 'B', 'OW0', 'Z', 'EOS'], ['SOS', 'AH0', 'B', 'AO1', 'R', 'D', 'EOS'], ['SOS', 'AH0', 'B', 'OW1', 'D', 'EOS'], ['SOS', 'AE0', 'B', 'AH0', 'HH', 'AH0', 'L', 'IY1', 'M', 'AH0', 'EOS'], ['SOS', 'AH0', 'B', 'AA1', 'L', 'IH0', 'SH', 'EOS'], ['SOS', 'AH0', 'B', 'AA1', 'L', 'IH0', 'SH', 'T', 'EOS'], ['SOS', 'AH0', 'B', 'AA1', 'L', 'IH0', 'SH', 'IH0', 'Z', 'EOS'], ['SOS', 'AH0', 'B', 'AA1', 'L', 'IH0', 'SH', 'IH0', 'NG', 'EOS'], ['SOS', 'AE2', 'B', 'AH0', 'L', 'IH1', 'SH', 'AH0', 'N', 'EOS'], ['SOS', 'AE2', 'B', 'AH0', 'L', 'IH1', 'SH', 'AH0', 'N', 'IH2', 'Z', 'AH0', 'M', 'EOS'], ['SOS', 'AE2', 'B', 'AH0', 'L', 'IH1', 'SH', 'AH0', 'N', 'AH0', 'S', 'T', 'EOS'], ['SOS', 'AE2', 'B', 'AH0', 'L', 'IH1', 'SH', 'AH0', 'N', 'AH0', 'S', 'T', 'S', 'EOS'], ['SOS', 'AH0', 'B', 'AA1', 'M', 'AH0', 'N', 'AH0', 'B', 'AH0', 'L', 'EOS'], ['SOS', 'AH0', 'B', 'AA2', 'M', 'AH0', 'N', 'EY1', 'SH', 'AH0', 'N', 'EOS'], ['SOS', 'AH0', 'B', 'AA2', 'M', 'AH0', 'N', 'EY1', 'SH', 'AH0', 'N', 'Z', 'EOS'], ['SOS', 'AH0', 'B', 'UW1', 'D', 'EOS'], ['SOS', 'AH0', 'B', 'UW1', 'D', 'IY0', 'EOS'], ['SOS', 'AH0', 'B', 'AO1', 'R', 'EOS'], ['SOS', 'AE2', 'B', 'ER0', 'IH1', 'JH', 'AH0', 'N', 'AH0', 'L', 'EOS'], ['SOS', 'AE2', 'B', 'ER0', 'IH1', 'JH', 'AH0', 'N', 'IY0', 'EOS'], ['SOS', 'AE2', 'B', 'ER0', 'IH1', 'JH', 'AH0', 'N', 'IY0', 'Z', 'EOS'], ['SOS', 'AH0', 'B', 'AO1', 'R', 'N', 'EOS'], ['SOS', 'AH0', 'B', 'AO1', 'R', 'T', 'EOS'], ['SOS', 'AH0', 'B', 'AO1', 'R', 'T', 'IH0', 'D', 'EOS'], ['SOS', 'AH0', 'B', 'AO2', 'R', 'T', 'AH0', 'F', 'EY1', 'SH', 'AH0', 'N', 'T', 'EOS'], ['SOS', 'AH0', 'B', 'AO2', 'R', 'T', 'AH0', 'F', 'EY1', 'SH', 'AH0', 'N', 'T', 'S', 'EOS'], ['SOS', 'AH0', 'B', 'AO1', 'R', 'T', 'IH0', 'NG', 'EOS'], ['SOS', 'AH0', 'B', 'AO1', 'R', 'SH', 'AH0', 'N', 'EOS'], ['SOS', 'AH0', 'B', 'AO1', 'R', 'SH', 'AH0', 'N', 'IH0', 'S', 'T', 'EOS'], ['SOS', 'AH0', 'B', 'AO1', 'R', 'SH', 'AH0', 'N', 'IH0', 'S', 'T', 'S', 'EOS'], ['SOS', 'AH0', 'B', 'AO1', 'R', 'SH', 'AH0', 'N', 'Z', 'EOS'], ['SOS', 'AH0', 'B', 'AO1', 'R', 'T', 'IH0', 'V', 'EOS'], ['SOS', 'AH0', 'B', 'AO1', 'R', 'T', 'S', 'EOS'], ['SOS', 'AH0', 'B', 'AA1', 'T', 'EOS'], ['SOS', 'AH0', 'B', 'UW1', 'EOS'], ['SOS', 'AA0', 'B', 'UW1', 'D', 'EOS'], ['SOS', 'AA2', 'B', 'UW0', 'HH', 'AA0', 'L', 'IY1', 'M', 'AH0', 'EOS'], ['SOS', 'AA2', 'B', 'UW0', 'HH', 'AA0', 'L', 'IY1', 'M', 'AH0', 'Z', 'EOS'], ['SOS', 'AH0', 'B', 'AW1', 'N', 'D', 'EOS'], ['SOS', 'AH0', 'B', 'AW1', 'N', 'D', 'IH0', 'D', 'EOS'], ['SOS', 'AH0', 'B', 'AW1', 'N', 'D', 'IH0', 'NG', 'EOS'], ['SOS', 'AH0', 'B', 'AW1', 'N', 'D', 'Z', 'EOS'], ['SOS', 'AH0', 'B', 'AW1', 'T', 'EOS'], ['SOS', 'AH0', 'B', 'AW1', 'T', 'S', 'EOS'], ['SOS', 'AH0', 'B', 'AH1', 'V', 'EOS'], ['SOS', 'AH0', 'B', 'AH1', 'V', 'Z', 'EOS'], ['SOS', 'AH0', 'B', 'AH1', 'V', 'B', 'AO2', 'R', 'D', 'EOS'], ['SOS', 'AE1', 'B', 'P', 'L', 'AH0', 'N', 'AE0', 'L', 'P', 'EOS'], ['SOS', 'AA1', 'B', 'R', 'AH0', 'EOS'], ['SOS', 'AE2', 'B', 'R', 'AH0', 'K', 'AH0', 'D', 'AE1', 'B', 'R', 'AH0', 'EOS'], ['SOS', 'AE0', 'B', 'R', 'EY1', 'D', 'EOS'], ['SOS', 'AE0', 'B', 'R', 'EY1', 'D', 'IH0', 'D', 'EOS'], ['SOS', 'AE0', 'B', 'R', 'EY1', 'D', 'Z', 'EOS'], ['SOS', 'EY1', 'B', 'R', 'AH0', 'HH', 'AE2', 'M', 'EOS'], ['SOS', 'AE2', 'B', 'R', 'AH0', 'HH', 'EY1', 'M', 'IY0', 'AH0', 'N', 'EOS'], ['SOS', 'EY1', 'B', 'R', 'AH0', 'HH', 'AE2', 'M', 'Z', 'EOS'], ['SOS', 'AE0', 'B', 'R', 'AH0', 'HH', 'AE1', 'M', 'S', 'AH0', 'N', 'EOS'], ['SOS', 'AH0', 'B', 'R', 'AE1', 'HH', 'AH0', 'M', 'S', 'AH0', 'N', 'EOS'], ['SOS', 'AH0', 'B', 'R', 'AE1', 'M', 'EOS'], ['SOS', 'EY1', 'B', 'R', 'AH0', 'M', 'Z', 'EOS'], ['SOS', 'AA1', 'B', 'R', 'AH0', 'M', 'CH', 'IH0', 'K', 'EOS'], ['SOS', 'AA0', 'B', 'R', 'AA1', 'M', 'OW0', 'EOS'], ['SOS', 'AH0', 'B', 'R', 'AA1', 'M', 'AH0', 'V', 'IH0', 'T', 'S', 'EOS'], ['SOS', 'AH0', 'B', 'R', 'AA1', 'M', 'AH0', 'V', 'IH0', 'CH', 'EOS'], ['SOS', 'AH0', 'B', 'R', 'AA1', 'M', 'AH0', 'W', 'IH0', 'T', 'S', 'EOS'], ['SOS', 'EY1', 'B', 'R', 'AH0', 'M', 'Z', 'EOS'], ['SOS', 'EY1', 'B', 'R', 'AH0', 'M', 'Z', 'IH0', 'Z', 'EOS'], ['SOS', 'EY1', 'B', 'R', 'AH0', 'M', 'S', 'AH0', 'N', 'EOS'], ['SOS', 'AH0', 'B', 'R', 'EY1', 'ZH', 'AH0', 'N', 'EOS'], ['SOS', 'AH0', 'B', 'R', 'EY1', 'ZH', 'AH0', 'N', 'Z', 'EOS'], ['SOS', 'AH0', 'B', 'R', 'EY1', 'S', 'IH0', 'V', 'EOS'], ['SOS', 'AH0', 'B', 'R', 'EY1', 'S', 'IH0', 'V', 'Z', 'EOS'], ['SOS', 'AH0', 'B', 'R', 'AE1', 'K', 'S', 'AH0', 'EOS'], ['SOS', 'AH0', 'B', 'R', 'AE1', 'K', 'S', 'AH0', 'Z', 'EOS'], ['SOS', 'AH0', 'B', 'R', 'AE1', 'K', 'S', 'AH0', 'Z', 'EOS'], ['SOS', 'AH0', 'B', 'R', 'EH1', 'S', 'T', 'EOS'], ['SOS', 'AA0', 'B', 'R', 'EH1', 'G', 'OW0', 'EOS'], ['SOS', 'AH0', 'B', 'R', 'UW1', 'EOS'], ['SOS', 'AH0', 'B', 'R', 'IH1', 'JH', 'EOS'], ['SOS', 'AH0', 'B', 'R', 'IH1', 'JH', 'D', 'EOS'], ['SOS', 'AH0', 'B', 'R', 'IH1', 'JH', 'M', 'AH0', 'N', 'T', 'EOS'], ['SOS', 'AH0', 'B', 'R', 'IH1', 'JH', 'AH0', 'Z', 'EOS'], ['SOS', 'AH0', 'B', 'R', 'IH1', 'JH', 'IH0', 'NG', 'EOS'], ['SOS', 'AH0', 'B', 'R', 'IH1', 'L', 'EOS'], ['SOS', 'AH0', 'B', 'R', 'AO1', 'D', 'EOS'], ['SOS', 'AE1', 'B', 'R', 'AH0', 'G', 'EY2', 'T', 'EOS'], ['SOS', 'AE1', 'B', 'R', 'AH0', 'G', 'EY2', 'T', 'IH0', 'D', 'EOS'], ['SOS', 'AE1', 'B', 'R', 'AH0', 'G', 'EY2', 'T', 'IH0', 'NG', 'EOS'], ['SOS', 'AE2', 'B', 'R', 'AH0', 'G', 'EY1', 'SH', 'AH0', 'N', 'EOS'], ['SOS', 'AH0', 'B', 'R', 'OW1', 'L', 'EOS'], ['SOS', 'AH0', 'B', 'R', 'AA1', 'N', 'EOS'], ['SOS', 'AH0', 'B', 'R', 'AH1', 'P', 'T', 'EOS'], ['SOS', 'AH0', 'B', 'R', 'AH1', 'P', 'T', 'L', 'IY0', 'EOS'], ['SOS', 'AH0', 'B', 'R', 'AH1', 'P', 'T', 'N', 'AH0', 'S', 'EOS'], ['SOS', 'EY1', 'B', 'R', 'UW0', 'T', 'IH0', 'N', 'EOS'], ['SOS', 'AA0', 'B', 'R', 'UW0', 'T', 'S', 'EY1', 'Z', 'IY0', 'EOS'], ['SOS', 'AA0', 'B', 'R', 'UW1', 'Z', 'OW0', 'EOS'], ['SOS', 'EY1', 'B', 'IY1', 'EH1', 'S', 'EOS'], ['SOS', 'AE1', 'B', 'Z', 'EOS'], ['SOS', 'AE1', 'B', 'S', 'AH0', 'L', 'AH0', 'M', 'EOS'], ['SOS', 'AE0', 'B', 'S', 'AA1', 'R', 'AH0', 'K', 'AH0', 'EOS'], ['SOS', 'AE1', 'B', 'S', 'K', 'AE0', 'M', 'EOS'], ['SOS', 'AE1', 'B', 'S', 'EH2', 'S', 'EOS'], ['SOS', 'AE0', 'B', 'S', 'K', 'AA1', 'N', 'D', 'EOS'], ['SOS', 'AE0', 'B', 'S', 'K', 'AA1', 'N', 'D', 'IH0', 'D', 'EOS'], ['SOS', 'AE0', 'B', 'S', 'K', 'AA1', 'N', 'D', 'IH0', 'NG', 'EOS'], ['SOS', 'AE0', 'B', 'S', 'K', 'AA1', 'N', 'D', 'Z', 'EOS'], ['SOS', 'AE1', 'B', 'S', 'AH0', 'K', 'AO0', 'N', 'EOS'], ['SOS', 'AE1', 'B', 'S', 'AH0', 'N', 'S', 'EOS'], ['SOS', 'AE1', 'B', 'S', 'AH0', 'N', 'S', 'IH0', 'Z', 'EOS'], ['SOS', 'AE1', 'B', 'S', 'AH0', 'N', 'T', 'EOS'], ['SOS', 'AE2', 'B', 'S', 'AH0', 'N', 'T', 'IY1', 'EOS'], ['SOS', 'AE2', 'B', 'S', 'AH0', 'N', 'T', 'IY1', 'IH0', 'Z', 'AH0', 'M', 'EOS'], ['SOS', 'AE2', 'B', 'S', 'AH0', 'N', 'T', 'IY1', 'Z', 'EOS'], ['SOS', 'AE0', 'B', 'S', 'EH1', 'N', 'SH', 'AH0', 'EOS'], ['SOS', 'AE1', 'B', 'SH', 'ER0', 'EOS'], ['SOS', 'AE1', 'B', 'SH', 'IY0', 'ER0', 'EOS'], ['SOS', 'AE1', 'B', 'SH', 'AY2', 'R', 'EOS'], ['SOS', 'AE1', 'B', 'S', 'IH0', 'N', 'TH', 'EOS'], ['SOS', 'AE1', 'B', 'S', 'OW0', 'EOS'], ['SOS', 'AE1', 'B', 'S', 'AH0', 'L', 'AH0', 'M', 'EOS'], ['SOS', 'AE2', 'B', 'S', 'AH0', 'L', 'UW1', 'T', 'EOS'], ['SOS', 'AE2', 'B', 'S', 'AH0', 'L', 'UW1', 'T', 'S', 'EOS'], ['SOS', 'AE1', 'B', 'S', 'AH0', 'L', 'UW2', 'T', 'EOS'], ['SOS', 'AE2', 'B', 'S', 'AH0', 'L', 'UW1', 'T', 'L', 'IY0', 'EOS'], ['SOS', 'AE1', 'B', 'S', 'AH0', 'L', 'UW2', 'T', 'N', 'AH0', 'S', 'EOS'], ['SOS', 'AE1', 'B', 'S', 'AH0', 'L', 'UW2', 'T', 'S', 'EOS'], ['SOS', 'AE2', 'B', 'S', 'AH0', 'L', 'UW1', 'SH', 'AH0', 'N', 'EOS'], ['SOS', 'AE1', 'B', 'S', 'AH0', 'L', 'UW2', 'T', 'IH2', 'Z', 'AH0', 'M', 'EOS'], ['SOS', 'AE0', 'B', 'S', 'AH0', 'L', 'UW1', 'T', 'IH0', 'S', 'T', 'EOS'], ['SOS', 'AH0', 'B', 'Z', 'AA1', 'L', 'V', 'EOS'], ['SOS', 'AE0', 'B', 'Z', 'AA1', 'L', 'V', 'EOS'], ['SOS', 'AH0', 'B', 'Z', 'AA1', 'L', 'V', 'D', 'EOS'], ['SOS', 'AE0', 'B', 'Z', 'AA1', 'L', 'V', 'D', 'EOS'], ['SOS', 'AH0', 'B', 'Z', 'AA1', 'L', 'V', 'Z', 'EOS'], ['SOS', 'AE0', 'B', 'Z', 'AA1', 'L', 'V', 'Z', 'EOS'], ['SOS', 'AH0', 'B', 'Z', 'AA1', 'L', 'V', 'IH0', 'NG', 'EOS'], ['SOS', 'AE0', 'B', 'Z', 'AA1', 'L', 'V', 'IH0', 'NG', 'EOS'], ['SOS', 'AH0', 'B', 'Z', 'AO1', 'R', 'B', 'EOS'], ['SOS', 'AH0', 'B', 'Z', 'AO1', 'R', 'B', 'D', 'EOS'], ['SOS', 'AH0', 'B', 'Z', 'AO1', 'R', 'B', 'AH0', 'N', 'S', 'IY0', 'EOS'], ['SOS', 'AH0', 'B', 'Z', 'AO1', 'R', 'B', 'AH0', 'N', 'T', 'EOS'], ['SOS', 'AH0', 'B', 'Z', 'AO1', 'R', 'B', 'ER0', 'EOS'], ['SOS', 'AH0', 'B', 'Z', 'AO1', 'R', 'B', 'ER0', 'Z', 'EOS'], ['SOS', 'AH0', 'B', 'Z', 'AO1', 'R', 'B', 'IH0', 'NG', 'EOS'], ['SOS', 'AH0', 'B', 'Z', 'AO1', 'R', 'B', 'Z', 'EOS'], ['SOS', 'AH0', 'B', 'Z', 'AO1', 'R', 'P', 'SH', 'AH0', 'N', 'EOS'], ['SOS', 'AH0', 'B', 'S', 'AO1', 'R', 'P', 'SH', 'AH0', 'N', 'EOS'], ['SOS', 'AH0', 'B', 'S', 'T', 'EY1', 'N', 'EOS'], ['SOS', 'AE0', 'B', 'S', 'T', 'EY1', 'N', 'EOS'], ['SOS', 'AH0', 'B', 'S', 'T', 'EY1', 'N', 'D', 'EOS'], ['SOS', 'AE0', 'B', 'S', 'T', 'EY1', 'N', 'D', 'EOS'], ['SOS', 'AH0', 'B', 'S', 'T', 'EY1', 'N', 'IH0', 'NG', 'EOS'], ['SOS', 'AE0', 'B', 'S', 'T', 'EY1', 'N', 'IH0', 'NG', 'EOS'], ['SOS', 'AH0', 'B', 'S', 'T', 'EH1', 'N', 'CH', 'AH0', 'N', 'EOS'], ['SOS', 'AE0', 'B', 'S', 'T', 'EH1', 'N', 'CH', 'AH0', 'N', 'EOS'], ['SOS', 'AH0', 'B', 'S', 'T', 'EH1', 'N', 'CH', 'AH0', 'N', 'Z', 'EOS'], ['SOS', 'AE0', 'B', 'S', 'T', 'EH1', 'N', 'CH', 'AH0', 'N', 'Z', 'EOS'], ['SOS', 'AE1', 'B', 'S', 'T', 'AH0', 'N', 'AH0', 'N', 'S', 'EOS'], ['SOS', 'AE1', 'B', 'S', 'T', 'AH0', 'N', 'AH0', 'N', 'T', 'EOS'], ['SOS', 'AE1', 'B', 'S', 'T', 'AH0', 'N', 'EOS'], ['SOS', 'AE0', 'B', 'S', 'T', 'R', 'AE1', 'K', 'T', 'EOS'], ['SOS', 'AE1', 'B', 'S', 'T', 'R', 'AE2', 'K', 'T', 'EOS'], ['SOS', 'AE1', 'B', 'S', 'T', 'R', 'AE2', 'K', 'T', 'IH0', 'D', 'EOS'], ['SOS', 'AE0', 'B', 'S', 'T', 'R', 'AE1', 'K', 'SH', 'AH0', 'N', 'EOS'], ['SOS', 'AE0', 'B', 'S', 'T', 'R', 'AE1', 'K', 'SH', 'AH0', 'N', 'Z', 'EOS'], ['SOS', 'AE1', 'B', 'S', 'T', 'R', 'AE0', 'K', 'T', 'S', 'EOS'], ['SOS', 'AH0', 'B', 'S', 'T', 'R', 'UW1', 'S', 'EOS'], ['SOS', 'AH0', 'B', 'S', 'ER1', 'D', 'EOS'], ['SOS', 'AH0', 'B', 'S', 'ER1', 'D', 'IH0', 'S', 'T', 'EOS'], ['SOS', 'AH0', 'B', 'S', 'ER1', 'D', 'AH0', 'T', 'IY0', 'Z', 'EOS'], ['SOS', 'AH0', 'B', 'S', 'ER1', 'D', 'AH0', 'T', 'IY0', 'EOS'], ['SOS', 'AH0', 'B', 'S', 'ER1', 'D', 'L', 'IY0', 'EOS'], ['SOS', 'AE1', 'B', 'T', 'EOS'], ['SOS', 'EY1', 'B', 'IY1', 'T', 'IY1', 'EOS'], ['SOS', 'AE1', 'B', 'T', 'S', 'EOS'], ['SOS', 'EY1', 'B', 'IY1', 'T', 'IY1', 'Z', 'EOS'], ['SOS', 'EY1', 'B', 'IY1', 'T', 'IY1', 'EH1', 'S', 'EOS'], ['SOS', 'AE1', 'B', 'UW0', 'EOS'], ['SOS', 'AH0', 'B', 'AH1', 'D', 'R', 'AH0', 'M', 'EOS'], ['SOS', 'AH0', 'B', 'W', 'EH1', 'L', 'AH0', 'EOS'], ['SOS', 'AH0', 'B', 'W', 'EH1', 'L', 'AH0', 'Z', 'EOS'], ['SOS', 'AE2', 'B', 'Y', 'UW0', 'L', 'AE1', 'D', 'Z', 'IY0', 'EOS'], ['SOS', 'AH0', 'B', 'AH1', 'N', 'D', 'AH0', 'N', 'S', 'EOS'], ['SOS', 'AH0', 'B', 'AH1', 'N', 'D', 'AH0', 'N', 'T', 'EOS'], ['SOS', 'AH0', 'B', 'AH1', 'N', 'D', 'AH0', 'N', 'T', 'L', 'IY0', 'EOS'], ['SOS', 'AH0', 'B', 'UH1', 'R', 'T', 'OW2', 'EOS'], ['SOS', 'AH0', 'B', 'UH1', 'R', 'T', 'OW2', 'Z', 'EOS'], ['SOS', 'AH0', 'B', 'Y', 'UW1', 'S', 'EOS'], ['SOS', 'AH0', 'B', 'Y', 'UW1', 'Z', 'EOS'], ['SOS', 'AH0', 'B', 'Y', 'UW1', 'Z', 'D', 'EOS'], ['SOS', 'AH0', 'B', 'Y', 'UW1', 'Z', 'ER0', 'EOS'], ['SOS', 'AH0', 'B', 'Y', 'UW1', 'Z', 'ER0', 'Z', 'EOS'], ['SOS', 'AH0', 'B', 'Y', 'UW1', 'S', 'IH0', 'Z', 'EOS'], ['SOS', 'AH0', 'B', 'Y', 'UW1', 'Z', 'IH0', 'Z', 'EOS'], ['SOS', 'AH0', 'B', 'Y', 'UW1', 'Z', 'IH0', 'NG', 'EOS'], ['SOS', 'AH0', 'B', 'Y', 'UW1', 'S', 'IH0', 'V', 'EOS'], ['SOS', 'AH0', 'B', 'AH1', 'T', 'EOS'], ['SOS', 'AH0', 'B', 'AH1', 'T', 'S', 'EOS'], ['SOS', 'AH0', 'B', 'AH1', 'T', 'IH0', 'D', 'EOS'], ['SOS', 'AH0', 'B', 'AH1', 'T', 'IH0', 'NG', 'EOS'], ['SOS', 'AH0', 'B', 'AH1', 'Z', 'EOS'], ['SOS', 'AH0', 'B', 'IH1', 'Z', 'M', 'AH0', 'L', 'EOS'], ['SOS', 'AH0', 'B', 'IH1', 'Z', 'M', 'AH0', 'L', 'IY0', 'EOS'], ['SOS', 'AH0', 'B', 'IH1', 'S', 'EOS'], ['SOS', 'AE0', 'B', 'S', 'IH1', 'N', 'IY2', 'AH0', 'EOS'], ['SOS', 'AE0', 'B', 'S', 'IH1', 'N', 'IY2', 'AH0', 'N', 'EOS'], ['SOS', 'AE1', 'B', 'Z', 'AH2', 'G', 'EOS'], ['SOS', 'AE1', 'B', 'Z', 'UH2', 'G', 'EOS'], ['SOS', 'EY1', 'S', 'IY1', 'EOS'], ['SOS', 'AE1', 'K', 'AH0', 'EOS'], ['SOS', 'AH0', 'K', 'EY1', 'SH', 'AH0', 'EOS'], ['SOS', 'AE1', 'K', 'AH0', 'D', 'IY2', 'M', 'EOS'], ['SOS', 'AE2', 'K', 'AH0', 'D', 'IY1', 'M', 'IY0', 'AH0', 'EOS'], ['SOS', 'AE2', 'K', 'AH0', 'D', 'EH1', 'M', 'IH0', 'K', 'EOS'], ['SOS', 'AE2', 'K', 'AH0', 'D', 'EH1', 'M', 'IH0', 'K', 'L', 'IY0', 'EOS'], ['SOS', 'AE2', 'K', 'AH0', 'D', 'AH0', 'M', 'IH1', 'SH', 'AH0', 'N', 'EOS'], ['SOS', 'AE2', 'K', 'AH0', 'D', 'AH0', 'M', 'IH1', 'SH', 'AH0', 'N', 'Z', 'EOS'], ['SOS', 'AH0', 'K', 'AE2', 'D', 'AH0', 'M', 'IH1', 'SH', 'AH0', 'N', 'Z', 'EOS'], ['SOS', 'AE2', 'K', 'AH0', 'D', 'EH1', 'M', 'IH0', 'K', 'S', 'EOS'], ['SOS', 'AH0', 'K', 'AE1', 'D', 'AH0', 'M', 'IY0', 'Z', 'EOS'], ['SOS', 'AH0', 'K', 'AE1', 'D', 'AH0', 'M', 'IY0', 'EOS'], ['SOS', 'AH0', 'K', 'AE1', 'D', 'AH0', 'M', 'IY0', 'Z', 'EOS'], ['SOS', 'AH0', 'K', 'EY1', 'D', 'IY0', 'AH0', 'EOS'], ['SOS', 'AH0', 'S', 'IY1', 'N', 'AH0', 'EOS'], ['SOS', 'AH0', 'K', 'AA1', 'M', 'P', 'OW0', 'EOS'], ['SOS', 'AH0', 'K', 'AE1', 'M', 'P', 'ER0', 'AH0', 'EOS'], ['SOS', 'AH0', 'K', 'AE1', 'M', 'P', 'S', 'Y', 'AH0', 'EOS'], ['SOS', 'AA0', 'K', 'AA1', 'N', 'DH', 'AH0', 'EOS'], ['SOS', 'AE2', 'K', 'AH0', 'P', 'UH1', 'L', 'K', 'OW0', 'EOS'], ['SOS', 'AE1', 'K', 'ER0', 'IY0', 'EOS'], ['SOS', 'AY2', 'S', 'IY2', 'S', 'IY1', 'EOS'], ['SOS', 'AA0', 'K', 'AA1', 'R', 'D', 'IY0', 'EOS'], ['SOS', 'AA0', 'K', 'AA1', 'R', 'D', 'OW0', 'EOS'], ['SOS', 'AE0', 'K', 'S', 'IY1', 'D', 'EOS'], ['SOS', 'AE0', 'K', 'S', 'IY1', 'D', 'IH0', 'D', 'EOS'], ['SOS', 'AE0', 'K', 'S', 'IY1', 'D', 'Z', 'EOS'], ['SOS', 'AE0', 'K', 'S', 'IY1', 'D', 'IH0', 'NG', 'EOS'], ['SOS', 'AH0', 'K', 'S', 'EH1', 'L', 'EOS'], ['SOS', 'AE0', 'K', 'S', 'EH1', 'L', 'ER0', 'AH0', 'N', 'T', 'EOS'], ['SOS', 'AE0', 'K', 'S', 'EH1', 'L', 'ER0', 'AH0', 'N', 'T', 'S', 'EOS'], ['SOS', 'AE0', 'K', 'S', 'EH1', 'L', 'ER0', 'EY2', 'T', 'EOS'], ['SOS', 'AE0', 'K', 'S', 'EH1', 'L', 'ER0', 'EY2', 'T', 'IH0', 'D', 'EOS'], ['SOS', 'AE0', 'K', 'S', 'EH1', 'L', 'ER0', 'EY2', 'T', 'S', 'EOS'], ['SOS', 'AE0', 'K', 'S', 'EH1', 'L', 'ER0', 'EY2', 'T', 'IH0', 'NG', 'EOS'], ['SOS', 'AE2', 'K', 'S', 'EH2', 'L', 'ER0', 'EY1', 'SH', 'AH0', 'N', 'EOS'], ['SOS', 'AE0', 'K', 'S', 'EH1', 'L', 'ER0', 'EY2', 'T', 'ER0', 'EOS'], ['SOS', 'AE0', 'K', 'S', 'EH1', 'L', 'ER0', 'EY2', 'T', 'ER0', 'Z', 'EOS'], ['SOS', 'AE0', 'K', 'S', 'EH2', 'L', 'ER0', 'AA1', 'M', 'AH0', 'T', 'ER0', 'EOS'], ['SOS', 'AE0', 'K', 'S', 'EH2', 'L', 'ER0', 'AA1', 'M', 'AH0', 'T', 'ER0', 'Z', 'EOS'], ['SOS', 'AH0', 'K', 'S', 'EH1', 'N', 'T', 'EOS'], ['SOS', 'AE1', 'K', 'S', 'EH2', 'N', 'T', 'EOS'], ['SOS', 'AE1', 'K', 'S', 'EH0', 'N', 'T', 'IH0', 'D', 'EOS'], ['SOS', 'AE1', 'K', 'S', 'EH0', 'N', 'T', 'IH0', 'NG', 'EOS'], ['SOS', 'AE1', 'K', 'S', 'EH0', 'N', 'T', 'S', 'EOS'], ['SOS', 'AE0', 'K', 'S', 'EH1', 'N', 'CH', 'UW0', 'EY0', 'T', 'EOS'], ['SOS', 'AE0', 'K', 'S', 'EH1', 'N', 'CH', 'UW0', 'EY2', 'T', 'IH0', 'D', 'EOS'], ['SOS', 'AE0', 'K', 'S', 'EH1', 'N', 'CH', 'UW0', 'EY2', 'T', 'S', 'EOS'], ['SOS', 'AE0', 'K', 'S', 'EH1', 'N', 'CH', 'UW0', 'EY2', 'T', 'IH0', 'NG', 'EOS'], ['SOS', 'AE0', 'K', 'S', 'EH1', 'N', 'CH', 'ER0', 'EOS'], ['SOS', 'AE0', 'K', 'S', 'EH1', 'P', 'T', 'EOS'], ['SOS', 'AH0', 'K', 'S', 'EH1', 'P', 'T', 'EOS'], ['SOS', 'AH0', 'K', 'S', 'EH2', 'P', 'T', 'AH0', 'B', 'IH1', 'L', 'AH0', 'T', 'IY0', 'EOS'], ['SOS', 'AE0', 'K', 'S', 'EH1', 'P', 'T', 'AH0', 'B', 'AH0', 'L', 'EOS'], ['SOS', 'AH0', 'K', 'S', 'EH1', 'P', 'T', 'AH0', 'B', 'AH0', 'L', 'EOS'], ['SOS', 'AE0', 'K', 'S', 'EH1', 'P', 'T', 'AH0', 'B', 'L', 'IY0', 'EOS'], ['SOS', 'AH0', 'K', 'S', 'EH1', 'P', 'T', 'AH0', 'B', 'L', 'IY0', 'EOS'], ['SOS', 'AE0', 'K', 'S', 'EH1', 'P', 'T', 'AH0', 'N', 'S', 'EOS'], ['SOS', 'AH0', 'K', 'S', 'EH1', 'P', 'T', 'AH0', 'N', 'S', 'EOS'], ['SOS', 'AE0', 'K', 'S', 'EH1', 'P', 'T', 'AH0', 'N', 'S', 'IH0', 'Z', 'EOS'], ['SOS', 'AE0', 'K', 'S', 'EH1', 'P', 'T', 'IH0', 'D', 'EOS'], ['SOS', 'AH0', 'K', 'S', 'EH1', 'P', 'T', 'IH0', 'D', 'EOS'], ['SOS', 'AE0', 'K', 'S', 'EH1', 'P', 'T', 'IH0', 'NG', 'EOS'], ['SOS', 'AH0', 'K', 'S', 'EH1', 'P', 'T', 'IH0', 'NG', 'EOS'], ['SOS', 'AE0', 'K', 'S', 'EH1', 'P', 'T', 'S', 'EOS'], ['SOS', 'AE1', 'K', 'S', 'EH2', 'S', 'EOS'], ['SOS', 'AE1', 'K', 'S', 'EH2', 'S', 'T', 'EOS'], ['SOS', 'AE2', 'K', 'S', 'EH0', 'S', 'AH0', 'B', 'IH1', 'L', 'IH0', 'T', 'IY0', 'EOS'], ['SOS', 'AE0', 'K', 'S', 'EH1', 'S', 'AH0', 'B', 'AH0', 'L', 'EOS'], ['SOS', 'AE1', 'K', 'S', 'EH2', 'S', 'IH0', 'NG', 'EOS'], ['SOS', 'AH0', 'K', 'S', 'EH1', 'SH', 'AH0', 'N', 'EOS'], ['SOS', 'AE0', 'K', 'S', 'EH1', 'S', 'ER0', 'IY0', 'Z', 'EOS'], ['SOS', 'AE0', 'K', 'S', 'EH1', 'S', 'ER0', 'AY2', 'Z', 'EOS'], ['SOS', 'AE0', 'K', 'S', 'EH1', 'S', 'ER0', 'AY2', 'Z', 'D', 'EOS'], ['SOS', 'AE0', 'K', 'S', 'EH1', 'S', 'ER0', 'IY0', 'EOS'], ['SOS', 'AA0', 'CH', 'EH1', 'T', 'AH0', 'EOS'], ['SOS', 'AE1', 'K', 'S', 'AH0', 'D', 'AH0', 'N', 'T', 'EOS'], ['SOS', 'AE1', 'K', 'S', 'AH0', 'D', 'AH0', 'N', 'T', 'S', 'EOS'], ['SOS', 'AE2', 'K', 'S', 'AH0', 'D', 'EH1', 'N', 'T', 'AH0', 'L', 'EOS'], ['SOS', 'AE2', 'K', 'S', 'AH0', 'D', 'EH1', 'N', 'AH0', 'L', 'EOS'], ['SOS', 'AE2', 'K', 'S', 'AH0', 'D', 'EH1', 'N', 'T', 'AH0', 'L', 'IY0', 'EOS'], ['SOS', 'AE2', 'K', 'S', 'AH0', 'D', 'EH1', 'N', 'AH0', 'L', 'IY0', 'EOS'], ['SOS', 'AE1', 'K', 'S', 'AH0', 'D', 'AH0', 'N', 'T', 'L', 'IY0', 'EOS'], ['SOS', 'AE1', 'K', 'S', 'AH0', 'D', 'AH0', 'N', 'T', 'S', 'EOS'], ['SOS', 'AE1', 'CH', 'IY0', 'AH0', 'N', 'EOS'], ['SOS', 'AE1', 'S', 'IH0', 'V', 'AA2', 'L', 'EOS'], ['SOS', 'AH0', 'K', 'L', 'EY1', 'M', 'EOS'], ['SOS', 'AH0', 'K', 'L', 'EY1', 'M', 'Z', 'EOS'], ['SOS', 'AH0', 'K', 'L', 'EY1', 'M', 'D', 'EOS'], ['SOS', 'AH0', 'K', 'L', 'EY1', 'M', 'IH0', 'NG', 'EOS'], ['SOS', 'AH0', 'K', 'L', 'EY1', 'M', 'Z', 'EOS'], ['SOS', 'AE2', 'K', 'L', 'AH0', 'M', 'EY1', 'SH', 'AH0', 'N', 'EOS'], ['SOS', 'AE1', 'K', 'L', 'AH0', 'M', 'EY2', 'T', 'EOS'], ['SOS', 'AE1', 'K', 'L', 'AH0', 'M', 'EY2', 'T', 'IH0', 'D', 'EOS'], ['SOS', 'AE2', 'K', 'L', 'AH0', 'M', 'EY1', 'SH', 'AH0', 'N', 'EOS'], ['SOS', 'AE1', 'K', 'OW0', 'EOS'], ['SOS', 'AE1', 'K', 'OW0', 'K', 'IY0', 'K', 'EOS'], ['SOS', 'AA0', 'K', 'OW1', 'L', 'AH0', 'EOS'], ['SOS', 'AE1', 'K', 'AH0', 'L', 'EY2', 'D', 'EOS'], ['SOS', 'AE1', 'K', 'AH0', 'L', 'EY2', 'D', 'Z', 'EOS'], ['SOS', 'AA0', 'K', 'OW0', 'M', 'AA1', 'N', 'D', 'OW0', 'EOS'], ['SOS', 'AH0', 'K', 'AA1', 'M', 'AH0', 'D', 'EY2', 'T', 'EOS'], ['SOS', 'AH0', 'K', 'AA1', 'M', 'AH0', 'D', 'EY2', 'T', 'IH0', 'D', 'EOS'], ['SOS', 'AH0', 'K', 'AA1', 'M', 'AH0', 'D', 'EY2', 'T', 'S', 'EOS'], ['SOS', 'AH0', 'K', 'AA1', 'M', 'AH0', 'D', 'EY2', 'T', 'IH0', 'NG', 'EOS'], ['SOS', 'AH0', 'K', 'AA2', 'M', 'AH0', 'D', 'EY1', 'SH', 'AH0', 'N', 'EOS'], ['SOS', 'AH0', 'K', 'AA2', 'M', 'AH0', 'D', 'EY1', 'SH', 'AH0', 'N', 'Z', 'EOS'], ['SOS', 'AH0', 'K', 'AA1', 'M', 'AH0', 'D', 'EY2', 'T', 'IH0', 'V', 'EOS'], ['SOS', 'AH0', 'K', 'AH1', 'M', 'P', 'AH0', 'N', 'IY0', 'D', 'EOS'], ['SOS', 'AH0', 'K', 'AH1', 'M', 'P', 'AH0', 'N', 'IY0', 'Z', 'EOS'], ['SOS', 'AH0', 'K', 'AH1', 'M', 'P', 'N', 'IH0', 'M', 'AH0', 'N', 'T', 'EOS'], ['SOS', 'AH0', 'K', 'AH1', 'M', 'P', 'N', 'IY0', 'M', 'AH0', 'N', 'T', 'EOS'], ['SOS', 'AH0', 'K', 'AH1', 'M', 'P', 'N', 'IH0', 'M', 'AH0', 'N', 'T', 'S', 'EOS'], ['SOS', 'AH0', 'K', 'AH1', 'M', 'P', 'N', 'IY0', 'M', 'AH0', 'N', 'T', 'S', 'EOS'], ['SOS', 'AH0', 'K', 'AH1', 'M', 'P', 'AH0', 'N', 'AH0', 'S', 'T', 'EOS'], ['SOS', 'AH0', 'K', 'AH1', 'M', 'P', 'AH0', 'N', 'IY0', 'EOS'], ['SOS', 'AH0', 'K', 'AH1', 'M', 'P', 'AH0', 'N', 'IY0', 'IH0', 'NG', 'EOS'], ['SOS', 'AA2', 'K', 'AA1', 'M', 'P', 'L', 'IY0', 'EOS'], ['SOS', 'AH0', 'K', 'AA1', 'M', 'P', 'L', 'IY0', 'EOS'], ['SOS', 'AH0', 'K', 'AA1', 'M', 'P', 'L', 'AH0', 'S', 'EOS'], ['SOS', 'AH0', 'K', 'AA1', 'M', 'P', 'L', 'AH0', 'S', 'AH0', 'Z', 'EOS'], ['SOS', 'AH0', 'K', 'AA1', 'M', 'P', 'L', 'IH0', 'SH', 'EOS'], ['SOS', 'AH0', 'K', 'AA1', 'M', 'P', 'L', 'IH0', 'SH', 'T', 'EOS'], ['SOS', 'AH0', 'K', 'AA1', 'M', 'P', 'L', 'IH0', 'SH', 'IH0', 'Z', 'EOS'], ['SOS', 'AH0', 'K', 'AA1', 'M', 'P', 'L', 'IH0', 'SH', 'IH0', 'NG', 'EOS'], ['SOS', 'AH0', 'K', 'AA1', 'M', 'P', 'L', 'IH0', 'SH', 'M', 'AH0', 'N', 'T', 'EOS'], ['SOS', 'AH0', 'K', 'AA1', 'M', 'P', 'L', 'IH0', 'SH', 'M', 'AH0', 'N', 'T', 'S', 'EOS'], ['SOS', 'AE1', 'K', 'AO2', 'R', 'EOS'], ['SOS', 'AE1', 'K', 'ER0', 'Z', 'EOS'], ['SOS', 'AH0', 'K', 'AO1', 'R', 'D', 'EOS'], ['SOS', 'AH0', 'K', 'AO1', 'R', 'D', 'Z', 'EOS'], ['SOS', 'AH0', 'K', 'AO1', 'R', 'D', 'AH0', 'N', 'S', 'EOS'], ['SOS', 'AH0', 'K', 'AO1', 'R', 'D', 'IH0', 'D', 'EOS'], ['SOS', 'AH0', 'K', 'AO1', 'R', 'D', 'IH0', 'NG', 'EOS'], ['SOS', 'AH0', 'K', 'AO1', 'R', 'D', 'IH0', 'NG', 'L', 'IY0', 'EOS'], ['SOS', 'AH0', 'K', 'AO1', 'R', 'D', 'IY0', 'AH0', 'N', 'EOS'], ['SOS', 'AH0', 'K', 'AO1', 'R', 'D', 'IY0', 'AH0', 'N', 'Z', 'EOS'], ['SOS', 'AH0', 'K', 'AO1', 'R', 'D', 'Z', 'EOS'], ['SOS', 'AH0', 'K', 'AO1', 'S', 'T', 'EOS'], ['SOS', 'AH0', 'K', 'AA1', 'S', 'T', 'IH0', 'D', 'EOS'], ['SOS', 'AH0', 'K', 'AA1', 'S', 'T', 'IH0', 'NG', 'EOS'], ['SOS', 'AH0', 'K', 'AW1', 'N', 'T', 'EOS'], ['SOS', 'AH0', 'K', 'AW1', 'N', 'T', 'S', 'EOS'], ['SOS', 'AH0', 'K', 'AW1', 'N', 'T', 'AH0', 'B', 'IH2', 'L', 'IH0', 'T', 'IY0', 'EOS'], ['SOS', 'AH0', 'K', 'AW1', 'N', 'AH0', 'B', 'IH0', 'L', 'IH0', 'T', 'IY0', 'EOS'], ['SOS', 'AH0', 'K', 'AW1', 'N', 'T', 'AH0', 'B', 'AH0', 'L', 'EOS'], ['SOS', 'AH0', 'K', 'AW1', 'N', 'AH0', 'B', 'AH0', 'L', 'EOS'], ['SOS', 'AH0', 'K', 'AW1', 'N', 'T', 'AH0', 'N', 'S', 'IY0', 'EOS'], ['SOS', 'AH0', 'K', 'AW1', 'N', 'T', 'AH0', 'N', 'T', 'EOS'], ['SOS', 'AH0', 'K', 'AW1', 'N', 'T', 'AH0', 'N', 'T', 'S', 'EOS'], ['SOS', 'AH0', 'K', 'AW1', 'N', 'T', 'AH0', 'N', 'T', 'S', 'EOS'], ['SOS', 'AH0', 'K', 'AW1', 'N', 'T', 'AH0', 'N', 'T', 'S', 'EOS'], ['SOS', 'AH0', 'K', 'AW1', 'N', 'T', 'IH0', 'D', 'EOS'], ['SOS', 'AH0', 'K', 'AW1', 'N', 'AH0', 'D', 'EOS'], ['SOS', 'AH0', 'K', 'AW1', 'N', 'T', 'EH2', 'M', 'P', 'EOS'], ['SOS', 'AH0', 'K', 'AW1', 'N', 'T', 'EH2', 'M', 'P', 'S', 'EOS'], ['SOS', 'AH0', 'K', 'AW1', 'N', 'T', 'IH0', 'NG', 'EOS'], ['SOS', 'AH0', 'K', 'AW1', 'N', 'IH0', 'NG', 'EOS'], ['SOS', 'AH0', 'K', 'AW1', 'N', 'T', 'S', 'EOS'], ['SOS', 'AH0', 'K', 'UW1', 'T', 'ER0', 'M', 'AH0', 'N', 'T', 'EOS'], ['SOS', 'AH0', 'K', 'UW1', 'T', 'ER0', 'M', 'AH0', 'N', 'T', 'S', 'EOS'], ['SOS', 'AH0', 'K', 'UW1', 'T', 'ER0', 'M', 'AH0', 'N', 'T', 'EOS'], ['SOS', 'AH0', 'K', 'UW1', 'T', 'ER0', 'M', 'AH0', 'N', 'T', 'S', 'EOS'], ['SOS', 'AA1', 'K', 'R', 'AA2', 'EOS'], ['SOS', 'AH0', 'K', 'R', 'EH2', 'D', 'AH0', 'T', 'EOS'], ['SOS', 'AH0', 'K', 'R', 'EH2', 'D', 'AH0', 'T', 'EY1', 'SH', 'AH0', 'N', 'EOS'], ['SOS', 'AH0', 'K', 'R', 'EH2', 'D', 'AH0', 'T', 'EY1', 'SH', 'AH0', 'N', 'Z', 'EOS'], ['SOS', 'AH0', 'K', 'R', 'EH1', 'D', 'IH0', 'T', 'IH0', 'D', 'EOS'], ['SOS', 'AH0', 'K', 'R', 'EH1', 'D', 'AH0', 'T', 'IH0', 'NG', 'EOS'], ['SOS', 'AH0', 'K', 'R', 'IY1', 'T', 'IH0', 'D', 'EOS'], ['SOS', 'AH0', 'K', 'R', 'IY1', 'SH', 'AH0', 'N', 'EOS'], ['SOS', 'AH0', 'K', 'R', 'UW1', 'AH0', 'L', 'EOS'], ['SOS', 'AH0', 'K', 'R', 'UW1', 'AH0', 'L', 'Z', 'EOS'], ['SOS', 'AH0', 'K', 'R', 'UW1', 'EOS'], ['SOS', 'AH0', 'K', 'R', 'UW1', 'D', 'EOS'], ['SOS', 'AH0', 'K', 'R', 'UW1', 'Z', 'EOS'], ['SOS', 'AH0', 'K', 'R', 'UW1', 'IH0', 'NG', 'EOS'], ['SOS', 'AE1', 'K', 'Y', 'UW0', 'EOS'], ['SOS', 'AE1', 'K', 'Y', 'UW0', 'HH', 'EH2', 'L', 'TH', 'EOS'], ['SOS', 'AH0', 'K', 'Y', 'UW1', 'M', 'Y', 'AH0', 'L', 'EY2', 'T', 'EOS'], ['SOS', 'AH0', 'K', 'Y', 'UW1', 'M', 'Y', 'AH0', 'L', 'EY2', 'T', 'IH0', 'D', 'EOS'], ['SOS', 'AH0', 'K', 'Y', 'UW1', 'M', 'Y', 'AH0', 'L', 'EY2', 'T', 'S', 'EOS'], ['SOS', 'AH0', 'K', 'Y', 'UW1', 'M', 'Y', 'AH0', 'L', 'EY2', 'T', 'IH0', 'NG', 'EOS'], ['SOS', 'AH0', 'K', 'Y', 'UW2', 'M', 'Y', 'AH0', 'L', 'EY1', 'SH', 'AH0', 'N', 'EOS'], ['SOS', 'AH0', 'K', 'Y', 'UW2', 'M', 'Y', 'AH0', 'L', 'EY1', 'SH', 'AH0', 'N', 'Z', 'EOS'], ['SOS', 'AH0', 'K', 'Y', 'UW1', 'M', 'Y', 'AH0', 'L', 'EY2', 'T', 'IH0', 'V', 'EOS'], ['SOS', 'AH0', 'K', 'Y', 'UW1', 'M', 'Y', 'AH0', 'L', 'EY2', 'T', 'IH0', 'V', 'L', 'IY0', 'EOS'], ['SOS', 'AH0', 'K', 'Y', 'UW1', 'M', 'Y', 'AH0', 'L', 'AH0', 'T', 'IH2', 'V', 'L', 'IY0', 'EOS'], ['SOS', 'AH0', 'K', 'Y', 'UW1', 'M', 'Y', 'AH0', 'L', 'EY2', 'T', 'ER0', 'EOS'], ['SOS', 'AH0', 'K', 'Y', 'UW1', 'M', 'Y', 'AH0', 'L', 'EY2', 'T', 'ER0', 'Z', 'EOS'], ['SOS', 'AE1', 'K', 'Y', 'ER0', 'AH0', 'S', 'IY0', 'Z', 'EOS'], ['SOS', 'AE1', 'K', 'Y', 'ER0', 'AH0', 'S', 'IY0', 'EOS'], ['SOS', 'AE1', 'K', 'Y', 'ER0', 'AH0', 'T', 'EOS'], ['SOS', 'AE1', 'K', 'Y', 'ER0', 'AH0', 'T', 'L', 'IY0', 'EOS'], ['SOS', 'AE1', 'K', 'Y', 'ER0', 'EY2', 'EOS'], ['SOS', 'AE1', 'K', 'Y', 'ER0', 'EY2', 'Z', 'EOS'], ['SOS', 'AE1', 'K', 'Y', 'ER0', 'AY2', 'D', 'EOS'], ['SOS', 'AE2', 'K', 'ER1', 'S', 'T', 'EOS'], ['SOS', 'AA0', 'K', 'UH1', 'R', 'S', 'OW0', 'EOS'], ['SOS', 'AE2', 'K', 'Y', 'AH0', 'Z', 'EY1', 'SH', 'AH0', 'N', 'EOS'], ['SOS', 'AE2', 'K', 'Y', 'UW0', 'Z', 'EY1', 'SH', 'AH0', 'N', 'EOS'], ['SOS', 'AE2', 'K', 'Y', 'AH0', 'Z', 'EY1', 'SH', 'AH0', 'N', 'Z', 'EOS'], ['SOS', 'AE2', 'K', 'Y', 'UW0', 'Z', 'EY1', 'SH', 'AH0', 'N', 'Z', 'EOS'], ['SOS', 'AH0', 'K', 'Y', 'UW1', 'Z', 'AH0', 'T', 'IH0', 'V', 'EOS'], ['SOS', 'AH0', 'K', 'Y', 'UW1', 'Z', 'AH0', 'T', 'AO2', 'R', 'IY0', 'EOS'], ['SOS', 'AH0', 'K', 'Y', 'UW1', 'Z', 'EOS'], ['SOS', 'AH0', 'K', 'Y', 'UW1', 'Z', 'D', 'EOS'], ['SOS', 'AH0', 'K', 'Y', 'UW1', 'Z', 'ER0', 'EOS'], ['SOS', 'AH0', 'K', 'Y', 'UW1', 'Z', 'ER0', 'Z', 'EOS'], ['SOS', 'AH0', 'K', 'Y', 'UW1', 'Z', 'IH0', 'Z', 'EOS'], ['SOS', 'AH0', 'K', 'Y', 'UW1', 'Z', 'IH0', 'NG', 'EOS'], ['SOS', 'AH0', 'K', 'Y', 'UW1', 'Z', 'IH0', 'NG', 'L', 'IY0', 'EOS'], ['SOS', 'AH0', 'K', 'AH1', 'S', 'T', 'AH0', 'M', 'EOS'], ['SOS', 'AH0', 'K', 'AH1', 'S', 'T', 'AH0', 'M', 'D', 'EOS'], ['SOS', 'AE1', 'K', 'Y', 'UW0', 'T', 'EY2', 'N', 'EOS'], ['SOS', 'EY1', 'S', 'EOS'], ['SOS', 'EY1', 'S', 'K', 'AA0', 'M', 'EOS'], ['SOS', 'EY1', 'S', 'T', 'EOS'], ['SOS', 'EY1', 'S', 'ER0', 'EOS'], ['SOS', 'AH0', 'S', 'EH1', 'R', 'B', 'IH0', 'K', 'EOS'], ['SOS', 'AH0', 'S', 'EH1', 'R', 'OW0', 'EOS'], ['SOS', 'AH0', 'S', 'Y', 'EH1', 'R', 'OW0', 'EOS'], ['SOS', 'AH0', 'TH', 'EH1', 'R', 'OW0', 'EOS'], ['SOS', 'AH0', 'S', 'EH1', 'R', 'AH0', 'EOS'], ['SOS', 'EY1', 'S', 'IH0', 'Z', 'EOS'], ['SOS', 'AH0', 'S', 'IY2', 'T', 'AH0', 'M', 'IH1', 'N', 'AH0', 'F', 'AH0', 'N', 'EOS'], ['SOS', 'AE1', 'S', 'AH0', 'T', 'EY2', 'T', 'EOS'], ['SOS', 'AH0', 'S', 'EH1', 'T', 'IH0', 'K', 'EOS'], ['SOS', 'AH0', 'S', 'IY1', 'T', 'IH0', 'K', 'EOS'], ['SOS', 'AA0', 'S', 'EH1', 'T', 'OW0', 'EOS'], ['SOS', 'AA0', 'S', 'EH1', 'T', 'OW0', 'K', 'L', 'AO2', 'R', 'EOS'], ['SOS', 'AE1', 'S', 'AH0', 'T', 'OW2', 'N', 'EOS'], ['SOS', 'AH0', 'S', 'EH2', 'T', 'OW0', 'S', 'IH1', 'R', 'IH0', 'NG', 'G', 'AO0', 'N', 'EOS'], ['SOS', 'AH0', 'S', 'EH2', 'T', 'AH0', 'L', 'K', 'OW1', 'L', 'IY0', 'N', 'EOS'], ['SOS', 'AH0', 'S', 'IY2', 'T', 'AH0', 'L', 'K', 'OW1', 'L', 'IY0', 'N', 'EOS'], ['SOS', 'AH0', 'S', 'EH1', 'T', 'AH0', 'L', 'IY2', 'N', 'EOS'], ['SOS', 'AE0', 'S', 'AH0', 'V', 'EY1', 'D', 'OW0', 'EOS'], ['SOS', 'AA0', 'S', 'EY1', 'V', 'EH0', 'S', 'EOS'], ['SOS', 'EY1', 'S', 'IY0', 'EOS'], ['SOS', 'EY1', 'S', 'IY1', 'EY1', 'CH', 'EOS'], ['SOS', 'AH0', 'CH', 'IY1', 'AH0', 'N', 'EOS'], ['SOS', 'AE1', 'K', 'AH0', 'T', 'S', 'EOS'], ['SOS', 'EY1', 'K', 'EOS'], ['SOS', 'AA0', 'CH', 'EY1', 'B', 'IY0', 'EOS'], ['SOS', 'EY1', 'K', 'T', 'EOS'], ['SOS', 'AH0', 'CH', 'IY1', 'EOS'], ['SOS', 'AE1', 'K', 'IH0', 'N', 'B', 'AA0', 'K', 'EOS'], ['SOS', 'AE1', 'K', 'AH0', 'N', 'B', 'AW2', 'M', 'EOS'], ['SOS', 'AH0', 'K', 'IY1', 'N', 'EOS'], ['SOS', 'AH0', 'K', 'IY1', 'N', 'Z', 'EOS'], ['SOS', 'EY1', 'K', 'S', 'EOS'], ['SOS', 'AE1', 'CH', 'AH0', 'S', 'AH0', 'N', 'EOS'], ['SOS', 'AE1', 'CH', 'AH0', 'S', 'AH0', 'N', 'Z', 'EOS'], ['SOS', 'AE1', 'CH', 'AH0', 'S', 'AH0', 'N', 'Z', 'EOS'], ['SOS', 'AE1', 'CH', 'IY0', 'EOS'], ['SOS', 'AH0', 'CH', 'IY1', 'V', 'AH0', 'EOS'], ['SOS', 'AH0', 'CH', 'IY1', 'V', 'AH0', 'B', 'AH0', 'L', 'EOS'], ['SOS', 'AH0', 'CH', 'IY1', 'V', 'EOS'], ['SOS', 'AH0', 'CH', 'IY1', 'V', 'D', 'EOS'], ['SOS', 'AH0', 'CH', 'IY1', 'V', 'M', 'AH0', 'N', 'T', 'EOS'], ['SOS', 'AH0', 'CH', 'IY1', 'V', 'M', 'AH0', 'N', 'T', 'S', 'EOS'], ['SOS', 'AH0', 'CH', 'IY1', 'V', 'ER0', 'EOS'], ['SOS', 'AH0', 'CH', 'IY1', 'V', 'ER0', 'Z', 'EOS'], ['SOS', 'AH0', 'CH', 'IY1', 'V', 'Z', 'EOS'], ['SOS', 'AH0', 'CH', 'IY1', 'V', 'IH0', 'NG', 'EOS'], ['SOS', 'AE1', 'K', 'IH0', 'L', '#', 'place,', 'irish', 'EOS'], ['SOS', 'AE1', 'K', 'IH0', 'L', 'Z', 'EOS'], ['SOS', 'AH0', 'K', 'IH1', 'L', 'IY0', 'EOS'], ['SOS', 'AH0', 'K', 'IH1', 'L', 'IY0', 'Z', 'EOS'], ['SOS', 'AH0', 'K', 'IH1', 'L', 'IY0', 'Z', 'EOS'], ['SOS', 'EY1', 'K', 'IH0', 'NG', 'EOS'], ['SOS', 'EY1', 'K', 'IH0', 'NG', 'L', 'IY0', 'EOS'], ['SOS', 'AA1', 'HH', 'M', 'EH0', 'D', 'EOS'], ['SOS', 'AH0', 'CH', 'OW1', 'AH0', 'EOS'], ['SOS', 'AH0', 'CH', 'OW1', 'AH0', 'Z', 'EOS'], ['SOS', 'AA2', 'CH', 'UW1', 'EOS'], ['SOS', 'EY1', 'K', 'ER0', 'EOS'], ['SOS', 'AE1', 'K', 'AO0', 'R', 'D', 'EOS'], ['SOS', 'AE1', 'K', 'ER0', 'N', 'EOS'], ['SOS', 'AE1', 'K', 'T', 'EH0', 'N', 'B', 'ER0', 'G', 'EOS'], ['SOS', 'AE1', 'K', 'T', 'ER0', 'B', 'ER0', 'G', 'EOS'], ['SOS', 'EY1', 'K', 'IY0', 'EOS'], ['SOS', 'AE1', 'S', 'AH0', 'D', 'EOS'], ['SOS', 'AH0', 'S', 'IH1', 'D', 'IH0', 'K', 'EOS'], ['SOS', 'AH0', 'S', 'IH2', 'D', 'AH0', 'F', 'AH0', 'K', 'EY1', 'SH', 'AH0', 'N', 'EOS'], ['SOS', 'AH0', 'S', 'IH1', 'D', 'AH0', 'F', 'AY2', 'D', 'EOS'], ['SOS', 'AH0', 'S', 'IH1', 'D', 'AH0', 'F', 'AY2', 'Z', 'EOS'], ['SOS', 'AH0', 'S', 'IH1', 'D', 'AH0', 'F', 'AY2', 'EOS'], ['SOS', 'AH0', 'S', 'IH1', 'D', 'AH0', 'T', 'IY0', 'EOS'], ['SOS', 'AE1', 'S', 'AH0', 'D', 'L', 'IY0', 'EOS'], ['SOS', 'AE2', 'S', 'AH0', 'D', 'OW1', 'S', 'AH0', 'S', 'EOS'], ['SOS', 'AE1', 'S', 'AH0', 'D', 'Z', 'EOS'], ['SOS', 'AE2', 'S', 'AH0', 'D', 'UH1', 'R', 'IY0', 'AH0', 'EOS'], ['SOS', 'AA0', 'S', 'IH1', 'R', 'N', 'OW0', 'EOS'], ['SOS', 'AE1', 'K', 'EOS'], ['SOS', 'AE1', 'K', 'ER0', 'EOS'], ['SOS', 'AE1', 'K', 'ER0', 'Z', 'EOS'], ['SOS', 'AE1', 'K', 'ER0', 'L', 'IY0', 'EOS'], ['SOS', 'AE1', 'K', 'ER0', 'L', 'IY0', 'EOS'], ['SOS', 'AE1', 'K', 'ER0', 'M', 'AH0', 'N', 'EOS'], ['SOS', 'AE1', 'K', 'ER0', 'M', 'AH0', 'N', 'EOS'], ['SOS', 'AE1', 'K', 'ER0', 'M', 'AH0', 'N', 'V', 'IH0', 'L', 'EOS'], ['SOS', 'AE1', 'K', 'ER0', 'S', 'AH0', 'N', 'EOS'], ['SOS', 'AE1', 'K', 'ER0', 'T', 'EOS'], ['SOS', 'AE1', 'K', 'HH', 'AW2', 'S', 'EOS'], ['SOS', 'AE1', 'K', 'L', 'AH0', 'N', 'D', 'EOS'], ['SOS', 'AE1', 'K', 'AH0', 'L', 'Z', 'EOS'], ['SOS', 'AE1', 'K', 'L', 'IY0', 'EOS'], ['SOS', 'AE1', 'K', 'L', 'IH0', 'N', 'EOS'], ['SOS', 'AE1', 'K', 'M', 'AH0', 'N', 'EOS'], ['SOS', 'AE0', 'K', 'N', 'AA1', 'L', 'IH0', 'JH', 'EOS'], ['SOS', 'AE0', 'K', 'N', 'AA1', 'L', 'IH0', 'JH', 'AH0', 'B', 'AH0', 'L', 'EOS'], ['SOS', 'AE0', 'K', 'N', 'AA1', 'L', 'IH0', 'JH', 'D', 'EOS'], ['SOS', 'AE0', 'K', 'N', 'AA1', 'L', 'IH0', 'JH', 'M', 'AH0', 'N', 'T', 'EOS'], ['SOS', 'AE0', 'K', 'N', 'AA1', 'L', 'IH0', 'JH', 'M', 'AH0', 'N', 'T', 'S', 'EOS'], ['SOS', 'AE0', 'K', 'N', 'AA1', 'L', 'IH0', 'JH', 'IH0', 'Z', 'EOS'], ['SOS', 'AE0', 'K', 'N', 'AA1', 'L', 'IH0', 'JH', 'IH0', 'NG', 'EOS'], ['SOS', 'AE0', 'K', 'N', 'AA1', 'L', 'IH0', 'JH', 'M', 'AH0', 'N', 'T', 'EOS'], ['SOS', 'AE0', 'K', 'N', 'AA1', 'L', 'IH0', 'JH', 'M', 'AH0', 'N', 'T', 'S', 'EOS'], ['SOS', 'AE1', 'K', 'R', 'OY2', 'D', 'EOS'], ['SOS', 'AE1', 'K', 'R', 'OY2', 'D', 'Z', 'EOS'], ['SOS', 'EY2', 'S', 'IY2', 'EH1', 'M', 'EOS'], ['SOS', 'AE1', 'K', 'M', 'AE0', 'T', 'EOS'], ['SOS', 'AE1', 'K', 'M', 'AE0', 'T', 'S', 'EOS'], ['SOS', 'AE1', 'K', 'M', 'IY0', 'EOS'], ['SOS', 'AE1', 'K', 'M', 'IY0', 'Z', 'EOS'], ['SOS', 'AE1', 'K', 'N', 'IY0', 'EOS'], ['SOS', 'AA0', 'K', 'OW0', 'CH', 'EH1', 'L', 'AH0', 'EOS'], ['SOS', 'AE1', 'K', 'AO0', 'F', 'EOS'], ['SOS', 'AH0', 'K', 'AO1', 'G', 'EOS'], ['SOS', 'AE1', 'K', 'AH0', 'L', 'AY2', 'T', 'EOS'], ['SOS', 'AE1', 'K', 'AH0', 'L', 'AY2', 'T', 'S', 'EOS'], ['SOS', 'EY1', 'K', 'AH0', 'M', 'EOS'], ['SOS', 'Y', 'AE1', 'K', 'AH0', 'M', 'EOS'], ['SOS', 'AH0', 'K', 'AO1', 'R', 'D', 'EOS'], ['SOS', 'AH0', 'K', 'AO1', 'R', 'D', 'IY0', 'AH0', 'EOS'], ['SOS', 'EY1', 'K', 'AO0', 'R', 'N', 'EOS'], ['SOS', 'EY1', 'K', 'AO0', 'R', 'N', 'Z', 'EOS'], ['SOS', 'EY1', 'K', 'AO0', 'R', 'N', 'Z', 'EOS'], ['SOS', 'AH0', 'K', 'AO1', 'S', 'T', 'AH0', 'EOS'], ['SOS', 'EY1', 'K', 'AO0', 'T', 'EOS'], ['SOS', 'AH0', 'K', 'UW1', 'S', 'T', 'IH0', 'K', 'EOS'], ['SOS', 'AH0', 'K', 'UW1', 'S', 'T', 'IH0', 'K', 'AH0', 'L', 'EOS'], ['SOS', 'AH0', 'K', 'UW1', 'S', 'T', 'IH0', 'K', 'L', 'IY0', 'EOS'], ['SOS', 'AH0', 'K', 'UW1', 'S', 'T', 'IH0', 'K', 'S', 'EOS'], ['SOS', 'AH0', 'K', 'W', 'EY1', 'N', 'T', 'EOS'], ['SOS', 'AH0', 'K', 'W', 'EY1', 'N', 'T', 'AH0', 'N', 'S', 'EOS'], ['SOS', 'AH0', 'K', 'W', 'EY1', 'N', 'T', 'AH0', 'N', 'S', 'IH0', 'Z', 'EOS'], ['SOS', 'AH0', 'K', 'W', 'EY1', 'N', 'T', 'AH0', 'N', 'S', 'SH', 'IH0', 'P', 'EOS'], ['SOS', 'AH0', 'K', 'W', 'EY1', 'N', 'T', 'IH0', 'D', 'EOS'], ['SOS', 'AH0', 'K', 'W', 'EY1', 'N', 'IH0', 'D', 'EOS'], ['SOS', 'AA0', 'K', 'W', 'AA0', 'V', 'IY1', 'V', 'AH0', 'EOS'], ['SOS', 'AE2', 'K', 'W', 'IY0', 'EH1', 'S', 'EOS'], ['SOS', 'AE2', 'K', 'W', 'IY0', 'EH1', 'S', 'T', 'EOS'], ['SOS', 'AE2', 'K', 'W', 'IY0', 'EH1', 'S', 'AH0', 'N', 'S', 'EOS'], ['SOS', 'AE2', 'K', 'W', 'IY0', 'EH1', 'S', 'AH0', 'N', 'T', 'EOS'], ['SOS', 'AE2', 'K', 'W', 'IY0', 'EH1', 'S', 'IH0', 'NG', 'EOS'], ['SOS', 'AH0', 'K', 'W', 'AY1', 'ER0', 'EOS'], ['SOS', 'AH0', 'K', 'W', 'AY1', 'ER0', 'D', 'EOS'], ['SOS', 'AH0', 'K', 'W', 'AY1', 'ER0', 'ER0', 'EOS'], ['SOS', 'AH0', 'K', 'W', 'AY1', 'ER0', 'ER0', 'Z', 'EOS'], ['SOS', 'AH0', 'K', 'W', 'AY1', 'ER0', 'ER0', 'Z', 'EOS'], ['SOS', 'AH0', 'K', 'W', 'AY1', 'ER0', 'Z', 'EOS'], ['SOS', 'AH0', 'K', 'W', 'AY1', 'R', 'IH0', 'NG', 'EOS'], ['SOS', 'AH0', 'K', 'W', 'AY1', 'ER0', 'IH0', 'NG', 'EOS'], ['SOS', 'AE2', 'K', 'W', 'AH0', 'Z', 'IH1', 'SH', 'AH0', 'N', 'EOS'], ['SOS', 'AE2', 'K', 'W', 'AH0', 'Z', 'IH1', 'SH', 'AH0', 'N', 'Z', 'EOS'], ['SOS', 'AE2', 'K', 'W', 'AH0', 'Z', 'IH1', 'SH', 'AH0', 'N', 'Z', 'EOS'], ['SOS', 'AH0', 'K', 'W', 'IH1', 'Z', 'AH0', 'T', 'IH0', 'V', 'EOS'], ['SOS', 'AH0', 'K', 'W', 'IH1', 'T', 'EOS'], ['SOS', 'AE1', 'K', 'W', 'IH0', 'T', 'EY2', 'N', 'EOS'], ['SOS', 'AH0', 'K', 'W', 'IH1', 'T', 'S', 'EOS'], ['SOS', 'AH0', 'K', 'W', 'IH1', 'T', 'AH0', 'L', 'EOS'], ['SOS', 'AH0', 'K', 'W', 'IH1', 'T', 'AH0', 'L', 'Z', 'EOS'], ['SOS', 'AH0', 'K', 'W', 'IH1', 'T', 'IH0', 'D', 'EOS'], ['SOS', 'AH0', 'K', 'W', 'IH1', 'T', 'IH0', 'NG', 'EOS'], ['SOS', 'EY1', 'K', 'ER0', 'EOS'], ['SOS', 'EY1', 'K', 'ER0', 'IH0', 'JH', 'EOS'], ['SOS', 'EY1', 'K', 'R', 'AH0', 'JH', 'EOS'], ['SOS', 'AH0', 'K', 'R', 'IY1', 'EOS'], ['SOS', 'EY1', 'K', 'ER0', 'Z', 'EOS'], ['SOS', 'AE1', 'K', 'R', 'IY0', 'EOS'], ['SOS', 'AA1', 'K', 'R', 'IY0', 'EOS'], ['SOS', 'AE1', 'K', 'R', 'IH0', 'D', 'EOS'], ['SOS', 'AE2', 'K', 'R', 'AH0', 'M', 'OW1', 'N', 'IY0', 'AH0', 'S', 'EOS'], ['SOS', 'AE1', 'K', 'R', 'IH0', 'M', 'OW2', 'N', 'IY0', 'EOS'], ['SOS', 'AE1', 'K', 'R', 'OW0', 'EOS'], ['SOS', 'AE1', 'K', 'R', 'AH0', 'B', 'AE2', 'T', 'EOS'], ['SOS', 'AE2', 'K', 'R', 'AH0', 'B', 'AE1', 'T', 'IH0', 'K', 'EOS'], ['SOS', 'AE2', 'K', 'R', 'AH0', 'B', 'AE1', 'T', 'IH0', 'K', 'S', 'EOS'], ['SOS', 'AE1', 'K', 'R', 'AH0', 'B', 'AE2', 'T', 'S', 'EOS'], ['SOS', 'AE1', 'K', 'R', 'OW0', 'L', 'IY2', 'N', 'EOS'], ['SOS', 'AE1', 'K', 'R', 'AH0', 'N', 'IH0', 'M', 'EOS'], ['SOS', 'AE1', 'K', 'R', 'AH0', 'N', 'IH0', 'M', 'Z', 'EOS'], ['SOS', 'AH0', 'K', 'R', 'AA1', 'P', 'AH0', 'L', 'AH0', 'S', 'EOS'], ['SOS', 'AH0', 'K', 'R', 'AO1', 'S', 'EOS'], ['SOS', 'AH0', 'K', 'R', 'IH1', 'L', 'IH0', 'K', 'EOS'], ['SOS', 'AH0', 'K', 'R', 'IH1', 'L', 'IH0', 'K', 'S', 'EOS'], ['SOS', 'AE1', 'K', 'T', 'EOS'], ['SOS', 'AE1', 'K', 'T', 'S', 'EOS'], ['SOS', 'AE1', 'K', 'T', 'AA0', 'EOS'], ['SOS', 'AE2', 'K', 'T', 'AA1', 'V', 'AH0', 'EOS'], ['SOS', 'AE2', 'K', 'T', 'AA1', 'V', 'AH0', 'Z', 'EOS'], ['SOS', 'AE2', 'K', 'T', 'AA1', 'V', 'AH0', 'Z', 'EOS'], ['SOS', 'AE1', 'K', 'T', 'IH0', 'D', 'EOS'], ['SOS', 'AE1', 'K', 'T', 'EH0', 'L', 'EOS'], ['SOS', 'AE1', 'K', 'T', 'IH0', 'G', 'AO0', 'L', 'EOS'], ['SOS', 'AE1', 'K', 'T', 'AH0', 'N', 'EOS'], ['SOS', 'AE1', 'K', 'T', 'IH0', 'NG', 'EOS'], ['SOS', 'AE1', 'K', 'T', 'IH0', 'N', 'AY2', 'D', 'EOS'], ['SOS', 'AE2', 'K', 'T', 'IH0', 'N', 'IH1', 'D', 'IY0', 'AH0', 'EOS'], ['SOS', 'AE2', 'K', 'T', 'IH2', 'N', 'OW0', 'M', 'AY2', 'K', 'OW1', 'S', 'IH0', 'S', 'EOS'], ['SOS', 'AE1', 'K', 'SH', 'AH0', 'N', 'EOS'], ['SOS', 'AE1', 'K', 'SH', 'AH0', 'N', 'Z', 'EOS'], ['SOS', 'AE1', 'K', 'SH', 'AH0', 'N', 'AH0', 'B', 'AH0', 'L', 'EOS'], ['SOS', 'AE1', 'K', 'SH', 'AH0', 'N', 'Z', 'EOS'], ['SOS', 'AE1', 'K', 'T', 'IH0', 'V', 'EY2', 'Z', 'EOS'], ['SOS', 'AE1', 'K', 'T', 'AH0', 'V', 'EY2', 'T', 'EOS'], ['SOS', 'AE1', 'K', 'T', 'AH0', 'V', 'EY2', 'T', 'IH0', 'D', 'EOS'], ['SOS', 'AE1', 'K', 'T', 'AH0', 'V', 'EY2', 'T', 'S', 'EOS'], ['SOS', 'AE1', 'K', 'T', 'AH0', 'V', 'EY2', 'T', 'IH0', 'NG', 'EOS'], ['SOS', 'AE2', 'K', 'T', 'AH0', 'V', 'EY1', 'SH', 'AH0', 'N', 'EOS'], ['SOS', 'AE1', 'K', 'T', 'AH0', 'V', 'EY2', 'T', 'ER0', 'EOS'], ['SOS', 'AE1', 'K', 'T', 'IH0', 'V', 'EOS'], ['SOS', 'AE1', 'K', 'T', 'IH0', 'V', 'Z', 'EOS'], ['SOS', 'AE1', 'K', 'T', 'IH0', 'V', 'L', 'IY0', 'EOS'], ['SOS', 'AE1', 'K', 'T', 'IH0', 'V', 'Z', 'EOS'], ['SOS', 'AE1', 'K', 'T', 'IH0', 'V', 'IH2', 'ZH', 'AH0', 'N', 'EOS'], ['SOS', 'AE1', 'K', 'T', 'IH0', 'V', 'IH2', 'Z', 'AH0', 'M', 'EOS'], ['SOS', 'AE1', 'K', 'T', 'AH0', 'V', 'AH0', 'S', 'T', 'EOS'], ['SOS', 'AE1', 'K', 'T', 'IH0', 'V', 'IH0', 'S', 'T', 'EOS'], ['SOS', 'AE1', 'K', 'T', 'AH0', 'V', 'AH0', 'S', 'T', 'S', 'EOS'], ['SOS', 'AE1', 'K', 'T', 'IH0', 'V', 'IH0', 'S', 'T', 'S', 'EOS'], ['SOS', 'AE1', 'K', 'T', 'IH0', 'V', 'IH0', 'S', 'T', 'S', 'EOS'], ['SOS', 'AE0', 'K', 'T', 'IH1', 'V', 'AH0', 'T', 'IY0', 'Z', 'EOS'], ['SOS', 'AE0', 'K', 'T', 'IH1', 'V', 'IH0', 'T', 'IY0', 'Z', 'EOS'], ['SOS', 'AE0', 'K', 'T', 'IH1', 'V', 'AH0', 'T', 'IY0', 'EOS'], ['SOS', 'AE0', 'K', 'T', 'IH1', 'V', 'IH0', 'T', 'IY0', 'EOS'], ['SOS', 'AE0', 'K', 'T', 'M', 'IY1', 'D', 'IY0', 'AH0', 'EOS'], ['SOS', 'AE1', 'K', 'T', 'OW0', 'D', 'AY2', 'N', 'EOS'], ['SOS', 'AE1', 'K', 'T', 'AH0', 'N', 'EOS'], ['SOS', 'AE1', 'K', 'T', 'ER0', 'EOS'], ['SOS', 'AE1', 'K', 'T', 'ER0', 'Z', 'EOS'], ['SOS', 'AE1', 'K', 'T', 'ER0', 'Z', 'EOS'], ['SOS', 'AE1', 'K', 'T', 'ER0', 'Z', 'EOS'], ['SOS', 'AE1', 'K', 'T', 'R', 'AH0', 'S', 'EOS'], ['SOS', 'AE1', 'K', 'T', 'R', 'AH0', 'S', 'IH0', 'Z', 'EOS'], ['SOS', 'AE1', 'K', 'T', 'R', 'AH0', 'S', 'IH0', 'Z', 'EOS'], ['SOS', 'AE1', 'K', 'T', 'S', 'EOS'], ['SOS', 'AE1', 'K', 'S', 'EOS'], ['SOS', 'AE1', 'K', 'CH', 'AH0', 'W', 'AH0', 'L', 'EOS'], ['SOS', 'AE1', 'K', 'SH', 'AH0', 'L', 'EOS'], ['SOS', 'AE2', 'K', 'CH', 'UW0', 'AE1', 'L', 'AH0', 'T', 'IY2', 'EOS'], ['SOS', 'AE1', 'K', 'CH', 'UW2', 'AH0', 'L', 'AY2', 'Z', 'EOS'], ['SOS', 'AE1', 'K', 'CH', 'UW2', 'AH0', 'L', 'IY0', 'EOS'], ['SOS', 'AE1', 'K', 'CH', 'L', 'IY0', 'EOS'], ['SOS', 'AE1', 'K', 'SH', 'AH0', 'L', 'IY0', 'EOS'], ['SOS', 'AE2', 'K', 'CH', 'UW2', 'EH1', 'R', 'IY0', 'AH0', 'L', 'EOS'], ['SOS', 'AE1', 'K', 'CH', 'UW2', 'EH1', 'R', 'IY2', 'Z', 'EOS'], ['SOS', 'AE1', 'K', 'CH', 'UW0', 'EH1', 'R', 'IY2', 'EOS'], ['SOS', 'AE1', 'K', 'CH', 'UW2', 'EY1', 'T', 'EOS'], ['SOS', 'AE1', 'K', 'T', 'Y', 'UW0', 'EY2', 'T', 'ER0', 'EOS'], ['SOS', 'AE1', 'K', 'CH', 'UW0', 'EY2', 'T', 'ER0', 'EOS'], ['SOS', 'AE1', 'K', 'T', 'Y', 'UW0', 'EY2', 'T', 'ER0', 'Z', 'EOS'], ['SOS', 'AE1', 'K', 'CH', 'UW0', 'EY2', 'T', 'ER0', 'Z', 'EOS'], ['SOS', 'AE1', 'K', 'T', 'AH0', 'S', 'EOS'], ['SOS', 'AH0', 'K', 'AH1', 'F', 'EOS'], ['SOS', 'AH0', 'K', 'Y', 'UW1', 'AH0', 'T', 'IY0', 'EOS'], ['SOS', 'AH0', 'K', 'Y', 'UW1', 'M', 'AH0', 'N', 'EOS'], ['SOS', 'AA0', 'K', 'UW1', 'N', 'AH0', 'EOS'], ['SOS', 'AE1', 'K', 'Y', 'UW0', 'P', 'AH2', 'NG', 'K', 'CH', 'ER0', 'EOS'], ['SOS', 'AE1', 'K', 'Y', 'ER0', 'AH0', 'EOS'], ['SOS', 'AE1', 'K', 'Y', 'ER0', 'AH0', 'Z', 'EOS'], ['SOS', 'AE1', 'K', 'Y', 'ER0', 'AH0', 'Z', 'EOS'], ['SOS', 'AE2', 'K', 'Y', 'UW1', 'S', 'AH0', 'N', 'EOS'], ['SOS', 'AE1', 'K', 'Y', 'UW0', 'S', 'T', 'AA2', 'R', 'EOS'], ['SOS', 'AE1', 'K', 'Y', 'UW0', 'S', 'IH0', 'S', 'T', 'EOS'], ['SOS', 'AH0', 'K', 'Y', 'UW1', 'T', 'EOS'], ['SOS', 'AH0', 'K', 'Y', 'UW1', 'T', 'L', 'IY0', 'EOS'], ['SOS', 'AH0', 'K', 'Y', 'UW1', 'T', 'N', 'AH0', 'S', 'EOS'], ['SOS', 'AH0', 'S', 'IH1', 'K', 'L', 'OW0', 'V', 'IH2', 'R', 'EOS'], ['SOS', 'AE1', 'D', 'EOS'], ['SOS', 'AE1', 'D', 'Z', 'EOS'], ['SOS', 'AE1', 'D', 'HH', 'AA1', 'K', 'EOS'], ['SOS', 'AE1', 'D', 'L', 'IH1', 'B', 'EOS'], ['SOS', 'AE1', 'D', 'N', 'AO1', 'Z', 'IY0', 'AA0', 'M', 'EOS'], ['SOS', 'AE1', 'D', 'N', 'AO1', 'Z', 'IY0', 'AH0', 'M', 'EOS'], ['SOS', 'EY1', 'D', 'AH0', 'EOS'], ['SOS', 'EY1', 'D', 'AH0', 'Z', 'EOS'], ['SOS', 'AE1', 'D', 'AH0', 'B', 'EH0', 'L', 'EOS'], ['SOS', 'AE1', 'D', 'AH0', 'B', 'AH0', 'L', 'EOS'], ['SOS', 'AA0', 'D', 'AA1', 'K', 'IY0', 'EOS'], ['SOS', 'AE1', 'D', 'AH0', 'JH', 'EOS'], ['SOS', 'AE1', 'D', 'IH0', 'JH', 'EOS'], ['SOS', 'AH0', 'D', 'AA1', 'ZH', 'IY0', 'OW2', 'EOS'], ['SOS', 'AE1', 'D', 'AA0', 'EOS'], ['SOS', 'AH0', 'D', 'EH1', 'R', 'EOS'], ['SOS', 'AA0', 'D', 'EH1', 'R', 'EOS'], ['SOS', 'AH0', 'D', 'AE1', 'K', 'EOS'], ['SOS', 'AA0', 'D', 'AA1', 'L', 'AH0', 'EOS'], ['SOS', 'AA0', 'D', 'AA1', 'L', 'IY0', 'AH0', 'EOS'], ['SOS', 'AE1', 'D', 'AH0', 'M', 'EOS'], ['SOS', 'AE1', 'D', 'AH0', 'M', 'Z', 'EOS'], ['SOS', 'AE1', 'D', 'AH0', 'M', 'AH0', 'N', 'T', 'EOS'], ['SOS', 'AE1', 'D', 'AH0', 'M', 'AH0', 'N', 'T', 'L', 'IY0', 'EOS'], ['SOS', 'AA1', 'D', 'AH0', 'M', 'CH', 'IH0', 'K', 'EOS'], ['SOS', 'AA1', 'D', 'AH0', 'M', 'CH', 'AE0', 'K', 'EOS'], ['SOS', 'AA1', 'D', 'AH0', 'M', 'CH', 'IH0', 'K', 'EOS'], ['SOS', 'AA0', 'D', 'AA1', 'M', 'IY0', 'EOS'], ['SOS', 'AH0', 'D', 'AA1', 'M', 'IH0', 'K', 'EOS'], ['SOS', 'AH0', 'D', 'AA1', 'M', 'EH0', 'K', 'EOS'], ['SOS', 'AH0', 'D', 'EY1', 'M', 'Z', 'EOS'], ['SOS', 'AA0', 'D', 'AA1', 'M', 'IY0', 'EOS'], ['SOS', 'AH0', 'D', 'AA1', 'M', 'IH0', 'K', 'EOS'], ['SOS', 'AA0', 'D', 'AA0', 'M', 'IY1', 'N', 'AH0', 'EOS'], ['SOS', 'AE1', 'D', 'AH0', 'M', 'K', 'AH0', 'S', 'EOS'], ['SOS', 'AA0', 'D', 'AA1', 'M', 'OW0', 'EOS'], ['SOS', 'AH0', 'D', 'AA1', 'M', 'AH0', 'V', 'IH0', 'CH', 'EOS'], ['SOS', 'AE1', 'D', 'AH0', 'M', 'Z', 'EOS'], ['SOS', 'AE1', 'D', 'AH0', 'M', 'Z', 'EOS'], ['SOS', 'AE1', 'D', 'AH0', 'M', 'Z', 'IH0', 'Z', 'EOS'], ['SOS', 'AH0', 'D', 'AE1', 'M', 'S', 'K', 'IY2', 'EOS'], ['SOS', 'AE1', 'D', 'AH0', 'M', 'S', 'AH0', 'N', 'EOS']]\n"
          ]
        }
      ],
      "source": [
        "f=open(dict_file, \"r\")\n",
        "full_text=f.read()\n",
        "f.close()\n",
        "full_text_split=full_text.split(\"\\n\")\n",
        "word_list=[]\n",
        "phonetics_list=[]\n",
        "for i in range(len(full_text_split)):\n",
        "  full_text_split[i]=full_text_split[i].split(\" \")\n",
        "  full_text_split[i].insert(1, \"SOS\")\n",
        "  full_text_split[i].append(\"EOS\")\n",
        "  word_list.append(list(full_text_split[i][0]))\n",
        "  phonetics_list.append(full_text_split[i][1:])\n",
        "print(full_text_split[:1000])\n",
        "print(phonetics_list[:1000])"
      ]
    },
    {
      "cell_type": "markdown",
      "metadata": {
        "id": "zxoaEG2Lj1N7"
      },
      "source": [
        "###Tokenize phonetics & letters"
      ]
    },
    {
      "cell_type": "code",
      "execution_count": null,
      "metadata": {
        "id": "_O1kGSN3lHP3"
      },
      "outputs": [],
      "source": [
        "letter_tokenizer=Tokenizer()\n",
        "\n",
        "flattened_wordlist=[character for word in word_list for character in word]\n",
        "letter_tokenizer.fit_on_texts(flattened_wordlist)\n",
        "tokenized_words=letter_tokenizer.texts_to_sequences(word_list)\n",
        "tokenized_words=kps.data_utils.pad_sequences(tokenized_words, padding=\"post\", maxlen=32)[:]"
      ]
    },
    {
      "cell_type": "code",
      "execution_count": null,
      "metadata": {
        "id": "T2pPWiCXmVsm"
      },
      "outputs": [],
      "source": [
        "phonetic_tokenizer=Tokenizer()\n",
        "flattened_phoneticlist=[phoneme for word in phonetics_list for phoneme in word]\n",
        "phonetic_tokenizer.fit_on_texts(flattened_phoneticlist)\n",
        "tokenized_phonetics=phonetic_tokenizer.texts_to_sequences(phonetics_list)\n",
        "tokenized_phonetics=kps.data_utils.pad_sequences(tokenized_phonetics, padding=\"post\", maxlen=32)[:]"
      ]
    },
    {
      "cell_type": "code",
      "execution_count": null,
      "metadata": {
        "id": "RJxw4s2Ihny7"
      },
      "outputs": [],
      "source": [
        "start_token=phonetic_tokenizer.texts_to_sequences([['SOS']])[0][0]"
      ]
    },
    {
      "cell_type": "code",
      "execution_count": null,
      "metadata": {
        "colab": {
          "base_uri": "https://localhost:8080/"
        },
        "id": "AnF9dBy0Rbkr",
        "outputId": "fa9cd26d-b6f6-4d05-d8c8-b1e678393303"
      },
      "outputs": [
        {
          "output_type": "stream",
          "name": "stdout",
          "text": [
            "[[1]]\n"
          ]
        }
      ],
      "source": [
        "print(phonetic_tokenizer.texts_to_sequences([['SOS']]))"
      ]
    },
    {
      "cell_type": "code",
      "execution_count": null,
      "metadata": {
        "colab": {
          "base_uri": "https://localhost:8080/"
        },
        "id": "fR4oNpj4glck",
        "outputId": "390c868f-74fe-4190-c485-88b76ab7c9f1"
      },
      "outputs": [
        {
          "output_type": "stream",
          "name": "stdout",
          "text": [
            "[[ 1 16 52 ...  0  0  0]\n",
            " [ 1  9  3 ...  0  0  0]\n",
            " [ 1  9 33 ...  0  0  0]\n",
            " ...\n",
            " [ 1 13 36 ...  0  0  0]\n",
            " [ 1 13 11 ...  0  0  0]\n",
            " [ 1  2  0 ...  0  0  0]]\n"
          ]
        }
      ],
      "source": [
        "print(tokenized_phonetics)"
      ]
    },
    {
      "cell_type": "code",
      "execution_count": null,
      "metadata": {
        "id": "uocDqqysOSgk"
      },
      "outputs": [],
      "source": [
        "phonetic_length=tokenized_phonetics.shape[1]\n",
        "word_length=tokenized_words.shape[1]"
      ]
    },
    {
      "cell_type": "code",
      "execution_count": null,
      "metadata": {
        "id": "a2A0vAT68Xei"
      },
      "outputs": [],
      "source": [
        "tokenized_phonetics=tokenized_phonetics.astype('float32')\n",
        "tokenized_words=tokenized_words.reshape(tokenized_words.shape[0], tokenized_words.shape[1]).astype('float32')\n"
      ]
    },
    {
      "cell_type": "code",
      "execution_count": null,
      "metadata": {
        "colab": {
          "base_uri": "https://localhost:8080/"
        },
        "id": "w7PxBQ5_QeD2",
        "outputId": "3a2257be-5b3d-4f08-c941-09a4f2f3a21a"
      },
      "outputs": [
        {
          "output_type": "stream",
          "name": "stdout",
          "text": [
            "(135156, 32)\n"
          ]
        }
      ],
      "source": [
        "print(tokenized_phonetics.shape)"
      ]
    },
    {
      "cell_type": "code",
      "execution_count": null,
      "metadata": {
        "id": "DCLHvxOx9RVb"
      },
      "outputs": [],
      "source": [
        "indices=np.random.shuffle(np.array(range(tokenized_words.shape[0])))\n",
        "tokenized_phonetics=tokenized_phonetics[indices]\n",
        "tokenized_words=tokenized_words[indices]"
      ]
    },
    {
      "cell_type": "code",
      "execution_count": null,
      "metadata": {
        "id": "_8LSazlygx3D"
      },
      "outputs": [],
      "source": [
        "tokenized_words=tokenized_words[0]\n",
        "tokenized_phonetics=tokenized_phonetics[0]"
      ]
    },
    {
      "cell_type": "code",
      "execution_count": null,
      "metadata": {
        "id": "iIVBlyES92B8"
      },
      "outputs": [],
      "source": [
        "split_index=int(tokenized_words.shape[0]*0.8)\n",
        "\n",
        "words_train, words_test=(tokenized_words[:split_index], tokenized_words[split_index:])\n",
        "phonetics_train, phonetics_test=(tokenized_phonetics[:split_index], tokenized_phonetics[split_index:])\n"
      ]
    },
    {
      "cell_type": "code",
      "execution_count": null,
      "metadata": {
        "colab": {
          "base_uri": "https://localhost:8080/"
        },
        "id": "dcftUXkVfal8",
        "outputId": "826eff99-142f-40d2-9d4a-be3c37bab58f"
      },
      "outputs": [
        {
          "output_type": "stream",
          "name": "stdout",
          "text": [
            "(108124, 32)\n"
          ]
        }
      ],
      "source": [
        "print(words_train.shape)"
      ]
    },
    {
      "cell_type": "code",
      "execution_count": null,
      "metadata": {
        "id": "DmrtIV6k8dsg"
      },
      "outputs": [],
      "source": [
        "words_train_tensor, words_test_tensor=(Tensor(words_train), Tensor(words_test))\n",
        "phonetics_train_tensor, phonetics_test_tensor=(Tensor(phonetics_train), Tensor(phonetics_test))"
      ]
    },
    {
      "cell_type": "code",
      "execution_count": null,
      "metadata": {
        "colab": {
          "base_uri": "https://localhost:8080/"
        },
        "id": "RAb-vA_yGSBI",
        "outputId": "60ec2c95-1d55-46ed-b04e-b6d98b9f9890"
      },
      "outputs": [
        {
          "output_type": "stream",
          "name": "stdout",
          "text": [
            "tensor([[ 1., 16., 52.,  7.,  2.,  0.,  0.,  0.,  0.,  0.,  0.,  0.,  0.,  0.,\n",
            "          0.,  0.,  0.,  0.,  0.,  0.,  0.,  0.,  0.,  0.,  0.,  0.,  0.,  0.,\n",
            "          0.,  0.,  0.,  0.],\n",
            "        [ 1.,  9.,  3., 13.,  2.,  0.,  0.,  0.,  0.,  0.,  0.,  0.,  0.,  0.,\n",
            "          0.,  0.,  0.,  0.,  0.,  0.,  0.,  0.,  0.,  0.,  0.,  0.,  0.,  0.,\n",
            "          0.,  0.,  0.,  0.],\n",
            "        [ 1.,  9., 33.,  8.,  5.,  2.,  0.,  0.,  0.,  0.,  0.,  0.,  0.,  0.,\n",
            "          0.,  0.,  0.,  0.,  0.,  0.,  0.,  0.,  0.,  0.,  0.,  0.,  0.,  0.,\n",
            "          0.,  0.,  0.,  0.],\n",
            "        [ 1.,  9., 38., 36., 13.,  2.,  0.,  0.,  0.,  0.,  0.,  0.,  0.,  0.,\n",
            "          0.,  0.,  0.,  0.,  0.,  0.,  0.,  0.,  0.,  0.,  0.,  0.,  0.,  0.,\n",
            "          0.,  0.,  0.,  0.],\n",
            "        [ 1.,  3., 12.,  2.,  0.,  0.,  0.,  0.,  0.,  0.,  0.,  0.,  0.,  0.,\n",
            "          0.,  0.,  0.,  0.,  0.,  0.,  0.,  0.,  0.,  0.,  0.,  0.,  0.,  0.,\n",
            "          0.,  0.,  0.,  0.],\n",
            "        [ 1., 22.,  8., 21.,  5.,  9., 32.,  2.,  0.,  0.,  0.,  0.,  0.,  0.,\n",
            "          0.,  0.,  0.,  0.,  0.,  0.,  0.,  0.,  0.,  0.,  0.,  0.,  0.,  0.,\n",
            "          0.,  0.,  0.,  0.]])\n"
          ]
        }
      ],
      "source": [
        "print(phonetics_train_tensor[:6])"
      ]
    },
    {
      "cell_type": "code",
      "execution_count": null,
      "metadata": {
        "id": "Vcd3meU1y4Ev"
      },
      "outputs": [],
      "source": []
    },
    {
      "cell_type": "code",
      "execution_count": null,
      "metadata": {
        "colab": {
          "base_uri": "https://localhost:8080/"
        },
        "id": "I0IrErEM9Quq",
        "outputId": "a3115daa-ae68-4f1f-f4e0-a3770d9409da"
      },
      "outputs": [
        {
          "output_type": "stream",
          "name": "stdout",
          "text": [
            "tensor([[24., 17.,  7.,  ...,  0.,  0.,  0.],\n",
            "        [24., 10.,  2.,  ...,  0.,  0.,  0.],\n",
            "        [24., 10.,  7.,  ...,  0.,  0.,  0.],\n",
            "        ...,\n",
            "        [ 5.,  1.,  2.,  ...,  0.,  0.,  0.],\n",
            "        [ 5.,  1.,  2.,  ...,  0.,  0.,  0.],\n",
            "        [ 5.,  1.,  2.,  ...,  0.,  0.,  0.]])\n"
          ]
        }
      ],
      "source": [
        "print(words_train_tensor)"
      ]
    },
    {
      "cell_type": "code",
      "execution_count": null,
      "metadata": {
        "id": "qU0dSWHP9GxX"
      },
      "outputs": [],
      "source": [
        "etp_train_dataset=TensorDataset(words_train_tensor.long(), phonetics_train_tensor.long())\n",
        "etp_train_dataloader=DataLoader(etp_train_dataset, batch_size=1)\n",
        "etp_test_dataset=TensorDataset(words_test_tensor.long(), phonetics_test_tensor.long())\n",
        "etp_test_dataloader=DataLoader(etp_test_dataset, batch_size=1)"
      ]
    },
    {
      "cell_type": "markdown",
      "metadata": {
        "id": "TrPEqweMNa7Y"
      },
      "source": [
        "## Model Definition and Training"
      ]
    },
    {
      "cell_type": "code",
      "source": [
        "class ETPEncoder(nn.Module):\n",
        "  def __init__(self, num_word_chars, embedding_size, hidden_state_size, num_encoder_layers):\n",
        "    super().__init__()\n",
        "    #Defining Encoder Model: \n",
        "    #Input: Sequence of tokens representing letters of a given word\n",
        "    #Output: Cell states for each letter and the final hidden state\n",
        "    self.encoder=nn.Sequential(\n",
        "        #Embedding layer: Tokens -> Vectors\n",
        "        nn.Embedding(num_word_chars, embedding_size),\n",
        "        #LSTM layer(s): Vectorized Tokens -> Hidden and Output states\n",
        "        nn.LSTM(input_size=embedding_size, hidden_size=hidden_state_size, num_layers=num_encoder_layers)\n",
        "    );\n",
        "  def forward(self, x):\n",
        "    #Returns: LSTM output & Final Hidden State\n",
        "    return self.encoder(x)"
      ],
      "metadata": {
        "id": "DX4l3w_xd5Qq"
      },
      "execution_count": null,
      "outputs": []
    },
    {
      "cell_type": "code",
      "source": [
        "class ETPDecoder(nn.Module):\n",
        "  def __init__(self, num_phonetic_chars, embedding_size, hidden_state_size, num_decoder_layers, desired_output_length=32):\n",
        "    super().__init__()\n",
        "    #Embedding: Tokens representing phonemes -> Vectors, Output Size=embedding_size\n",
        "    self.decoder_embedding=nn.Embedding(num_phonetic_chars, embedding_size)\n",
        "    #LSTM: Sequence of Embedding Vectors -> Output Value, Output Size=hidden_state_size\n",
        "    self.decoder_lstm=nn.LSTM(input_size=embedding_size, hidden_size=hidden_state_size, num_layers=num_decoder_layers)\n",
        "    #Feedforward: LSTM Output -> Weight for each phoneme for a given character, Output Size=num_phonetic_chars\n",
        "    self.decoder_feedforward= nn.Linear(hidden_state_size, num_phonetic_chars)\n",
        "    #Log Softmax: Feedforward output -> Softmax (Percent of each) -> Natural Logarithm\n",
        "    self.decoder_activation=   nn.LogSoftmax(dim=1)\n",
        "    self.desired_output_length=desired_output_length\n",
        "  def forward(self, x, lstm_hidden):\n",
        "    lstm_result=self.decoder_lstm(self.decoder_embedding(x), lstm_hidden)\n",
        "    #Returns: Result of decoder given input & final hidden state\n",
        "    return (self.decoder_activation(self.decoder_feedforward(lstm_result[0])), lstm_result[1])"
      ],
      "metadata": {
        "id": "QwtXRzq0e0pW"
      },
      "execution_count": null,
      "outputs": []
    },
    {
      "cell_type": "code",
      "execution_count": 76,
      "metadata": {
        "id": "gv7aOGZDFDp9"
      },
      "outputs": [],
      "source": [
        "class ETPModel(nn.Module):\n",
        "  def __init__(self, num_word_chars, num_phonetic_chars, embedding_size, hidden_state_size, num_encoder_layers, num_decoder_layers, desired_output_length=32):\n",
        "    super().__init__()\n",
        "    #Defines Encoder Model\n",
        "    self.encoder_model=ETPEncoder(num_word_chars, embedding_size, hidden_state_size, num_encoder_layers)\n",
        "    #Defines Decoder Model\n",
        "    self.decoder_model=ETPDecoder(num_phonetic_chars, embedding_size, hidden_state_size, num_decoder_layers, desired_output_length)\n",
        "    #Defines Maximum Output Length\n",
        "    self.desired_output_length=desired_output_length\n",
        "    #self.decoder=nn.Sequential()\n",
        "  def forward(self, x):\n",
        "    #Encodes word\n",
        "    encoder_result= self.encoder_model(x);\n",
        "    #Creates the initial list of zeroes for the output sequence\n",
        "    y0=np.zeros(self.desired_output_length)\n",
        "    #Sets the first item of the output sequence to the start token (SOS)\n",
        "    y0[0]=start_token\n",
        "    #print(y0)\n",
        "    #Initializes Empty list     \n",
        "    rv=[]\n",
        "    #Dummy variable for reporting last set of token probabilities in the case of an error\n",
        "    pob=None\n",
        "    #Defines the initial \"y\" values based on the encoder model\n",
        "    y=(torch.tensor([y0]).long(), encoder_result[1]);\n",
        "    for i in range(self.desired_output_length-1):\n",
        "      #Gets the decoder output for the y value\n",
        "      _y=self.decoder_model(y[0], y[1]);\n",
        "      #Gets the probability of each token as outputted by the decoder model\n",
        "      pprob=_y[0]\n",
        "      #Grabs the current sequence\n",
        "      y0=y[0][0]\n",
        "    # #  print(\"a\")\n",
        "    #  # print(self.decoder_feedforward(_y[0]))\n",
        "    #   _y0=Variable(_y[0].data, requires_grad=True)\n",
        "    #   lin=self.decoder_feedforward(_y0)\n",
        "    #   pprob=self.decoder_activation(lin)\n",
        "      #Defines the token probabilities as that for the most recent token\n",
        "      pprob=pprob[0][i]\n",
        "\n",
        "      #Defines the next token in the sequence as the index of the greatest element of the phonetic probs \n",
        "      y0[i+1]=argmax(pprob)\n",
        "    #print(y0)\n",
        "      #Reshapes by wrapping in it a big mama array\n",
        "      y0=reshape(y0, tuple([1]+list(y0.size())))\n",
        "      rv.append(pprob)\n",
        "   #   print(list(y0.size())) \n",
        "    #  print(reshape(y0, tuple([1]+list(y0.size()))))\n",
        "     # print(\"b\")\n",
        "      #Sets y to the sequence and the last hidden state for the next\n",
        "      y=(y0, _y[1])\n",
        "     # print(\"c\")\n",
        "      pob=pprob\n",
        "    return (y, rv);\n",
        "\n",
        "      \n",
        "  def train_model(self, dataloader, loss_func, encoder_optimizer, decoder_optimizer):\n",
        "    c=0;\n",
        "    #Runs the train functions in normal nn.Module\n",
        "    self.train();\n",
        "    #Loops through every (x, y) pair in every batch in the Dataloader\n",
        "    for batch, (x, y) in enumerate(dataloader):\n",
        "      #Gets the sequence prediction for x \n",
        "      prediction=self(x)\n",
        "      if(c%997==0):\n",
        "        print(x)\n",
        "        print(prediction[1])\n",
        "        print(y)\n",
        "      prediction=prediction[1][0]\n",
        "      # print(\"c\")\n",
        "      # print(x)\n",
        "      # print(y)\n",
        "      # print(prediction.float())\n",
        "      prediction=prediction.float()\n",
        "      prediction=Variable(prediction.data, requires_grad=True)\n",
        "      #Gets the loss between the prediction and y\n",
        "      loss=loss_func(prediction[0], y.float()[0])\n",
        "     # print(\"d\")\n",
        "      #Zeroes the gradients of the optimizer\n",
        "      encoder_optimizer.zero_grad()\n",
        "      decoder_optimizer.zero_grad()\n",
        "      #Connects loss to rest of network\n",
        "      loss.backward()\n",
        "      #Find dem gradients\n",
        "      encoder_optimizer.step()\n",
        "      decoder_optimizer.step()\n",
        "      c+=1;\n",
        "\n",
        "\n"
      ]
    },
    {
      "cell_type": "code",
      "execution_count": 77,
      "metadata": {
        "id": "LqCJayj3AeTC"
      },
      "outputs": [],
      "source": [
        "etpmodel=ETPModel(len(letter_tokenizer.word_index)+1, len(phonetic_tokenizer.word_index)+1, 32, 8, 1, 1).to(device)\n",
        "#summary(etpmodel, (108124, 28), dtypes=[torch.long])"
      ]
    },
    {
      "cell_type": "code",
      "source": [
        "print(phonetic_tokenizer.word_index)"
      ],
      "metadata": {
        "colab": {
          "base_uri": "https://localhost:8080/"
        },
        "id": "SQCmbhHldCpB",
        "outputId": "45291421-ddfe-494c-81ee-d43d1d24e5c4"
      },
      "execution_count": null,
      "outputs": [
        {
          "output_type": "stream",
          "name": "stdout",
          "text": [
            "{'sos': 1, 'eos': 2, 'ah0': 3, 'n': 4, 's': 5, 'l': 6, 't': 7, 'r': 8, 'k': 9, 'd': 10, 'ih0': 11, 'm': 12, 'z': 13, 'er0': 14, 'iy0': 15, 'b': 16, 'eh1': 17, 'p': 18, 'aa1': 19, 'ae1': 20, 'ih1': 21, 'f': 22, 'g': 23, 'v': 24, 'iy1': 25, 'ng': 26, 'hh': 27, 'ey1': 28, 'w': 29, 'sh': 30, 'ow1': 31, 'ow0': 32, 'ao1': 33, 'ay1': 34, 'ah1': 35, 'uw1': 36, 'jh': 37, 'y': 38, 'aa0': 39, 'ch': 40, 'er1': 41, 'ih2': 42, 'eh2': 43, 'ey2': 44, 'ae2': 45, 'ay2': 46, 'aa2': 47, 'th': 48, 'eh0': 49, 'iy2': 50, 'ow2': 51, 'aw1': 52, 'uw0': 53, 'ao2': 54, 'ae0': 55, 'uh1': 56, 'ao0': 57, 'ay0': 58, 'uw2': 59, 'ah2': 60, 'ey0': 61, 'oy1': 62, 'aw2': 63, 'er2': 64, 'dh': 65, 'zh': 66, 'uh2': 67, 'aw0': 68, 'uh0': 69, 'oy2': 70, 'oy0': 71, 'irish': 72, 'place': 73, 'name': 74, 'foreign': 75, 'french': 76, 'org': 77, 'dutch': 78, 'abbrev': 79, 'danish': 80, 'german': 81, 'finnish': 82, 'old': 83, 'title': 84}\n"
          ]
        }
      ]
    },
    {
      "cell_type": "code",
      "source": [],
      "metadata": {
        "id": "wvjHXm7w-0oJ"
      },
      "execution_count": null,
      "outputs": []
    },
    {
      "cell_type": "code",
      "execution_count": 78,
      "metadata": {
        "colab": {
          "base_uri": "https://localhost:8080/",
          "height": 1000
        },
        "id": "Irpr2KQOVF0k",
        "outputId": "ce55d001-fd35-497d-9991-6872a99ede9b"
      },
      "outputs": [
        {
          "output_type": "stream",
          "name": "stdout",
          "text": [
            "tensor([[24, 17,  7, 13,  8,  0,  0,  0,  0,  0,  0,  0,  0,  0,  0,  0,  0,  0,\n",
            "          0,  0,  0,  0,  0,  0,  0,  0,  0,  0,  0,  0,  0,  0]])\n",
            "[tensor([-3.3089, -3.5110, -3.3575, -3.3494, -3.7236, -3.5284, -3.4594, -3.6572,\n",
            "        -3.6540, -3.6239, -3.5278, -3.5449, -3.5387, -3.1702, -3.8113, -3.5920,\n",
            "        -3.5515, -3.2771, -3.5053, -3.1429, -3.5682, -3.4974, -3.2894, -3.4059,\n",
            "        -3.4667, -3.3935, -3.6003, -3.2293, -3.4714, -3.2142, -3.8569, -3.3112,\n",
            "        -3.6542, -3.4347, -3.6175, -3.0987, -3.4800, -3.5788, -3.4758, -3.3821,\n",
            "        -3.4088, -3.3220, -3.4233, -3.3916, -3.4564, -3.8460, -3.5064, -3.5276,\n",
            "        -3.4680, -3.5163, -3.2747, -3.5556, -3.2794, -3.5634, -3.2123, -3.3417,\n",
            "        -3.2674, -3.5565, -3.4726, -3.3813, -3.4477, -3.5359, -3.4294, -3.5250,\n",
            "        -3.6248, -3.3326, -3.7012, -3.5700, -3.4019, -3.4109, -3.6433, -3.5471,\n",
            "        -3.3325, -3.6211, -3.5982, -3.4930, -3.5061, -3.3384, -3.3658, -3.4414,\n",
            "        -3.5551, -3.1571, -3.3961, -3.3008, -3.5122],\n",
            "       grad_fn=<SelectBackward0>), tensor([-3.4318, -3.6337, -3.4029, -3.3832, -3.4402, -3.4488, -3.5476, -3.5999,\n",
            "        -3.4424, -3.4837, -3.5851, -3.3299, -3.4056, -3.3097, -3.5306, -3.4216,\n",
            "        -3.3903, -3.5299, -3.5847, -3.4144, -3.5275, -3.3684, -3.4743, -3.4540,\n",
            "        -3.3560, -3.5523, -3.5621, -3.4654, -3.6076, -3.3766, -3.6371, -3.4950,\n",
            "        -3.5090, -3.3811, -3.5668, -3.4931, -3.4546, -3.4919, -3.4149, -3.5224,\n",
            "        -3.3917, -3.3837, -3.4353, -3.4202, -3.5737, -3.6358, -3.4388, -3.4740,\n",
            "        -3.3098, -3.3781, -3.4536, -3.4304, -3.3825, -3.5298, -3.3176, -3.2295,\n",
            "        -3.4825, -3.6187, -3.4788, -3.4061, -3.5054, -3.5826, -3.4735, -3.5470,\n",
            "        -3.5359, -3.3938, -3.5093, -3.4554, -3.3840, -3.4468, -3.4989, -3.6410,\n",
            "        -3.4007, -3.3933, -3.4773, -3.4766, -3.4583, -3.4634, -3.4258, -3.3934,\n",
            "        -3.4926, -3.4863, -3.3411, -3.4599, -3.4622],\n",
            "       grad_fn=<SelectBackward0>), tensor([-3.5051, -3.6379, -3.3799, -3.4903, -3.5450, -3.4250, -3.4991, -3.6910,\n",
            "        -3.5658, -3.5326, -3.5963, -3.5080, -3.3777, -3.2807, -3.5124, -3.3639,\n",
            "        -3.4983, -3.4703, -3.5485, -3.4006, -3.5133, -3.3261, -3.3912, -3.3574,\n",
            "        -3.4626, -3.5484, -3.4975, -3.3624, -3.4522, -3.3621, -3.6831, -3.3771,\n",
            "        -3.5626, -3.2227, -3.6514, -3.4370, -3.5467, -3.6015, -3.5579, -3.4209,\n",
            "        -3.3976, -3.2380, -3.5082, -3.4512, -3.3563, -3.6485, -3.4430, -3.4421,\n",
            "        -3.2910, -3.4641, -3.4332, -3.4913, -3.2938, -3.4285, -3.3223, -3.3212,\n",
            "        -3.4746, -3.4689, -3.5474, -3.3459, -3.3840, -3.6076, -3.3818, -3.5929,\n",
            "        -3.6053, -3.3799, -3.5583, -3.6314, -3.4525, -3.4123, -3.4373, -3.5253,\n",
            "        -3.4562, -3.5230, -3.5573, -3.4625, -3.6585, -3.4125, -3.3317, -3.3418,\n",
            "        -3.5934, -3.3155, -3.3866, -3.3277, -3.3871],\n",
            "       grad_fn=<SelectBackward0>), tensor([-3.5035, -3.4364, -3.3756, -3.4247, -3.4450, -3.5414, -3.5918, -3.4469,\n",
            "        -3.4547, -3.5279, -3.4539, -3.4192, -3.3750, -3.4596, -3.5500, -3.6257,\n",
            "        -3.4532, -3.5580, -3.4086, -3.4975, -3.5349, -3.4513, -3.4695, -3.4827,\n",
            "        -3.5480, -3.4526, -3.4093, -3.5237, -3.4155, -3.3716, -3.5721, -3.5381,\n",
            "        -3.4312, -3.4825, -3.5554, -3.4356, -3.4812, -3.4257, -3.3726, -3.4072,\n",
            "        -3.4929, -3.4306, -3.4233, -3.6459, -3.6390, -3.5628, -3.4887, -3.4761,\n",
            "        -3.5322, -3.4005, -3.4855, -3.4260, -3.4426, -3.5312, -3.4434, -3.4794,\n",
            "        -3.4206, -3.4316, -3.4036, -3.4418, -3.4274, -3.4236, -3.3825, -3.3982,\n",
            "        -3.5660, -3.5714, -3.5095, -3.4218, -3.3488, -3.5857, -3.4279, -3.4111,\n",
            "        -3.4650, -3.4887, -3.4244, -3.5013, -3.3509, -3.5842, -3.3177, -3.5183,\n",
            "        -3.4872, -3.5220, -3.5669, -3.4672, -3.6690],\n",
            "       grad_fn=<SelectBackward0>), tensor([-3.6100, -3.5421, -3.5034, -3.5296, -3.3266, -3.3472, -3.5990, -3.3581,\n",
            "        -3.3662, -3.4808, -3.4556, -3.6512, -3.2255, -3.4414, -3.5330, -3.4431,\n",
            "        -3.4713, -3.4778, -3.4368, -3.3811, -3.5890, -3.4063, -3.4165, -3.3298,\n",
            "        -3.4948, -3.5019, -3.4747, -3.3575, -3.2817, -3.2974, -3.5306, -3.6828,\n",
            "        -3.5872, -3.5408, -3.4336, -3.4974, -3.5912, -3.3186, -3.4016, -3.3853,\n",
            "        -3.6795, -3.2887, -3.5984, -3.5256, -3.5539, -3.4126, -3.3470, -3.5353,\n",
            "        -3.4626, -3.4609, -3.5775, -3.5916, -3.3223, -3.3764, -3.4357, -3.5288,\n",
            "        -3.4184, -3.3967, -3.4093, -3.4806, -3.3936, -3.2020, -3.2895, -3.4858,\n",
            "        -3.6203, -3.4464, -3.5900, -3.5012, -3.2647, -3.4092, -3.4799, -3.3762,\n",
            "        -3.5371, -3.6765, -3.3617, -3.3984, -3.5998, -3.5836, -3.3482, -3.5451,\n",
            "        -3.3236, -3.3988, -3.5694, -3.3695, -3.5343],\n",
            "       grad_fn=<SelectBackward0>), tensor([-3.4710, -3.5065, -3.4634, -3.4061, -3.5544, -3.3202, -3.4302, -3.4684,\n",
            "        -3.5816, -3.4365, -3.3970, -3.6102, -3.3496, -3.3986, -3.6697, -3.5083,\n",
            "        -3.5716, -3.3932, -3.3577, -3.3566, -3.4410, -3.4877, -3.3763, -3.4742,\n",
            "        -3.4477, -3.4766, -3.4602, -3.2799, -3.3937, -3.3049, -3.5942, -3.4571,\n",
            "        -3.6297, -3.6499, -3.4387, -3.2778, -3.5548, -3.3570, -3.5146, -3.3299,\n",
            "        -3.5314, -3.4217, -3.5635, -3.4880, -3.5550, -3.5433, -3.3769, -3.6318,\n",
            "        -3.5749, -3.4766, -3.5452, -3.5582, -3.3903, -3.5359, -3.5028, -3.4965,\n",
            "        -3.4146, -3.4938, -3.5074, -3.4472, -3.4481, -3.2691, -3.3324, -3.5029,\n",
            "        -3.5249, -3.3700, -3.6144, -3.5314, -3.3182, -3.4162, -3.6282, -3.4206,\n",
            "        -3.4385, -3.6801, -3.4365, -3.4607, -3.4444, -3.5368, -3.4671, -3.5015,\n",
            "        -3.3344, -3.2371, -3.5831, -3.4144, -3.5401],\n",
            "       grad_fn=<SelectBackward0>), tensor([-3.4101, -3.4226, -3.6436, -3.5618, -3.5731, -3.4106, -3.2666, -3.4757,\n",
            "        -3.5288, -3.4065, -3.4043, -3.6520, -3.6436, -3.5204, -3.3826, -3.3340,\n",
            "        -3.4841, -3.2493, -3.5434, -3.3459, -3.4490, -3.5806, -3.4449, -3.4079,\n",
            "        -3.4765, -3.3446, -3.5490, -3.3914, -3.4413, -3.5799, -3.2734, -3.3407,\n",
            "        -3.4928, -3.4384, -3.3453, -3.4160, -3.4778, -3.5408, -3.6136, -3.4993,\n",
            "        -3.4786, -3.4644, -3.5720, -3.2605, -3.1609, -3.2769, -3.4581, -3.4717,\n",
            "        -3.4830, -3.6210, -3.3964, -3.5523, -3.4998, -3.2898, -3.4934, -3.5894,\n",
            "        -3.3896, -3.4199, -3.5092, -3.5281, -3.4835, -3.4617, -3.5812, -3.4709,\n",
            "        -3.3668, -3.3257, -3.4644, -3.5963, -3.6588, -3.2725, -3.5480, -3.4569,\n",
            "        -3.5373, -3.4917, -3.5127, -3.3719, -3.6723, -3.2418, -3.6481, -3.4594,\n",
            "        -3.4618, -3.3172, -3.4117, -3.3915, -3.1536],\n",
            "       grad_fn=<SelectBackward0>), tensor([-3.3791, -3.4646, -3.4028, -3.3895, -3.5859, -3.5646, -3.4432, -3.6796,\n",
            "        -3.5517, -3.4588, -3.5279, -3.2856, -3.5932, -3.4051, -3.4622, -3.5147,\n",
            "        -3.3992, -3.4871, -3.5589, -3.5014, -3.4485, -3.5001, -3.4831, -3.5672,\n",
            "        -3.4469, -3.4075, -3.4712, -3.5802, -3.6217, -3.5285, -3.5148, -3.2813,\n",
            "        -3.3967, -3.3056, -3.6284, -3.4300, -3.4238, -3.5859, -3.5187, -3.5265,\n",
            "        -3.2808, -3.5016, -3.3727, -3.4575, -3.4485, -3.5850, -3.5740, -3.4290,\n",
            "        -3.4108, -3.4060, -3.3970, -3.3374, -3.5333, -3.5031, -3.3890, -3.3479,\n",
            "        -3.4214, -3.5519, -3.4655, -3.4275, -3.4595, -3.7236, -3.5774, -3.4546,\n",
            "        -3.4802, -3.4592, -3.4251, -3.5252, -3.5740, -3.5041, -3.4605, -3.5505,\n",
            "        -3.4298, -3.3010, -3.5092, -3.4899, -3.3952, -3.3581, -3.4755, -3.4189,\n",
            "        -3.6348, -3.5055, -3.3863, -3.5168, -3.4176],\n",
            "       grad_fn=<SelectBackward0>), tensor([-3.4747, -3.4398, -3.4470, -3.5363, -3.5757, -3.5190, -3.3961, -3.4056,\n",
            "        -3.5917, -3.5612, -3.3859, -3.6124, -3.5034, -3.5271, -3.4756, -3.5074,\n",
            "        -3.5867, -3.4416, -3.3739, -3.4707, -3.4686, -3.4276, -3.4807, -3.3859,\n",
            "        -3.6311, -3.4822, -3.4360, -3.4241, -3.3626, -3.4632, -3.4725, -3.4584,\n",
            "        -3.4158, -3.4533, -3.4355, -3.3967, -3.4601, -3.5836, -3.4996, -3.3589,\n",
            "        -3.4736, -3.4121, -3.5066, -3.5803, -3.3716, -3.4877, -3.4437, -3.4478,\n",
            "        -3.5713, -3.5876, -3.3984, -3.5125, -3.4150, -3.4889, -3.5455, -3.5897,\n",
            "        -3.5064, -3.3156, -3.5736, -3.4119, -3.4926, -3.4450, -3.4089, -3.4329,\n",
            "        -3.4021, -3.5204, -3.5036, -3.4634, -3.5132, -3.5071, -3.4292, -3.4139,\n",
            "        -3.4948, -3.5339, -3.5828, -3.5115, -3.5016, -3.5029, -3.4049, -3.3965,\n",
            "        -3.5158, -3.3813, -3.5475, -3.3454, -3.5001],\n",
            "       grad_fn=<SelectBackward0>), tensor([-3.4839, -3.7755, -3.6385, -3.4318, -3.4016, -3.1914, -3.4118, -3.5843,\n",
            "        -3.4482, -3.2751, -3.4726, -3.4677, -3.3181, -3.4120, -3.4151, -3.2294,\n",
            "        -3.3094, -3.4740, -3.6785, -3.3790, -3.5454, -3.3928, -3.5722, -3.4272,\n",
            "        -3.3100, -3.5320, -3.6470, -3.4652, -3.6505, -3.4174, -3.3592, -3.5547,\n",
            "        -3.5200, -3.4501, -3.4032, -3.5733, -3.5476, -3.3918, -3.5299, -3.5280,\n",
            "        -3.4483, -3.3019, -3.6938, -3.3247, -3.5067, -3.3254, -3.2579, -3.6351,\n",
            "        -3.3182, -3.4091, -3.6190, -3.4745, -3.4034, -3.3704, -3.4384, -3.2705,\n",
            "        -3.4701, -3.6556, -3.5613, -3.4571, -3.5777, -3.4101, -3.4863, -3.5527,\n",
            "        -3.4451, -3.1917, -3.5296, -3.5654, -3.3685, -3.2209, -3.6442, -3.7076,\n",
            "        -3.5531, -3.3932, -3.3617, -3.3355, -3.5860, -3.4149, -3.6257, -3.3809,\n",
            "        -3.3130, -3.3776, -3.3901, -3.4242, -3.1601],\n",
            "       grad_fn=<SelectBackward0>), tensor([-3.3825, -3.4495, -3.4028, -3.3941, -3.5782, -3.5808, -3.4512, -3.6648,\n",
            "        -3.5415, -3.4646, -3.5249, -3.2865, -3.6002, -3.4179, -3.4599, -3.5301,\n",
            "        -3.4017, -3.4903, -3.5506, -3.5103, -3.4474, -3.5078, -3.4826, -3.5719,\n",
            "        -3.4547, -3.4028, -3.4639, -3.5879, -3.6135, -3.5355, -3.5104, -3.2923,\n",
            "        -3.3922, -3.3167, -3.6245, -3.4359, -3.4195, -3.5802, -3.5096, -3.5288,\n",
            "        -3.2922, -3.5173, -3.3651, -3.4663, -3.4563, -3.5813, -3.5850, -3.4224,\n",
            "        -3.4221, -3.4073, -3.3970, -3.3380, -3.5430, -3.5053, -3.3948, -3.3662,\n",
            "        -3.4209, -3.5453, -3.4546, -3.4355, -3.4563, -3.7186, -3.5793, -3.4470,\n",
            "        -3.4799, -3.4803, -3.4181, -3.5143, -3.5774, -3.5195, -3.4522, -3.5382,\n",
            "        -3.4301, -3.3035, -3.5059, -3.4937, -3.3887, -3.3660, -3.4733, -3.4318,\n",
            "        -3.6355, -3.5232, -3.3937, -3.5263, -3.4404],\n",
            "       grad_fn=<SelectBackward0>), tensor([-3.5759, -3.3392, -3.5302, -3.6798, -3.2776, -3.6288, -3.5547, -3.2318,\n",
            "        -3.2579, -3.5765, -3.4724, -3.5753, -3.5340, -3.6431, -3.2443, -3.4344,\n",
            "        -3.4479, -3.4925, -3.4714, -3.5478, -3.5496, -3.4480, -3.5143, -3.3122,\n",
            "        -3.6076, -3.4492, -3.4358, -3.5705, -3.2840, -3.6100, -3.2916, -3.6618,\n",
            "        -3.3442, -3.3823, -3.3690, -3.7030, -3.4226, -3.5178, -3.3625, -3.5384,\n",
            "        -3.6338, -3.4708, -3.4368, -3.4958, -3.3161, -3.2641, -3.5210, -3.2621,\n",
            "        -3.4444, -3.5722, -3.3935, -3.5239, -3.4836, -3.2936, -3.4888, -3.6737,\n",
            "        -3.5146, -3.2431, -3.3770, -3.5434, -3.4312, -3.4382, -3.5041, -3.3972,\n",
            "        -3.4367, -3.6605, -3.3544, -3.3695, -3.5897, -3.5203, -3.2333, -3.3329,\n",
            "        -3.5656, -3.4525, -3.4835, -3.4447, -3.6374, -3.4740, -3.3948, -3.5186,\n",
            "        -3.5160, -3.7033, -3.4539, -3.4326, -3.4753],\n",
            "       grad_fn=<SelectBackward0>), tensor([-3.3680, -3.6594, -3.5761, -3.3523, -3.5063, -3.3425, -3.4320, -3.6275,\n",
            "        -3.4811, -3.3564, -3.4874, -3.4075, -3.4609, -3.3379, -3.5579, -3.3987,\n",
            "        -3.3128, -3.3942, -3.6791, -3.2794, -3.5745, -3.5021, -3.5032, -3.4867,\n",
            "        -3.3219, -3.4180, -3.6739, -3.4556, -3.6802, -3.3766, -3.4873, -3.4675,\n",
            "        -3.5360, -3.4781, -3.4720, -3.4105, -3.4885, -3.4251, -3.4768, -3.5448,\n",
            "        -3.4114, -3.3785, -3.5670, -3.3054, -3.5498, -3.4870, -3.3802, -3.6145,\n",
            "        -3.3809, -3.4080, -3.4903, -3.4585, -3.4291, -3.4433, -3.3298, -3.2672,\n",
            "        -3.3392, -3.7042, -3.4719, -3.4751, -3.5677, -3.4859, -3.5526, -3.5034,\n",
            "        -3.4943, -3.2300, -3.5665, -3.5387, -3.3962, -3.2800, -3.6938, -3.7038,\n",
            "        -3.4686, -3.3884, -3.3970, -3.3710, -3.4886, -3.3422, -3.6024, -3.4487,\n",
            "        -3.3891, -3.3672, -3.3615, -3.4471, -3.2650],\n",
            "       grad_fn=<SelectBackward0>), tensor([-3.4042, -3.5109, -3.5098, -3.4696, -3.5803, -3.5690, -3.4105, -3.5385,\n",
            "        -3.5595, -3.4978, -3.4026, -3.4414, -3.5674, -3.5139, -3.4191, -3.5287,\n",
            "        -3.3809, -3.4684, -3.5814, -3.4414, -3.5884, -3.4741, -3.5940, -3.4399,\n",
            "        -3.6094, -3.3805, -3.5502, -3.6130, -3.5627, -3.4960, -3.3806, -3.4449,\n",
            "        -3.2950, -3.3297, -3.5054, -3.4477, -3.4256, -3.6212, -3.4668, -3.4743,\n",
            "        -3.3688, -3.3750, -3.5094, -3.5522, -3.4265, -3.4486, -3.4668, -3.4660,\n",
            "        -3.5092, -3.5093, -3.3771, -3.3920, -3.4725, -3.4367, -3.4447, -3.4649,\n",
            "        -3.3964, -3.4444, -3.5261, -3.4261, -3.5615, -3.5890, -3.5481, -3.3633,\n",
            "        -3.4048, -3.4582, -3.4812, -3.4811, -3.5430, -3.4569, -3.4817, -3.5823,\n",
            "        -3.5457, -3.3049, -3.5216, -3.4502, -3.4523, -3.3887, -3.4625, -3.3910,\n",
            "        -3.5788, -3.4757, -3.4716, -3.3757, -3.3567],\n",
            "       grad_fn=<SelectBackward0>), tensor([-3.4279, -3.3334, -3.4021, -3.5013, -3.6827, -3.5578, -3.2779, -3.5334,\n",
            "        -3.6947, -3.4738, -3.3950, -3.4622, -3.6537, -3.5956, -3.3900, -3.5123,\n",
            "        -3.6280, -3.4657, -3.3185, -3.6605, -3.2523, -3.5002, -3.4791, -3.5802,\n",
            "        -3.5813, -3.4662, -3.3079, -3.5111, -3.4692, -3.6609, -3.3914, -3.2143,\n",
            "        -3.3584, -3.4163, -3.4957, -3.4075, -3.4133, -3.6395, -3.6412, -3.3969,\n",
            "        -3.3059, -3.6310, -3.4042, -3.5574, -3.2916, -3.4896, -3.5707, -3.4077,\n",
            "        -3.5917, -3.5519, -3.4138, -3.3894, -3.6016, -3.5548, -3.6656, -3.6037,\n",
            "        -3.5892, -3.3550, -3.6117, -3.4158, -3.4571, -3.6429, -3.5123, -3.4439,\n",
            "        -3.3013, -3.5750, -3.3535, -3.5032, -3.6980, -3.5903, -3.3887, -3.3765,\n",
            "        -3.4494, -3.4145, -3.6181, -3.5702, -3.3889, -3.4480, -3.5188, -3.3735,\n",
            "        -3.6254, -3.4423, -3.5299, -3.5080, -3.4852],\n",
            "       grad_fn=<SelectBackward0>), tensor([-3.5315, -3.4711, -3.4591, -3.5716, -3.5229, -3.4720, -3.4347, -3.5326,\n",
            "        -3.5357, -3.5016, -3.4922, -3.5839, -3.4771, -3.4749, -3.4110, -3.4028,\n",
            "        -3.5411, -3.4414, -3.4535, -3.4988, -3.4420, -3.4274, -3.4209, -3.3998,\n",
            "        -3.5393, -3.4818, -3.4169, -3.4216, -3.3686, -3.5094, -3.4790, -3.3985,\n",
            "        -3.4905, -3.3341, -3.5236, -3.4884, -3.5187, -3.5658, -3.5746, -3.4236,\n",
            "        -3.4729, -3.3922, -3.5079, -3.4780, -3.2920, -3.4620, -3.4870, -3.4116,\n",
            "        -3.4287, -3.5351, -3.4502, -3.5044, -3.4254, -3.3855, -3.4825, -3.5432,\n",
            "        -3.4971, -3.3590, -3.5197, -3.4317, -3.3823, -3.5253, -3.4282, -3.5109,\n",
            "        -3.4972, -3.4864, -3.4655, -3.5826, -3.5617, -3.4562, -3.3915, -3.3902,\n",
            "        -3.5110, -3.5349, -3.5353, -3.4611, -3.6372, -3.4273, -3.4161, -3.4210,\n",
            "        -3.5599, -3.4018, -3.4750, -3.3926, -3.4093],\n",
            "       grad_fn=<SelectBackward0>), tensor([-3.4643, -3.6691, -3.5161, -3.3982, -3.5680, -3.2684, -3.4469, -3.7511,\n",
            "        -3.5731, -3.3569, -3.5303, -3.5213, -3.3531, -3.2673, -3.6057, -3.3685,\n",
            "        -3.4099, -3.3764, -3.6135, -3.2922, -3.5248, -3.4721, -3.3783, -3.4651,\n",
            "        -3.3456, -3.4339, -3.5709, -3.3379, -3.5422, -3.3185, -3.6053, -3.3588,\n",
            "        -3.6628, -3.3918, -3.5983, -3.3508, -3.6128, -3.4271, -3.6079, -3.4432,\n",
            "        -3.4331, -3.2775, -3.6157, -3.3418, -3.4614, -3.5494, -3.3915, -3.6304,\n",
            "        -3.3506, -3.4051, -3.5532, -3.5021, -3.3591, -3.3919, -3.3269, -3.3111,\n",
            "        -3.3257, -3.6321, -3.4873, -3.4285, -3.4004, -3.4714, -3.4227, -3.5777,\n",
            "        -3.6358, -3.2169, -3.6240, -3.7192, -3.3802, -3.2734, -3.6643, -3.5663,\n",
            "        -3.4866, -3.5568, -3.4012, -3.3614, -3.6217, -3.3503, -3.5019, -3.4551,\n",
            "        -3.4397, -3.2140, -3.4290, -3.3963, -3.2839],\n",
            "       grad_fn=<SelectBackward0>), tensor([-3.4150, -3.3848, -3.6321, -3.5566, -3.5477, -3.4489, -3.3004, -3.4352,\n",
            "        -3.4990, -3.4192, -3.3991, -3.6358, -3.6526, -3.5482, -3.4017, -3.3859,\n",
            "        -3.4922, -3.2698, -3.5110, -3.3739, -3.4411, -3.5997, -3.4424, -3.4371,\n",
            "        -3.4798, -3.3448, -3.5298, -3.4085, -3.4336, -3.5882, -3.2855, -3.3851,\n",
            "        -3.4924, -3.4988, -3.3344, -3.4290, -3.4618, -3.5077, -3.5767, -3.5057,\n",
            "        -3.5109, -3.5251, -3.5398, -3.2881, -3.2246, -3.2915, -3.4837, -3.4662,\n",
            "        -3.5163, -3.6100, -3.4045, -3.5511, -3.5279, -3.3265, -3.5104, -3.6223,\n",
            "        -3.3972, -3.4266, -3.4763, -3.5500, -3.4834, -3.4402, -3.5819, -3.4551,\n",
            "        -3.3690, -3.3854, -3.4498, -3.5506, -3.6475, -3.3252, -3.5403, -3.4332,\n",
            "        -3.5218, -3.5016, -3.4971, -3.3919, -3.6285, -3.2841, -3.6440, -3.4990,\n",
            "        -3.4482, -3.3762, -3.4319, -3.4332, -3.2443],\n",
            "       grad_fn=<SelectBackward0>), tensor([-3.4622, -3.6564, -3.5074, -3.3967, -3.5593, -3.2906, -3.4567, -3.7353,\n",
            "        -3.5632, -3.3685, -3.5299, -3.5095, -3.3639, -3.2779, -3.6050, -3.3844,\n",
            "        -3.4130, -3.3881, -3.6027, -3.3055, -3.5215, -3.4723, -3.3829, -3.4706,\n",
            "        -3.3497, -3.4388, -3.5645, -3.3486, -3.5417, -3.3261, -3.6086, -3.3716,\n",
            "        -3.6527, -3.4043, -3.5949, -3.3579, -3.6009, -3.4265, -3.5924, -3.4474,\n",
            "        -3.4355, -3.3000, -3.5993, -3.3538, -3.4783, -3.5570, -3.4011, -3.6203,\n",
            "        -3.3591, -3.4045, -3.5478, -3.4977, -3.3680, -3.4083, -3.3322, -3.3169,\n",
            "        -3.3360, -3.6285, -3.4812, -3.4318, -3.4067, -3.4737, -3.4272, -3.5709,\n",
            "        -3.6296, -3.2418, -3.6145, -3.6983, -3.3822, -3.2964, -3.6529, -3.5624,\n",
            "        -3.4788, -3.5502, -3.4050, -3.3736, -3.6036, -3.3650, -3.4976, -3.4592,\n",
            "        -3.4417, -3.2422, -3.4300, -3.4077, -3.3145],\n",
            "       grad_fn=<SelectBackward0>), tensor([-3.3992, -3.4817, -3.5001, -3.4654, -3.5528, -3.6091, -3.4357, -3.4973,\n",
            "        -3.5263, -3.5166, -3.4031, -3.4196, -3.5883, -3.5342, -3.4233, -3.5601,\n",
            "        -3.3826, -3.4844, -3.5636, -3.4593, -3.5866, -3.4826, -3.5993, -3.4526,\n",
            "        -3.6077, -3.3857, -3.5447, -3.6301, -3.5620, -3.5087, -3.3852, -3.4835,\n",
            "        -3.2858, -3.3712, -3.4886, -3.4640, -3.4018, -3.6059, -3.4288, -3.4901,\n",
            "        -3.3874, -3.4272, -3.4760, -3.5632, -3.4686, -3.4575, -3.4854, -3.4491,\n",
            "        -3.5257, -3.5056, -3.3693, -3.3902, -3.4927, -3.4662, -3.4513, -3.4780,\n",
            "        -3.4104, -3.4471, -3.5023, -3.4429, -3.5748, -3.5812, -3.5604, -3.3512,\n",
            "        -3.3964, -3.5041, -3.4638, -3.4342, -3.5414, -3.4961, -3.4671, -3.5746,\n",
            "        -3.5282, -3.2985, -3.5195, -3.4692, -3.4181, -3.4158, -3.4616, -3.4122,\n",
            "        -3.5702, -3.5356, -3.4703, -3.4054, -3.4179],\n",
            "       grad_fn=<SelectBackward0>), tensor([-3.4209, -3.3031, -3.3923, -3.4966, -3.6547, -3.6013, -3.3021, -3.4901,\n",
            "        -3.6606, -3.4944, -3.3953, -3.4397, -3.6789, -3.6166, -3.3941, -3.5443,\n",
            "        -3.6307, -3.4810, -3.2999, -3.6779, -3.2496, -3.5091, -3.4848, -3.5928,\n",
            "        -3.5789, -3.4720, -3.3032, -3.5279, -3.4689, -3.6751, -3.3958, -3.2530,\n",
            "        -3.3488, -3.4603, -3.4768, -3.4232, -3.3877, -3.6249, -3.6019, -3.4138,\n",
            "        -3.3240, -3.6874, -3.3694, -3.5668, -3.3335, -3.4989, -3.5901, -3.3899,\n",
            "        -3.6091, -3.5497, -3.4044, -3.3881, -3.6226, -3.5866, -3.6724, -3.6166,\n",
            "        -3.6046, -3.3574, -3.5881, -3.4331, -3.4730, -3.6354, -3.5269, -3.4317,\n",
            "        -3.2908, -3.6223, -3.3354, -3.4541, -3.6978, -3.6309, -3.3738, -3.3694,\n",
            "        -3.4301, -3.4074, -3.6179, -3.5908, -3.3534, -3.4751, -3.5192, -3.3942,\n",
            "        -3.6163, -3.5046, -3.5270, -3.5384, -3.5481],\n",
            "       grad_fn=<SelectBackward0>), tensor([-3.4905, -3.3107, -3.4751, -3.5596, -3.4445, -3.6291, -3.4568, -3.3217,\n",
            "        -3.4341, -3.5289, -3.4013, -3.4888, -3.5946, -3.6528, -3.3510, -3.5486,\n",
            "        -3.5088, -3.5013, -3.3829, -3.6033, -3.4359, -3.5051, -3.5251, -3.4746,\n",
            "        -3.6028, -3.4358, -3.3841, -3.5818, -3.3903, -3.6183, -3.3318, -3.5172,\n",
            "        -3.3299, -3.4898, -3.4016, -3.5539, -3.3984, -3.5224, -3.4322, -3.4772,\n",
            "        -3.5060, -3.6012, -3.4058, -3.5675, -3.4174, -3.3711, -3.5464, -3.3604,\n",
            "        -3.5753, -3.5402, -3.4174, -3.4467, -3.5702, -3.4652, -3.5872, -3.6571,\n",
            "        -3.5283, -3.3224, -3.4502, -3.5092, -3.4804, -3.4831, -3.5168, -3.3728,\n",
            "        -3.3681, -3.6590, -3.3593, -3.3719, -3.5958, -3.5944, -3.3361, -3.3597,\n",
            "        -3.5040, -3.4213, -3.5098, -3.5147, -3.4318, -3.5096, -3.4605, -3.4963,\n",
            "        -3.5252, -3.6388, -3.5256, -3.5052, -3.5644],\n",
            "       grad_fn=<SelectBackward0>), tensor([-3.3415, -3.4000, -3.4082, -3.3892, -3.6077, -3.6041, -3.4799, -3.4448,\n",
            "        -3.5469, -3.6099, -3.4393, -3.5232, -3.5874, -3.3749, -3.7191, -3.6641,\n",
            "        -3.5462, -3.3520, -3.4191, -3.2846, -3.5355, -3.5425, -3.3842, -3.4593,\n",
            "        -3.5166, -3.3973, -3.5444, -3.3546, -3.4493, -3.3361, -3.6861, -3.4701,\n",
            "        -3.5441, -3.6036, -3.4749, -3.2281, -3.4153, -3.4997, -3.3846, -3.4168,\n",
            "        -3.4957, -3.5057, -3.3930, -3.4771, -3.5606, -3.6978, -3.5211, -3.5007,\n",
            "        -3.5917, -3.5295, -3.3206, -3.5362, -3.4087, -3.6033, -3.3668, -3.4911,\n",
            "        -3.3473, -3.5025, -3.4323, -3.4626, -3.5150, -3.4383, -3.4708, -3.4335,\n",
            "        -3.5084, -3.4918, -3.5963, -3.4079, -3.4265, -3.5195, -3.5836, -3.4850,\n",
            "        -3.3627, -3.5730, -3.5487, -3.5243, -3.3883, -3.4559, -3.4239, -3.5142,\n",
            "        -3.4777, -3.3749, -3.4741, -3.4081, -3.6452],\n",
            "       grad_fn=<SelectBackward0>), tensor([-3.4958, -3.4627, -3.4259, -3.4190, -3.3007, -3.5695, -3.6660, -3.4031,\n",
            "        -3.2897, -3.5006, -3.5198, -3.3221, -3.4150, -3.4735, -3.5000, -3.5803,\n",
            "        -3.3575, -3.5932, -3.4994, -3.5112, -3.5616, -3.4606, -3.5051, -3.5031,\n",
            "        -3.4332, -3.4791, -3.4803, -3.5897, -3.5061, -3.4316, -3.5365, -3.6664,\n",
            "        -3.4396, -3.5327, -3.5039, -3.5824, -3.4339, -3.3617, -3.2862, -3.5442,\n",
            "        -3.5394, -3.5263, -3.3794, -3.5417, -3.7242, -3.5218, -3.5050, -3.4412,\n",
            "        -3.4434, -3.3545, -3.5021, -3.4202, -3.4918, -3.5254, -3.3935, -3.4132,\n",
            "        -3.4493, -3.5403, -3.3250, -3.5112, -3.4769, -3.4460, -3.4777, -3.4225,\n",
            "        -3.5568, -3.5903, -3.4477, -3.3360, -3.3568, -3.5790, -3.4250, -3.4915,\n",
            "        -3.4421, -3.4096, -3.3685, -3.4828, -3.3558, -3.5789, -3.3940, -3.5628,\n",
            "        -3.4365, -3.7062, -3.4600, -3.5652, -3.6736],\n",
            "       grad_fn=<SelectBackward0>), tensor([-3.4127, -3.2740, -3.3921, -3.4964, -3.6022, -3.7644, -3.5149, -3.5133,\n",
            "        -3.5236, -3.6321, -3.4606, -3.4681, -3.6679, -3.4854, -3.5147, -3.7012,\n",
            "        -3.4771, -3.4150, -3.4644, -3.4416, -3.5586, -3.5740, -3.4269, -3.4671,\n",
            "        -3.6653, -3.2886, -3.4300, -3.5613, -3.3869, -3.4966, -3.5394, -3.3746,\n",
            "        -3.3706, -3.3398, -3.6104, -3.3548, -3.4202, -3.6198, -3.4336, -3.4566,\n",
            "        -3.4416, -3.4868, -3.3384, -3.5813, -3.4025, -3.5845, -3.6586, -3.3485,\n",
            "        -3.5662, -3.5249, -3.2853, -3.4266, -3.5007, -3.4518, -3.3770, -3.6033,\n",
            "        -3.3123, -3.3444, -3.3642, -3.4707, -3.3934, -3.6134, -3.5306, -3.3390,\n",
            "        -3.5480, -3.6370, -3.4733, -3.4912, -3.6005, -3.6017, -3.3778, -3.3590,\n",
            "        -3.4724, -3.4400, -3.5482, -3.5055, -3.4529, -3.3804, -3.3333, -3.5338,\n",
            "        -3.6875, -3.5263, -3.5005, -3.4246, -3.5904],\n",
            "       grad_fn=<SelectBackward0>), tensor([-3.3463, -3.4010, -3.4168, -3.3950, -3.5970, -3.5984, -3.4760, -3.4330,\n",
            "        -3.5384, -3.6023, -3.4377, -3.5232, -3.5888, -3.3879, -3.7070, -3.6530,\n",
            "        -3.5469, -3.3566, -3.4166, -3.2973, -3.5260, -3.5409, -3.3906, -3.4616,\n",
            "        -3.5100, -3.4066, -3.5429, -3.3580, -3.4519, -3.3500, -3.6708, -3.4797,\n",
            "        -3.5436, -3.6148, -3.4605, -3.2476, -3.4127, -3.4941, -3.3864, -3.4233,\n",
            "        -3.5003, -3.5174, -3.3960, -3.4703, -3.5605, -3.6826, -3.5168, -3.4999,\n",
            "        -3.5901, -3.5315, -3.3309, -3.5378, -3.4168, -3.6023, -3.3812, -3.4953,\n",
            "        -3.3631, -3.5048, -3.4361, -3.4683, -3.5211, -3.4330, -3.4750, -3.4377,\n",
            "        -3.4961, -3.4934, -3.5856, -3.4008, -3.4321, -3.5177, -3.5815, -3.4858,\n",
            "        -3.3646, -3.5699, -3.5464, -3.5238, -3.3899, -3.4608, -3.4382, -3.5136,\n",
            "        -3.4685, -3.3872, -3.4715, -3.4174, -3.6407],\n",
            "       grad_fn=<SelectBackward0>), tensor([-3.5013, -3.4633, -3.4352, -3.4255, -3.2896, -3.5631, -3.6618, -3.3900,\n",
            "        -3.2810, -3.4925, -3.5176, -3.3225, -3.4160, -3.4876, -3.4866, -3.5686,\n",
            "        -3.3584, -3.5983, -3.4962, -3.5250, -3.5515, -3.4589, -3.5121, -3.5053,\n",
            "        -3.4269, -3.4888, -3.4781, -3.5936, -3.5083, -3.4463, -3.5195, -3.6769,\n",
            "        -3.4383, -3.5447, -3.4885, -3.6034, -3.4312, -3.3561, -3.2881, -3.5506,\n",
            "        -3.5445, -3.5383, -3.3827, -3.5351, -3.7241, -3.5050, -3.5005, -3.4403,\n",
            "        -3.4420, -3.3567, -3.5133, -3.4218, -3.5005, -3.5238, -3.4091, -3.4181,\n",
            "        -3.4660, -3.5420, -3.3290, -3.5172, -3.4831, -3.4402, -3.4816, -3.4264,\n",
            "        -3.5435, -3.5922, -3.4362, -3.3284, -3.3627, -3.5772, -3.4224, -3.4917,\n",
            "        -3.4446, -3.4063, -3.3659, -3.4821, -3.3574, -3.5845, -3.4089, -3.5623,\n",
            "        -3.4272, -3.7192, -3.4579, -3.5750, -3.6687],\n",
            "       grad_fn=<SelectBackward0>), tensor([-3.3859, -3.4506, -3.6454, -3.4585, -3.4783, -3.3387, -3.3667, -3.4800,\n",
            "        -3.4125, -3.3554, -3.4834, -3.5945, -3.5923, -3.4054, -3.5521, -3.3474,\n",
            "        -3.4594, -3.2220, -3.5540, -3.2557, -3.4311, -3.6365, -3.3421, -3.4859,\n",
            "        -3.2636, -3.3707, -3.6056, -3.2836, -3.4963, -3.4867, -3.4312, -3.4247,\n",
            "        -3.7001, -3.6487, -3.3284, -3.3917, -3.4966, -3.3442, -3.5457, -3.5642,\n",
            "        -3.5699, -3.5733, -3.5291, -3.1184, -3.3682, -3.3802, -3.4607, -3.5559,\n",
            "        -3.4343, -3.5251, -3.4757, -3.6094, -3.5003, -3.3688, -3.4030, -3.4872,\n",
            "        -3.3477, -3.6245, -3.3894, -3.6006, -3.4685, -3.3595, -3.5812, -3.5582,\n",
            "        -3.4733, -3.2709, -3.5154, -3.5635, -3.5265, -3.2464, -3.6840, -3.4907,\n",
            "        -3.4293, -3.5943, -3.4058, -3.3581, -3.6282, -3.2762, -3.7180, -3.5824,\n",
            "        -3.3151, -3.3390, -3.3503, -3.5147, -3.2759],\n",
            "       grad_fn=<SelectBackward0>), tensor([-3.4791, -3.3239, -3.3883, -3.4528, -3.6050, -3.5449, -3.4010, -3.4806,\n",
            "        -3.6282, -3.4642, -3.3727, -3.4550, -3.5316, -3.5936, -3.4921, -3.6238,\n",
            "        -3.5957, -3.5213, -3.2761, -3.6538, -3.3135, -3.5250, -3.4640, -3.6117,\n",
            "        -3.5809, -3.4484, -3.2858, -3.5220, -3.4207, -3.5569, -3.4553, -3.3414,\n",
            "        -3.4086, -3.5460, -3.5128, -3.3958, -3.4626, -3.4913, -3.5569, -3.3640,\n",
            "        -3.4043, -3.6291, -3.4169, -3.6549, -3.5047, -3.5100, -3.5505, -3.4837,\n",
            "        -3.6548, -3.4754, -3.5101, -3.3974, -3.5917, -3.5917, -3.6584, -3.6228,\n",
            "        -3.5272, -3.3834, -3.5167, -3.4472, -3.4251, -3.4923, -3.4327, -3.4049,\n",
            "        -3.4113, -3.6196, -3.4119, -3.4765, -3.5405, -3.6411, -3.4303, -3.3219,\n",
            "        -3.4562, -3.4924, -3.5042, -3.5599, -3.3070, -3.5657, -3.4575, -3.4836,\n",
            "        -3.5350, -3.4835, -3.6299, -3.5477, -3.6547],\n",
            "       grad_fn=<SelectBackward0>), tensor([-3.4241, -3.4337, -3.5329, -3.5109, -3.4304, -3.5796, -3.3924, -3.3282,\n",
            "        -3.4298, -3.4693, -3.3981, -3.3889, -3.6329, -3.6673, -3.3017, -3.4607,\n",
            "        -3.4440, -3.5384, -3.4723, -3.6184, -3.4270, -3.4603, -3.6389, -3.4985,\n",
            "        -3.5184, -3.5090, -3.4910, -3.6397, -3.5760, -3.6682, -3.2590, -3.5625,\n",
            "        -3.2767, -3.5211, -3.3194, -3.6325, -3.3312, -3.5478, -3.4171, -3.5547,\n",
            "        -3.4264, -3.6380, -3.4305, -3.4992, -3.4655, -3.3436, -3.4741, -3.3953,\n",
            "        -3.5241, -3.5285, -3.4261, -3.4070, -3.5971, -3.5227, -3.6127, -3.5261,\n",
            "        -3.6166, -3.4512, -3.5389, -3.4995, -3.6380, -3.5433, -3.6059, -3.4008,\n",
            "        -3.2334, -3.5784, -3.3215, -3.2933, -3.6095, -3.5427, -3.4042, -3.5554,\n",
            "        -3.4864, -3.2755, -3.5297, -3.5180, -3.3771, -3.4984, -3.5934, -3.4027,\n",
            "        -3.4764, -3.6939, -3.4325, -3.5358, -3.4570],\n",
            "       grad_fn=<SelectBackward0>), tensor([-3.4270, -3.4372, -3.5883, -3.4657, -3.5024, -3.5690, -3.4474, -3.4135,\n",
            "        -3.4734, -3.4494, -3.3260, -3.4625, -3.5552, -3.6157, -3.4247, -3.6043,\n",
            "        -3.3348, -3.4701, -3.5563, -3.4524, -3.6244, -3.5634, -3.6260, -3.4805,\n",
            "        -3.6234, -3.3109, -3.5472, -3.6687, -3.5288, -3.5068, -3.2740, -3.5624,\n",
            "        -3.2852, -3.4889, -3.4173, -3.4770, -3.4340, -3.4891, -3.4050, -3.4888,\n",
            "        -3.4743, -3.4527, -3.5362, -3.5869, -3.5417, -3.3241, -3.4565, -3.5193,\n",
            "        -3.6137, -3.4934, -3.4491, -3.4040, -3.5433, -3.4167, -3.5072, -3.5683,\n",
            "        -3.3412, -3.4453, -3.4369, -3.5127, -3.5778, -3.4339, -3.5577, -3.2852,\n",
            "        -3.4061, -3.5000, -3.4750, -3.4309, -3.4927, -3.4682, -3.5249, -3.5238,\n",
            "        -3.5896, -3.3277, -3.4130, -3.4152, -3.3892, -3.4402, -3.5137, -3.5121,\n",
            "        -3.4714, -3.5557, -3.5576, -3.4385, -3.4196],\n",
            "       grad_fn=<SelectBackward0>)]\n",
            "tensor([[ 1, 16, 52,  7,  2,  0,  0,  0,  0,  0,  0,  0,  0,  0,  0,  0,  0,  0,\n",
            "          0,  0,  0,  0,  0,  0,  0,  0,  0,  0,  0,  0,  0,  0]])\n"
          ]
        },
        {
          "output_type": "error",
          "ename": "IndexError",
          "evalue": "ignored",
          "traceback": [
            "\u001b[0;31m---------------------------------------------------------------------------\u001b[0m",
            "\u001b[0;31mIndexError\u001b[0m                                Traceback (most recent call last)",
            "\u001b[0;32m<ipython-input-78-7dc67df6fe04>\u001b[0m in \u001b[0;36m<module>\u001b[0;34m\u001b[0m\n\u001b[0;32m----> 1\u001b[0;31m \u001b[0metpmodel\u001b[0m\u001b[0;34m.\u001b[0m\u001b[0mtrain_model\u001b[0m\u001b[0;34m(\u001b[0m\u001b[0metp_train_dataloader\u001b[0m\u001b[0;34m,\u001b[0m \u001b[0mnn\u001b[0m\u001b[0;34m.\u001b[0m\u001b[0mCrossEntropyLoss\u001b[0m\u001b[0;34m(\u001b[0m\u001b[0;34m)\u001b[0m\u001b[0;34m,\u001b[0m \u001b[0moptim\u001b[0m\u001b[0;34m.\u001b[0m\u001b[0mAdam\u001b[0m\u001b[0;34m(\u001b[0m\u001b[0metpmodel\u001b[0m\u001b[0;34m.\u001b[0m\u001b[0mencoder_model\u001b[0m\u001b[0;34m.\u001b[0m\u001b[0mparameters\u001b[0m\u001b[0;34m(\u001b[0m\u001b[0;34m)\u001b[0m\u001b[0;34m,\u001b[0m \u001b[0mlr\u001b[0m\u001b[0;34m=\u001b[0m\u001b[0;36m0.05\u001b[0m\u001b[0;34m)\u001b[0m\u001b[0;34m,\u001b[0m \u001b[0moptim\u001b[0m\u001b[0;34m.\u001b[0m\u001b[0mAdam\u001b[0m\u001b[0;34m(\u001b[0m\u001b[0metpmodel\u001b[0m\u001b[0;34m.\u001b[0m\u001b[0mdecoder_model\u001b[0m\u001b[0;34m.\u001b[0m\u001b[0mparameters\u001b[0m\u001b[0;34m(\u001b[0m\u001b[0;34m)\u001b[0m\u001b[0;34m,\u001b[0m \u001b[0mlr\u001b[0m\u001b[0;34m=\u001b[0m\u001b[0;36m0.05\u001b[0m\u001b[0;34m)\u001b[0m\u001b[0;34m)\u001b[0m\u001b[0;34m\u001b[0m\u001b[0;34m\u001b[0m\u001b[0m\n\u001b[0m",
            "\u001b[0;32m<ipython-input-76-f885287732e2>\u001b[0m in \u001b[0;36mtrain_model\u001b[0;34m(self, dataloader, loss_func, encoder_optimizer, decoder_optimizer)\u001b[0m\n\u001b[1;32m     74\u001b[0m       \u001b[0mprediction\u001b[0m\u001b[0;34m=\u001b[0m\u001b[0mVariable\u001b[0m\u001b[0;34m(\u001b[0m\u001b[0mprediction\u001b[0m\u001b[0;34m.\u001b[0m\u001b[0mdata\u001b[0m\u001b[0;34m,\u001b[0m \u001b[0mrequires_grad\u001b[0m\u001b[0;34m=\u001b[0m\u001b[0;32mTrue\u001b[0m\u001b[0;34m)\u001b[0m\u001b[0;34m\u001b[0m\u001b[0;34m\u001b[0m\u001b[0m\n\u001b[1;32m     75\u001b[0m       \u001b[0;31m#Gets the loss between the prediction and y\u001b[0m\u001b[0;34m\u001b[0m\u001b[0;34m\u001b[0m\u001b[0;34m\u001b[0m\u001b[0m\n\u001b[0;32m---> 76\u001b[0;31m       \u001b[0mloss\u001b[0m\u001b[0;34m=\u001b[0m\u001b[0mloss_func\u001b[0m\u001b[0;34m(\u001b[0m\u001b[0mprediction\u001b[0m\u001b[0;34m[\u001b[0m\u001b[0;36m0\u001b[0m\u001b[0;34m]\u001b[0m\u001b[0;34m,\u001b[0m \u001b[0my\u001b[0m\u001b[0;34m.\u001b[0m\u001b[0mfloat\u001b[0m\u001b[0;34m(\u001b[0m\u001b[0;34m)\u001b[0m\u001b[0;34m[\u001b[0m\u001b[0;36m0\u001b[0m\u001b[0;34m]\u001b[0m\u001b[0;34m)\u001b[0m\u001b[0;34m\u001b[0m\u001b[0;34m\u001b[0m\u001b[0m\n\u001b[0m\u001b[1;32m     77\u001b[0m      \u001b[0;31m# print(\"d\")\u001b[0m\u001b[0;34m\u001b[0m\u001b[0;34m\u001b[0m\u001b[0;34m\u001b[0m\u001b[0m\n\u001b[1;32m     78\u001b[0m       \u001b[0;31m#Zeroes the gradients of the optimizer\u001b[0m\u001b[0;34m\u001b[0m\u001b[0;34m\u001b[0m\u001b[0;34m\u001b[0m\u001b[0m\n",
            "\u001b[0;32m/usr/local/lib/python3.7/dist-packages/torch/nn/modules/module.py\u001b[0m in \u001b[0;36m_call_impl\u001b[0;34m(self, *input, **kwargs)\u001b[0m\n\u001b[1;32m   1128\u001b[0m         if not (self._backward_hooks or self._forward_hooks or self._forward_pre_hooks or _global_backward_hooks\n\u001b[1;32m   1129\u001b[0m                 or _global_forward_hooks or _global_forward_pre_hooks):\n\u001b[0;32m-> 1130\u001b[0;31m             \u001b[0;32mreturn\u001b[0m \u001b[0mforward_call\u001b[0m\u001b[0;34m(\u001b[0m\u001b[0;34m*\u001b[0m\u001b[0minput\u001b[0m\u001b[0;34m,\u001b[0m \u001b[0;34m**\u001b[0m\u001b[0mkwargs\u001b[0m\u001b[0;34m)\u001b[0m\u001b[0;34m\u001b[0m\u001b[0;34m\u001b[0m\u001b[0m\n\u001b[0m\u001b[1;32m   1131\u001b[0m         \u001b[0;31m# Do not call functions when jit is used\u001b[0m\u001b[0;34m\u001b[0m\u001b[0;34m\u001b[0m\u001b[0;34m\u001b[0m\u001b[0m\n\u001b[1;32m   1132\u001b[0m         \u001b[0mfull_backward_hooks\u001b[0m\u001b[0;34m,\u001b[0m \u001b[0mnon_full_backward_hooks\u001b[0m \u001b[0;34m=\u001b[0m \u001b[0;34m[\u001b[0m\u001b[0;34m]\u001b[0m\u001b[0;34m,\u001b[0m \u001b[0;34m[\u001b[0m\u001b[0;34m]\u001b[0m\u001b[0;34m\u001b[0m\u001b[0;34m\u001b[0m\u001b[0m\n",
            "\u001b[0;32m/usr/local/lib/python3.7/dist-packages/torch/nn/modules/loss.py\u001b[0m in \u001b[0;36mforward\u001b[0;34m(self, input, target)\u001b[0m\n\u001b[1;32m   1164\u001b[0m         return F.cross_entropy(input, target, weight=self.weight,\n\u001b[1;32m   1165\u001b[0m                                \u001b[0mignore_index\u001b[0m\u001b[0;34m=\u001b[0m\u001b[0mself\u001b[0m\u001b[0;34m.\u001b[0m\u001b[0mignore_index\u001b[0m\u001b[0;34m,\u001b[0m \u001b[0mreduction\u001b[0m\u001b[0;34m=\u001b[0m\u001b[0mself\u001b[0m\u001b[0;34m.\u001b[0m\u001b[0mreduction\u001b[0m\u001b[0;34m,\u001b[0m\u001b[0;34m\u001b[0m\u001b[0;34m\u001b[0m\u001b[0m\n\u001b[0;32m-> 1166\u001b[0;31m                                label_smoothing=self.label_smoothing)\n\u001b[0m\u001b[1;32m   1167\u001b[0m \u001b[0;34m\u001b[0m\u001b[0m\n\u001b[1;32m   1168\u001b[0m \u001b[0;34m\u001b[0m\u001b[0m\n",
            "\u001b[0;32m/usr/local/lib/python3.7/dist-packages/torch/nn/functional.py\u001b[0m in \u001b[0;36mcross_entropy\u001b[0;34m(input, target, weight, size_average, ignore_index, reduce, reduction, label_smoothing)\u001b[0m\n\u001b[1;32m   3012\u001b[0m     \u001b[0;32mif\u001b[0m \u001b[0msize_average\u001b[0m \u001b[0;32mis\u001b[0m \u001b[0;32mnot\u001b[0m \u001b[0;32mNone\u001b[0m \u001b[0;32mor\u001b[0m \u001b[0mreduce\u001b[0m \u001b[0;32mis\u001b[0m \u001b[0;32mnot\u001b[0m \u001b[0;32mNone\u001b[0m\u001b[0;34m:\u001b[0m\u001b[0;34m\u001b[0m\u001b[0;34m\u001b[0m\u001b[0m\n\u001b[1;32m   3013\u001b[0m         \u001b[0mreduction\u001b[0m \u001b[0;34m=\u001b[0m \u001b[0m_Reduction\u001b[0m\u001b[0;34m.\u001b[0m\u001b[0mlegacy_get_string\u001b[0m\u001b[0;34m(\u001b[0m\u001b[0msize_average\u001b[0m\u001b[0;34m,\u001b[0m \u001b[0mreduce\u001b[0m\u001b[0;34m)\u001b[0m\u001b[0;34m\u001b[0m\u001b[0;34m\u001b[0m\u001b[0m\n\u001b[0;32m-> 3014\u001b[0;31m     \u001b[0;32mreturn\u001b[0m \u001b[0mtorch\u001b[0m\u001b[0;34m.\u001b[0m\u001b[0m_C\u001b[0m\u001b[0;34m.\u001b[0m\u001b[0m_nn\u001b[0m\u001b[0;34m.\u001b[0m\u001b[0mcross_entropy_loss\u001b[0m\u001b[0;34m(\u001b[0m\u001b[0minput\u001b[0m\u001b[0;34m,\u001b[0m \u001b[0mtarget\u001b[0m\u001b[0;34m,\u001b[0m \u001b[0mweight\u001b[0m\u001b[0;34m,\u001b[0m \u001b[0m_Reduction\u001b[0m\u001b[0;34m.\u001b[0m\u001b[0mget_enum\u001b[0m\u001b[0;34m(\u001b[0m\u001b[0mreduction\u001b[0m\u001b[0;34m)\u001b[0m\u001b[0;34m,\u001b[0m \u001b[0mignore_index\u001b[0m\u001b[0;34m,\u001b[0m \u001b[0mlabel_smoothing\u001b[0m\u001b[0;34m)\u001b[0m\u001b[0;34m\u001b[0m\u001b[0;34m\u001b[0m\u001b[0m\n\u001b[0m\u001b[1;32m   3015\u001b[0m \u001b[0;34m\u001b[0m\u001b[0m\n\u001b[1;32m   3016\u001b[0m \u001b[0;34m\u001b[0m\u001b[0m\n",
            "\u001b[0;31mIndexError\u001b[0m: Dimension out of range (expected to be in range of [-1, 0], but got 1)"
          ]
        }
      ],
      "source": [
        "etpmodel.train_model(etp_train_dataloader, nn.CrossEntropyLoss(), optim.Adam(etpmodel.encoder_model.parameters(), lr=0.05), optim.Adam(etpmodel.decoder_model.parameters(), lr=0.05))"
      ]
    },
    {
      "cell_type": "code",
      "execution_count": null,
      "metadata": {
        "colab": {
          "base_uri": "https://localhost:8080/"
        },
        "id": "aARaVZLfeMMJ",
        "outputId": "f4a40052-3dbe-44be-b769-fd5df476392b"
      },
      "outputs": [
        {
          "name": "stdout",
          "output_type": "stream",
          "text": [
            "108124\n"
          ]
        }
      ],
      "source": [
        "print(len(list(enumerate(etp_train_dataloader))))"
      ]
    },
    {
      "cell_type": "code",
      "execution_count": null,
      "metadata": {
        "id": "AMQcqefHdz8J"
      },
      "outputs": [],
      "source": [
        "for batch, (x, y) in enumerate(etp_train_dataloader):\n",
        "  print(etpmodel(x))"
      ]
    },
    {
      "cell_type": "code",
      "execution_count": null,
      "metadata": {
        "id": "b-zev54Kok98"
      },
      "outputs": [],
      "source": [
        "\n",
        "etpencodermodel=Sequential()\n",
        "#tokenized_phonetics=tokenized_phonetics.reshape(tokenized_phonetics.shape[0], tokenized_phonetics.shape[1], 1).astype('float32')\n",
        "\n",
        "print(tokenized_words[:1000])\n",
        "etpmodel.add(Bidirectional(LSTM(word_length, return_sequences=True)))\n",
        "etpmodel.add(Bidirectional(LSTM(2, return_sequences=True)))\n",
        "\n",
        "etpmodel.compile(loss=\"categorical_crossentropy\", optimizer=\"adam\", metrics=['acc'])"
      ]
    },
    {
      "cell_type": "code",
      "execution_count": null,
      "metadata": {
        "colab": {
          "base_uri": "https://localhost:8080/"
        },
        "id": "nHigu-wejgnF",
        "outputId": "4a0cdcd2-90e3-4f33-8e96-32829e588fea"
      },
      "outputs": [
        {
          "name": "stdout",
          "output_type": "stream",
          "text": [
            "28\n"
          ]
        }
      ],
      "source": [
        "print()"
      ]
    },
    {
      "cell_type": "code",
      "execution_count": null,
      "metadata": {
        "colab": {
          "base_uri": "https://localhost:8080/"
        },
        "id": "MRUiFQSLP5nA",
        "outputId": "3f05491d-191d-460e-f582-0ac122ad451c"
      },
      "outputs": [
        {
          "name": "stdout",
          "output_type": "stream",
          "text": [
            "Epoch 1/3\n",
            "3802/3802 [==============================] - 145s 36ms/step - loss: 217.1068 - acc: 0.0985 - val_loss: 228.2661 - val_acc: 0.1805\n",
            "Epoch 2/3\n",
            "3802/3802 [==============================] - 135s 36ms/step - loss: 223.2668 - acc: 0.1957 - val_loss: 246.7397 - val_acc: 0.1805\n",
            "Epoch 3/3\n",
            "3802/3802 [==============================] - 134s 35ms/step - loss: 246.0293 - acc: 0.1957 - val_loss: 271.9679 - val_acc: 0.1805\n"
          ]
        },
        {
          "data": {
            "text/plain": [
              "<keras.callbacks.History at 0x7ff84fda7610>"
            ]
          },
          "execution_count": 24,
          "metadata": {},
          "output_type": "execute_result"
        }
      ],
      "source": [
        "etpmodel.fit(tokenized_words, tokenized_phonetics, epochs=3, validation_split=0.1)"
      ]
    },
    {
      "cell_type": "code",
      "execution_count": null,
      "metadata": {
        "colab": {
          "base_uri": "https://localhost:8080/"
        },
        "id": "hmmvp6BTJdly",
        "outputId": "c46a24cd-766e-47f9-9c2f-565bc564c650"
      },
      "outputs": [
        {
          "name": "stdout",
          "output_type": "stream",
          "text": [
            "[[17  2  9  9  5]]\n"
          ]
        }
      ],
      "source": [
        "word=\"balls\"\n",
        "tokenized_word_test=np.array(letter_tokenizer.texts_to_sequences([list(word)]))\n",
        "print(tokenized_word_test)"
      ]
    },
    {
      "cell_type": "code",
      "execution_count": null,
      "metadata": {
        "colab": {
          "base_uri": "https://localhost:8080/"
        },
        "id": "Ai02LAD1J7c4",
        "outputId": "3ccab380-dcff-48bb-e518-f9e3a74f2dfb"
      },
      "outputs": [
        {
          "name": "stdout",
          "output_type": "stream",
          "text": [
            "tf.Tensor(\n",
            "[[1.17963425e-26 4.67159884e-26 2.56787429e-26 2.14984857e-26\n",
            "  3.22911522e-26 1.49747339e-26 2.03534264e-26 2.97221404e-26\n",
            "  2.19658689e-26 4.62203712e-26 1.21531270e-25 1.12930615e-24\n",
            "  1.66428336e-23 9.15431353e-22 9.30941438e-20 1.69180114e-16\n",
            "  5.07423747e-13 1.65561387e-09 6.24991969e-07 2.17812922e-04\n",
            "  3.88885126e-03 8.19307044e-02 7.55403265e-02 9.99388546e-02\n",
            "  1.32787436e-01 3.24861586e-01 1.51023388e-01 1.29810423e-01]], shape=(1, 28), dtype=float32)\n"
          ]
        }
      ],
      "source": [
        "print(etpmodel(tokenized_word_test.reshape(tokenized_word_test.shape[0], tokenized_word_test.shape[1], 1)))"
      ]
    },
    {
      "cell_type": "markdown",
      "metadata": {
        "id": "u3M0CFrBPon3"
      },
      "source": []
    }
  ],
  "metadata": {
    "colab": {
      "toc_visible": true,
      "provenance": [],
      "authorship_tag": "ABX9TyM5f8Wl42s20Qd2xkXDlza4",
      "include_colab_link": true
    },
    "kernelspec": {
      "display_name": "Python 3",
      "name": "python3"
    },
    "language_info": {
      "name": "python"
    }
  },
  "nbformat": 4,
  "nbformat_minor": 0
}